{
  "cells": [
    {
      "cell_type": "markdown",
      "metadata": {
        "id": "awKq9KP2_SWV"
      },
      "source": [
        "# Numpy\n",
        "\n"
      ]
    },
    {
      "cell_type": "markdown",
      "metadata": {
        "id": "s5c7CbwY_SWb"
      },
      "source": [
        "#### 1. Import the numpy package under the name `np` (★☆☆) \n",
        "(**hint**: import … as …)"
      ]
    },
    {
      "cell_type": "code",
      "execution_count": 1,
      "metadata": {
        "collapsed": true,
        "id": "1daWu1lV_SWr"
      },
      "outputs": [],
      "source": [
        "import numpy as np"
      ]
    },
    {
      "cell_type": "markdown",
      "metadata": {
        "id": "Gen6c6JN_SWs"
      },
      "source": [
        "#### 2. Print the numpy version and the configuration (★☆☆) \n",
        "(**hint**: np.\\_\\_version\\_\\_, np.show\\_config)"
      ]
    },
    {
      "cell_type": "code",
      "execution_count": 2,
      "metadata": {
        "colab": {
          "base_uri": "https://localhost:8080/"
        },
        "id": "AB8dtX-u_SWt",
        "outputId": "0e8100cd-e9f2-43c4-f6bd-c0516821952e"
      },
      "outputs": [
        {
          "output_type": "stream",
          "name": "stdout",
          "text": [
            "1.21.5\n",
            "blas_mkl_info:\n",
            "  NOT AVAILABLE\n",
            "blis_info:\n",
            "  NOT AVAILABLE\n",
            "openblas_info:\n",
            "    libraries = ['openblas', 'openblas']\n",
            "    library_dirs = ['/usr/local/lib']\n",
            "    language = c\n",
            "    define_macros = [('HAVE_CBLAS', None)]\n",
            "    runtime_library_dirs = ['/usr/local/lib']\n",
            "blas_opt_info:\n",
            "    libraries = ['openblas', 'openblas']\n",
            "    library_dirs = ['/usr/local/lib']\n",
            "    language = c\n",
            "    define_macros = [('HAVE_CBLAS', None)]\n",
            "    runtime_library_dirs = ['/usr/local/lib']\n",
            "lapack_mkl_info:\n",
            "  NOT AVAILABLE\n",
            "openblas_lapack_info:\n",
            "    libraries = ['openblas', 'openblas']\n",
            "    library_dirs = ['/usr/local/lib']\n",
            "    language = c\n",
            "    define_macros = [('HAVE_CBLAS', None)]\n",
            "    runtime_library_dirs = ['/usr/local/lib']\n",
            "lapack_opt_info:\n",
            "    libraries = ['openblas', 'openblas']\n",
            "    library_dirs = ['/usr/local/lib']\n",
            "    language = c\n",
            "    define_macros = [('HAVE_CBLAS', None)]\n",
            "    runtime_library_dirs = ['/usr/local/lib']\n",
            "Supported SIMD extensions in this NumPy install:\n",
            "    baseline = SSE,SSE2,SSE3\n",
            "    found = SSSE3,SSE41,POPCNT,SSE42,AVX,F16C,FMA3,AVX2\n",
            "    not found = AVX512F,AVX512CD,AVX512_KNL,AVX512_KNM,AVX512_SKX,AVX512_CLX,AVX512_CNL,AVX512_ICL\n",
            "None\n"
          ]
        }
      ],
      "source": [
        "print(np.__version__)\n",
        "print(np.show_config())"
      ]
    },
    {
      "cell_type": "markdown",
      "metadata": {
        "id": "a7PCtYpO_SWu"
      },
      "source": [
        "#### 3. Create a null vector of size 10 (★☆☆) \n",
        "(**hint**: np.zeros)"
      ]
    },
    {
      "cell_type": "code",
      "execution_count": null,
      "metadata": {
        "colab": {
          "base_uri": "https://localhost:8080/"
        },
        "id": "zRqePpB5_SWu",
        "outputId": "767e5bb5-5439-48d6-e7c4-8056d2feb963"
      },
      "outputs": [
        {
          "output_type": "stream",
          "name": "stdout",
          "text": [
            "[0. 0. 0. 0. 0. 0. 0. 0. 0. 0.]\n"
          ]
        }
      ],
      "source": [
        "a=np.zeros(10)\n",
        "print(a)"
      ]
    },
    {
      "cell_type": "markdown",
      "metadata": {
        "id": "H_LceZEi_SWv"
      },
      "source": [
        "#### 4.  How to find the memory size of any array (★☆☆) \n",
        "(**hint**: size, itemsize)"
      ]
    },
    {
      "cell_type": "code",
      "source": [
        "a.nbytes"
      ],
      "metadata": {
        "colab": {
          "base_uri": "https://localhost:8080/"
        },
        "id": "DLzErr83C0xb",
        "outputId": "9e4f73a8-96a1-4826-e0dd-e8d8c7923160"
      },
      "execution_count": null,
      "outputs": [
        {
          "output_type": "execute_result",
          "data": {
            "text/plain": [
              "80"
            ]
          },
          "metadata": {},
          "execution_count": 12
        }
      ]
    },
    {
      "cell_type": "code",
      "execution_count": null,
      "metadata": {
        "colab": {
          "base_uri": "https://localhost:8080/"
        },
        "id": "bahEFKZa_SWw",
        "outputId": "72ff8942-5966-4399-bf35-b02147b787c4"
      },
      "outputs": [
        {
          "output_type": "stream",
          "name": "stdout",
          "text": [
            "80\n"
          ]
        }
      ],
      "source": [
        "print(a.size*a.itemsize)"
      ]
    },
    {
      "cell_type": "markdown",
      "metadata": {
        "id": "7z6ZPBYM_SWw"
      },
      "source": [
        "#### 5.  How to get the documentation of the numpy add function from the command line? (★☆☆) \n",
        "(**hint**: np.info)"
      ]
    },
    {
      "cell_type": "code",
      "execution_count": null,
      "metadata": {
        "colab": {
          "base_uri": "https://localhost:8080/"
        },
        "id": "cvyaiHFB_SWx",
        "outputId": "3dd8e567-673e-494d-a677-c23a8f349711"
      },
      "outputs": [
        {
          "output_type": "stream",
          "name": "stdout",
          "text": [
            "None\n"
          ]
        }
      ],
      "source": [
        "print(np.info(np.add))"
      ]
    },
    {
      "cell_type": "markdown",
      "metadata": {
        "id": "zueYXNm4_SWy"
      },
      "source": [
        "#### 6.  Create a null vector of size 10 but the fifth value which is 1 (★☆☆) \n",
        "(**hint**: array\\[4\\])"
      ]
    },
    {
      "cell_type": "code",
      "execution_count": 3,
      "metadata": {
        "id": "2K9m8SJ2_SWy",
        "colab": {
          "base_uri": "https://localhost:8080/"
        },
        "outputId": "a725d379-dbe8-4acf-8320-8ebb9068f63a"
      },
      "outputs": [
        {
          "output_type": "stream",
          "name": "stdout",
          "text": [
            "[0. 0. 0. 0. 1. 0. 0. 0. 0. 0.]\n"
          ]
        }
      ],
      "source": [
        "a=np.zeros(10)\n",
        "a[4]=1\n",
        "print(a)"
      ]
    },
    {
      "cell_type": "code",
      "source": [
        "b=np.array([int(x==4) for x in range(10)])\n",
        "print(b)"
      ],
      "metadata": {
        "colab": {
          "base_uri": "https://localhost:8080/"
        },
        "id": "Ay166SJql_Gk",
        "outputId": "9b7a8cca-b25a-41c0-8a26-e546da5a392a"
      },
      "execution_count": null,
      "outputs": [
        {
          "output_type": "stream",
          "name": "stdout",
          "text": [
            "[0 0 0 0 1 0 0 0 0 0]\n"
          ]
        }
      ]
    },
    {
      "cell_type": "markdown",
      "metadata": {
        "id": "WKomTev8_SWz"
      },
      "source": [
        "#### 7.  Create a vector with values ranging from 10 to 49 (★☆☆) \n",
        "(**hint**: np.arange)"
      ]
    },
    {
      "cell_type": "code",
      "execution_count": null,
      "metadata": {
        "id": "W6hTrzbf_SW0",
        "colab": {
          "base_uri": "https://localhost:8080/"
        },
        "outputId": "8718f7d8-785a-44c6-d9d2-4d5affa5c594"
      },
      "outputs": [
        {
          "output_type": "stream",
          "name": "stdout",
          "text": [
            "[10 11 12 13 14 15 16 17 18 19 20 21 22 23 24 25 26 27 28 29 30 31 32 33\n",
            " 34 35 36 37 38 39 40 41 42 43 44 45 46 47 48 49]\n"
          ]
        }
      ],
      "source": [
        "a=np.arange(10,50)\n",
        "print(a)"
      ]
    },
    {
      "cell_type": "markdown",
      "metadata": {
        "id": "4DoW2JRG_SW0"
      },
      "source": [
        "#### 8.  Reverse a vector (first element becomes last) (★☆☆) \n",
        "(**hint**: array\\[::-1\\])"
      ]
    },
    {
      "cell_type": "code",
      "execution_count": null,
      "metadata": {
        "id": "ieSNdcxE_SW1",
        "colab": {
          "base_uri": "https://localhost:8080/"
        },
        "outputId": "6f7160f2-0d91-4e69-e231-2d1c888b2493"
      },
      "outputs": [
        {
          "output_type": "stream",
          "name": "stdout",
          "text": [
            "[8 7 6 5 4 3 2 1]\n"
          ]
        }
      ],
      "source": [
        "b=np.arange(1,9)\n",
        "print(b[::-1])"
      ]
    },
    {
      "cell_type": "markdown",
      "metadata": {
        "id": "6U85ywL5_SW1"
      },
      "source": [
        "#### 9.  Create a 3x3 matrix with values ranging from 0 to 8 (★☆☆) \n",
        "(**hint**: reshape)"
      ]
    },
    {
      "cell_type": "code",
      "execution_count": null,
      "metadata": {
        "id": "KyzWdxI4_SW2",
        "colab": {
          "base_uri": "https://localhost:8080/"
        },
        "outputId": "45e5804b-ad1f-46b8-9b5f-bf8a709dbdfe"
      },
      "outputs": [
        {
          "output_type": "stream",
          "name": "stdout",
          "text": [
            "[[0 1 2]\n",
            " [3 4 5]\n",
            " [6 7 8]]\n"
          ]
        }
      ],
      "source": [
        "c=np.arange(0,9).reshape(3,3)\n",
        "print(c)"
      ]
    },
    {
      "cell_type": "markdown",
      "metadata": {
        "id": "Mql8j2a6_SW2"
      },
      "source": [
        "#### 10. Find indices of non-zero elements from \\[1,2,0,0,4,0\\] (★☆☆) \n",
        "(**hint**: np.nonzero)"
      ]
    },
    {
      "cell_type": "code",
      "execution_count": null,
      "metadata": {
        "id": "toyZfcwy_SW3",
        "colab": {
          "base_uri": "https://localhost:8080/"
        },
        "outputId": "74792d10-8a49-432d-d594-23c30cab18fb"
      },
      "outputs": [
        {
          "output_type": "stream",
          "name": "stdout",
          "text": [
            "(array([0, 1, 4]),)\n"
          ]
        }
      ],
      "source": [
        "a=np.array([1,2,0,0,4,0])\n",
        "print(np.nonzero(a))"
      ]
    },
    {
      "cell_type": "markdown",
      "metadata": {
        "id": "X3ZZ1Usq_SW4"
      },
      "source": [
        "#### 11. Create a 3x3 identity matrix (★☆☆) \n",
        "(**hint**: np.eye)"
      ]
    },
    {
      "cell_type": "code",
      "execution_count": null,
      "metadata": {
        "id": "GHaRbTZ0_SW4",
        "colab": {
          "base_uri": "https://localhost:8080/"
        },
        "outputId": "9d6ab0ca-6dc6-4f0a-aaf9-e9d4c2fa1b99"
      },
      "outputs": [
        {
          "output_type": "execute_result",
          "data": {
            "text/plain": [
              "array([[1., 0., 0.],\n",
              "       [0., 1., 0.],\n",
              "       [0., 0., 1.]])"
            ]
          },
          "metadata": {},
          "execution_count": 21
        }
      ],
      "source": [
        "np.eye(3)"
      ]
    },
    {
      "cell_type": "markdown",
      "metadata": {
        "id": "TpGXEhpY_SW5"
      },
      "source": [
        "#### 12. Create a 3x3x3 array with random values (★☆☆) \n",
        "(**hint**: np.random.random)"
      ]
    },
    {
      "cell_type": "code",
      "execution_count": null,
      "metadata": {
        "id": "4ahRAMgm_SW5",
        "colab": {
          "base_uri": "https://localhost:8080/"
        },
        "outputId": "35328ad3-6cf0-4f0a-a02d-abfd30674910"
      },
      "outputs": [
        {
          "output_type": "execute_result",
          "data": {
            "text/plain": [
              "array([[[0.49488211, 0.28925855, 0.85416914],\n",
              "        [0.11531667, 0.11660042, 0.50875917],\n",
              "        [0.73648289, 0.16755788, 0.85012768]],\n",
              "\n",
              "       [[0.45982783, 0.74457231, 0.73851635],\n",
              "        [0.5813281 , 0.1035226 , 0.10913054],\n",
              "        [0.87945123, 0.93430887, 0.24565635]],\n",
              "\n",
              "       [[0.05238403, 0.28249524, 0.05670907],\n",
              "        [0.96417527, 0.06783112, 0.64525005],\n",
              "        [0.09984548, 0.13000664, 0.59561701]]])"
            ]
          },
          "metadata": {},
          "execution_count": 23
        }
      ],
      "source": [
        "a=np.random.random((3,3,3))\n",
        "a"
      ]
    },
    {
      "cell_type": "markdown",
      "metadata": {
        "id": "Xeonc62X_SW5"
      },
      "source": [
        "#### 13. Create a 10x10 array with random values and find the minimum and maximum values (★☆☆) \n",
        "(**hint**: min, max)"
      ]
    },
    {
      "cell_type": "code",
      "execution_count": null,
      "metadata": {
        "id": "sYCjsw-N_SW6",
        "colab": {
          "base_uri": "https://localhost:8080/"
        },
        "outputId": "8f52c7e7-50ef-4690-995a-b2573f13866c"
      },
      "outputs": [
        {
          "output_type": "stream",
          "name": "stdout",
          "text": [
            "[[0.20737829 0.35151889 0.46432855 0.87220553 0.61817057 0.34230448\n",
            "  0.48546393 0.90163858 0.78337369 0.66765578]\n",
            " [0.40228648 0.55477542 0.20258897 0.3026539  0.71082508 0.57426992\n",
            "  0.14904767 0.17506127 0.82882028 0.19011773]\n",
            " [0.08273859 0.69153323 0.20285579 0.30423926 0.72194888 0.93892139\n",
            "  0.96798037 0.82762921 0.39650186 0.63408615]\n",
            " [0.59925485 0.38117674 0.16641555 0.47287103 0.75710124 0.51782202\n",
            "  0.5507589  0.89858402 0.09603734 0.29823794]\n",
            " [0.47887809 0.30793876 0.07380207 0.29735258 0.96958584 0.36271503\n",
            "  0.91565536 0.64668546 0.80077027 0.16729576]\n",
            " [0.89264847 0.36048793 0.58549711 0.82303567 0.27163148 0.8545125\n",
            "  0.81663113 0.44971428 0.2944234  0.03767756]\n",
            " [0.1360588  0.2331898  0.29118087 0.61989551 0.14973858 0.08662178\n",
            "  0.75232369 0.80621984 0.38434363 0.52910477]\n",
            " [0.26279845 0.24703589 0.25864283 0.20962715 0.21001018 0.87252234\n",
            "  0.34546748 0.09087476 0.26214845 0.26682787]\n",
            " [0.24325662 0.92477714 0.45353725 0.77466893 0.58823336 0.29307565\n",
            "  0.36857363 0.52007676 0.38073091 0.43013631]\n",
            " [0.00331864 0.49811551 0.49696862 0.21076492 0.72435723 0.62680902\n",
            "  0.43252366 0.68843934 0.70261279 0.6710899 ]]\n",
            "0.0033186438858147094\n",
            "0.9695858350822995\n"
          ]
        }
      ],
      "source": [
        "a=np.random.random((10,10))\n",
        "print(a)\n",
        "print(np.min(a))\n",
        "print(np.max(a))"
      ]
    },
    {
      "cell_type": "markdown",
      "metadata": {
        "id": "hD4siti6_SW6"
      },
      "source": [
        "#### 14. Create a random vector of size 30 and find the mean value (★☆☆) \n",
        "(**hint**: mean)"
      ]
    },
    {
      "cell_type": "code",
      "execution_count": null,
      "metadata": {
        "id": "L1TllPxB_SW7",
        "colab": {
          "base_uri": "https://localhost:8080/"
        },
        "outputId": "977772d7-f8a0-4915-ab52-280c428cbc46"
      },
      "outputs": [
        {
          "output_type": "execute_result",
          "data": {
            "text/plain": [
              "0.5110942199406151"
            ]
          },
          "metadata": {},
          "execution_count": 2
        }
      ],
      "source": [
        "a=np.random.random(30)\n",
        "np.mean(a)"
      ]
    },
    {
      "cell_type": "markdown",
      "metadata": {
        "id": "6lgKRqQL_SW7"
      },
      "source": [
        "#### 15. Create a 2d array with 1 on the border and 0 inside (★☆☆) \n",
        "(**hint**: array\\[1:-1, 1:-1\\])"
      ]
    },
    {
      "cell_type": "code",
      "execution_count": null,
      "metadata": {
        "id": "Tes9gbVI_SW8",
        "colab": {
          "base_uri": "https://localhost:8080/"
        },
        "outputId": "2a79d987-cb85-4719-d978-4f3acf93ade6"
      },
      "outputs": [
        {
          "output_type": "execute_result",
          "data": {
            "text/plain": [
              "array([[1., 1., 1.],\n",
              "       [1., 0., 1.],\n",
              "       [1., 1., 1.]])"
            ]
          },
          "metadata": {},
          "execution_count": 5
        }
      ],
      "source": [
        "a=np.ones((3,3))\n",
        "a[1:-1,1:-1]=0\n",
        "a"
      ]
    },
    {
      "cell_type": "markdown",
      "metadata": {
        "id": "rykUsjcP_SW8"
      },
      "source": [
        "#### 16. How to add a border (filled with 0's) around an existing array? (★☆☆) \n",
        "(**hint**: np.pad)"
      ]
    },
    {
      "cell_type": "code",
      "execution_count": null,
      "metadata": {
        "id": "Xlhw9sBU_SW8",
        "colab": {
          "base_uri": "https://localhost:8080/"
        },
        "outputId": "411fa875-84ea-4dd7-ec40-51189ea65c83"
      },
      "outputs": [
        {
          "output_type": "execute_result",
          "data": {
            "text/plain": [
              "array([[0., 0., 0., 0., 0., 0.],\n",
              "       [0., 1., 1., 1., 1., 0.],\n",
              "       [0., 1., 1., 1., 1., 0.],\n",
              "       [0., 1., 1., 1., 1., 0.],\n",
              "       [0., 1., 1., 1., 1., 0.],\n",
              "       [0., 0., 0., 0., 0., 0.]])"
            ]
          },
          "metadata": {},
          "execution_count": 6
        }
      ],
      "source": [
        "a=np.ones((4,4))\n",
        "d=np.pad(a, pad_width=1, mode='constant',\n",
        "               constant_values=0)\n",
        "d"
      ]
    },
    {
      "cell_type": "markdown",
      "metadata": {
        "id": "zsx1qFr1_SW9"
      },
      "source": [
        "#### 17. What is the result of the following expression? (★☆☆) \n",
        "(**hint**: NaN = not a number, inf = infinity)"
      ]
    },
    {
      "cell_type": "markdown",
      "metadata": {
        "id": "0frBDA_a_SW9"
      },
      "source": [
        "```python\n",
        "0 * np.nan\n",
        "np.nan == np.nan\n",
        "np.inf > np.nan\n",
        "np.nan - np.nan\n",
        "0.3 == 3 * 0.1\n",
        "```"
      ]
    },
    {
      "cell_type": "code",
      "execution_count": null,
      "metadata": {
        "id": "IRuyxp4l_SW-",
        "colab": {
          "base_uri": "https://localhost:8080/"
        },
        "outputId": "8cf1dcdb-63f9-475d-9a65-17b94efce5b9"
      },
      "outputs": [
        {
          "output_type": "stream",
          "name": "stdout",
          "text": [
            "nan\n",
            "False\n",
            "False\n",
            "nan\n",
            "True\n",
            "False\n"
          ]
        }
      ],
      "source": [
        "print(0 * np.nan)\n",
        "print(np.nan == np.nan)\n",
        "print(np.inf > np.nan)\n",
        "print(np.nan - np.nan)\n",
        "print(np.nan in set([np.nan]))\n",
        "print(0.3 == 3 * 0.1)"
      ]
    },
    {
      "cell_type": "markdown",
      "metadata": {
        "id": "Lo19kpFQ_SW-"
      },
      "source": [
        "#### 18. Create a 5x5 matrix with values 1,2,3,4 just below the diagonal (★☆☆) \n",
        "(**hint**: np.diag)"
      ]
    },
    {
      "cell_type": "code",
      "execution_count": null,
      "metadata": {
        "id": "EwMOFlx5_SW_",
        "colab": {
          "base_uri": "https://localhost:8080/"
        },
        "outputId": "1960a62a-83ae-4694-9f9e-176e1676c80f"
      },
      "outputs": [
        {
          "output_type": "stream",
          "name": "stdout",
          "text": [
            "[[0 0 0 0 0]\n",
            " [1 0 0 0 0]\n",
            " [0 2 0 0 0]\n",
            " [0 0 3 0 0]\n",
            " [0 0 0 4 0]]\n"
          ]
        }
      ],
      "source": [
        "\n",
        "a = np.diag(1+np.arange(4),k=-1)\n",
        "print(a)\n"
      ]
    },
    {
      "cell_type": "markdown",
      "metadata": {
        "id": "GBtIUkAH_SW_"
      },
      "source": [
        "#### 19. Create a 8x8 matrix and fill it with a checkerboard pattern (★☆☆) \n",
        "(**hint**: array\\[::2\\])"
      ]
    },
    {
      "cell_type": "code",
      "execution_count": null,
      "metadata": {
        "id": "8SU4UGNb_SXA",
        "colab": {
          "base_uri": "https://localhost:8080/"
        },
        "outputId": "205775bd-43e8-4bc0-d8c6-38f6c366965d"
      },
      "outputs": [
        {
          "output_type": "stream",
          "name": "stdout",
          "text": [
            "[[0. 1. 0. 1. 0. 1. 0. 1.]\n",
            " [1. 0. 1. 0. 1. 0. 1. 0.]\n",
            " [0. 1. 0. 1. 0. 1. 0. 1.]\n",
            " [1. 0. 1. 0. 1. 0. 1. 0.]\n",
            " [0. 1. 0. 1. 0. 1. 0. 1.]\n",
            " [1. 0. 1. 0. 1. 0. 1. 0.]\n",
            " [0. 1. 0. 1. 0. 1. 0. 1.]\n",
            " [1. 0. 1. 0. 1. 0. 1. 0.]]\n"
          ]
        }
      ],
      "source": [
        "a = np.zeros((8,8))\n",
        "a[1::2,::2] = 1\n",
        "a[::2,1::2] = 1\n",
        "print(a)"
      ]
    },
    {
      "cell_type": "markdown",
      "metadata": {
        "id": "XIBNOWDo_SXA"
      },
      "source": [
        "#### 20. Consider a (6,7,8) shape array, what is the index (x,y,z) of the 100th element? \n",
        "(**hint**: np.unravel_index)"
      ]
    },
    {
      "cell_type": "code",
      "execution_count": null,
      "metadata": {
        "id": "IRDtzrRo_SXB",
        "colab": {
          "base_uri": "https://localhost:8080/"
        },
        "outputId": "0ee9b32b-be55-4917-d8e2-2dd01c8a33fe"
      },
      "outputs": [
        {
          "output_type": "stream",
          "name": "stdout",
          "text": [
            "(1, 5, 3)\n"
          ]
        }
      ],
      "source": [
        "print(np.unravel_index(99,(6,7,8)))"
      ]
    },
    {
      "cell_type": "markdown",
      "metadata": {
        "id": "n3VxZEWY_SXB"
      },
      "source": [
        "#### 21. Create a checkerboard 8x8 matrix using the tile function (★☆☆) \n",
        "(**hint**: np.tile)"
      ]
    },
    {
      "cell_type": "code",
      "execution_count": null,
      "metadata": {
        "id": "jOQbfDWQ_SXC",
        "colab": {
          "base_uri": "https://localhost:8080/"
        },
        "outputId": "5250ec36-c353-4261-db92-b611b0a15b83"
      },
      "outputs": [
        {
          "output_type": "stream",
          "name": "stdout",
          "text": [
            "[[0 1 0 1 0 1 0 1]\n",
            " [1 0 1 0 1 0 1 0]\n",
            " [0 1 0 1 0 1 0 1]\n",
            " [1 0 1 0 1 0 1 0]\n",
            " [0 1 0 1 0 1 0 1]\n",
            " [1 0 1 0 1 0 1 0]\n",
            " [0 1 0 1 0 1 0 1]\n",
            " [1 0 1 0 1 0 1 0]]\n"
          ]
        }
      ],
      "source": [
        "a = np.tile(np.array([[0,1],[1,0]]), (4,4))\n",
        "print(a)"
      ]
    },
    {
      "cell_type": "markdown",
      "metadata": {
        "id": "B16c3l1V_SXC"
      },
      "source": [
        "#### 22. Normalize a 5x5 random matrix (★☆☆) \n",
        "(**hint**: (x - min) / (max - min))"
      ]
    },
    {
      "cell_type": "code",
      "execution_count": null,
      "metadata": {
        "id": "NVdzhoNS_SXD",
        "colab": {
          "base_uri": "https://localhost:8080/"
        },
        "outputId": "b758600a-5288-45ea-e726-aae9803b8209"
      },
      "outputs": [
        {
          "output_type": "stream",
          "name": "stdout",
          "text": [
            "[[0.56963909 1.         0.62839532 0.67934321 0.66325495]\n",
            " [0.04426649 0.21403024 0.64034554 0.864779   0.        ]\n",
            " [0.74810279 0.60126785 0.32948728 0.96350399 0.44851763]\n",
            " [0.66066234 0.87298838 0.58520202 0.06980027 0.81272803]\n",
            " [0.52031666 0.07532027 0.38375155 0.33692123 0.88428995]]\n"
          ]
        }
      ],
      "source": [
        "a = np.random.random((5,5))\n",
        "amax, amin = a.max(), a.min()\n",
        "a = (a - amin)/(amax - amin)\n",
        "print(a)"
      ]
    },
    {
      "cell_type": "markdown",
      "metadata": {
        "id": "1fPAy4RC_SXD"
      },
      "source": [
        "#### 23. Create a custom dtype that describes a color as four unsigned bytes (RGBA) (★☆☆) \n",
        "(**hint**: np.dtype)"
      ]
    },
    {
      "cell_type": "code",
      "execution_count": null,
      "metadata": {
        "collapsed": true,
        "id": "TEpv9ONg_SXD",
        "colab": {
          "base_uri": "https://localhost:8080/"
        },
        "outputId": "aa91d11f-0b95-44f3-eca1-d1417e0add98"
      },
      "outputs": [
        {
          "output_type": "execute_result",
          "data": {
            "text/plain": [
              "dtype([('r', 'u1'), ('g', 'u1'), ('b', 'u1'), ('a', 'u1')])"
            ]
          },
          "metadata": {},
          "execution_count": 16
        }
      ],
      "source": [
        "colr = np.dtype([(\"r\", np.ubyte),(\"g\", np.ubyte),\n",
        "                  (\"b\", np.ubyte),(\"a\", np.ubyte)])\n",
        "colr"
      ]
    },
    {
      "cell_type": "markdown",
      "metadata": {
        "id": "aeJd-4Tt_SXE"
      },
      "source": [
        "#### 24. Multiply a 5x3 matrix by a 3x2 matrix (real matrix product) (★☆☆) \n",
        "(**hint**: np.dot | @)"
      ]
    },
    {
      "cell_type": "code",
      "execution_count": null,
      "metadata": {
        "id": "YvYqL7Ip_SXE",
        "colab": {
          "base_uri": "https://localhost:8080/"
        },
        "outputId": "f15dbf01-8864-478e-d880-053147fe42a7"
      },
      "outputs": [
        {
          "output_type": "stream",
          "name": "stdout",
          "text": [
            "[[5 4 1]\n",
            " [2 9 3]\n",
            " [5 9 0]\n",
            " [2 5 7]\n",
            " [8 4 5]]\n",
            "[[8 4]\n",
            " [7 5]\n",
            " [8 4]]\n",
            "[[ 76  44]\n",
            " [103  65]\n",
            " [103  65]\n",
            " [107  61]\n",
            " [132  72]]\n"
          ]
        }
      ],
      "source": [
        "a=np.random.randint(10,size=(5,3))\n",
        "print(a)\n",
        "b=np.random.randint(10,size=(3,2))\n",
        "print(b)\n",
        "print(np.dot(a,b))"
      ]
    },
    {
      "cell_type": "markdown",
      "metadata": {
        "id": "Fzb5BtfE_SXE"
      },
      "source": [
        "#### 25. Given a 1D array, negate all elements which are between 3 and 8, in place. (★☆☆) \n",
        "(**hint**: >, <=)"
      ]
    },
    {
      "cell_type": "code",
      "execution_count": null,
      "metadata": {
        "id": "e4Ofk8nI_SXF",
        "colab": {
          "base_uri": "https://localhost:8080/"
        },
        "outputId": "869a996d-9d41-4cb9-ea20-c8f200225b02"
      },
      "outputs": [
        {
          "output_type": "stream",
          "name": "stdout",
          "text": [
            "[ 0  1  2  3 -4 -5 -6 -7  8  9 10]\n"
          ]
        }
      ],
      "source": [
        "a = np.arange(11)\n",
        "#a[(3 < a) & (a < 8)] *= -1\n",
        "a[4:8] = np.negative(a[4:8])\n",
        "print(a)"
      ]
    },
    {
      "cell_type": "markdown",
      "metadata": {
        "id": "_SGPMFM7_SXF"
      },
      "source": [
        "#### 26. What is the output of the following script? (★☆☆) \n",
        "(**hint**: np.sum)"
      ]
    },
    {
      "cell_type": "markdown",
      "metadata": {
        "id": "7GLiQ1u-_SXG"
      },
      "source": [
        "```python\n",
        "# Author: Jake VanderPlas\n",
        "\n",
        "print(sum(range(5),-1))\n",
        "from numpy import *\n",
        "print(sum(range(5),-1))\n",
        "```"
      ]
    },
    {
      "cell_type": "code",
      "execution_count": null,
      "metadata": {
        "id": "z-0zxdKa_SXG",
        "colab": {
          "base_uri": "https://localhost:8080/"
        },
        "outputId": "4f911f0c-1410-447b-cd21-b93e17c7089e"
      },
      "outputs": [
        {
          "output_type": "stream",
          "name": "stdout",
          "text": [
            "10\n"
          ]
        }
      ],
      "source": [
        "from numpy import *\n",
        "print(sum(range(5),-1))"
      ]
    },
    {
      "cell_type": "markdown",
      "metadata": {
        "id": "Q5trFQNz_SXH"
      },
      "source": [
        "#### 27. Consider an integer vector Z, which of these expressions are legal? (★☆☆)"
      ]
    },
    {
      "cell_type": "markdown",
      "metadata": {
        "id": "_xsA-TBP_SXH"
      },
      "source": [
        "```python\n",
        "Z**Z\n",
        "2 << Z >> 2\n",
        "Z <- Z\n",
        "1j*Z\n",
        "Z/1/1\n",
        "Z<Z>Z\n",
        "```"
      ]
    },
    {
      "cell_type": "code",
      "execution_count": null,
      "metadata": {
        "id": "gvIvYecn_SXI",
        "colab": {
          "base_uri": "https://localhost:8080/"
        },
        "outputId": "46a3baf9-40ba-4de7-b867-c5b3a33d4b75"
      },
      "outputs": [
        {
          "output_type": "stream",
          "name": "stdout",
          "text": [
            "[        1         1         4        27       256      3125     46656\n",
            "    823543  16777216 387420489]\n",
            "[  0   1   2   4   8  16  32  64 128 256]\n",
            "[False False False False False False False False False False]\n",
            "[0.+0.j 0.+1.j 0.+2.j 0.+3.j 0.+4.j 0.+5.j 0.+6.j 0.+7.j 0.+8.j 0.+9.j]\n",
            "[0. 1. 2. 3. 4. 5. 6. 7. 8. 9.]\n"
          ]
        }
      ],
      "source": [
        "Z=np.arange(10)\n",
        "print(Z**Z)\n",
        "print(2 << Z >> 2)\n",
        "print(Z <- Z)\n",
        "print(1j*Z)\n",
        "print(Z/1/1)\n",
        "#print(Z<Z>Z) error"
      ]
    },
    {
      "cell_type": "markdown",
      "metadata": {
        "id": "VO1yFCg-_SXI"
      },
      "source": [
        "#### 28. What are the result of the following expressions?"
      ]
    },
    {
      "cell_type": "markdown",
      "metadata": {
        "id": "sSEKPyU5_SXI"
      },
      "source": [
        "```python\n",
        "np.array(0) / np.array(0)\n",
        "np.array(0) // np.array(0)\n",
        "np.array([np.nan]).astype(int).astype(float)\n",
        "```"
      ]
    },
    {
      "cell_type": "code",
      "execution_count": null,
      "metadata": {
        "id": "ZxrwhxPJ_SXJ",
        "colab": {
          "base_uri": "https://localhost:8080/"
        },
        "outputId": "bab71e36-0ada-4a21-d5fd-02c5611f36bf"
      },
      "outputs": [
        {
          "output_type": "stream",
          "name": "stdout",
          "text": [
            "nan\n",
            "0\n",
            "[-9.22337204e+18]\n"
          ]
        },
        {
          "output_type": "stream",
          "name": "stderr",
          "text": [
            "/usr/local/lib/python3.7/dist-packages/ipykernel_launcher.py:1: RuntimeWarning: invalid value encountered in true_divide\n",
            "  \"\"\"Entry point for launching an IPython kernel.\n",
            "/usr/local/lib/python3.7/dist-packages/ipykernel_launcher.py:2: RuntimeWarning: divide by zero encountered in floor_divide\n",
            "  \n"
          ]
        }
      ],
      "source": [
        "print(np.array(0) / np.array(0))\n",
        "print(np.array(0) // np.array(0))\n",
        "print(np.array([np.nan]).astype(int).astype(float))"
      ]
    },
    {
      "cell_type": "markdown",
      "metadata": {
        "id": "FPGrKMT6_SXJ"
      },
      "source": [
        "#### 29. How to round away from zero a float array ? (★☆☆) \n",
        "(**hint**: np.uniform, np.copysign, np.ceil, np.abs)"
      ]
    },
    {
      "cell_type": "code",
      "execution_count": null,
      "metadata": {
        "id": "h-cB_1EX_SXJ",
        "colab": {
          "base_uri": "https://localhost:8080/"
        },
        "outputId": "ecb3ba26-753c-4284-f8c0-c769068c3eef"
      },
      "outputs": [
        {
          "output_type": "stream",
          "name": "stdout",
          "text": [
            "[ 0.07636623 -8.06154015 -4.03328709  7.74728303  4.27365016  3.012897\n",
            " -0.98565426 -0.06287554  4.1754895   7.76439369]\n"
          ]
        },
        {
          "output_type": "execute_result",
          "data": {
            "text/plain": [
              "array([ 1., -9., -5.,  8.,  5.,  4., -1., -1.,  5.,  8.])"
            ]
          },
          "metadata": {},
          "execution_count": 34
        }
      ],
      "source": [
        "a = np.random.uniform(-10, +10, 10)\n",
        "print(a)\n",
        "np.copysign(np.ceil(np.abs(a)),a)"
      ]
    },
    {
      "cell_type": "markdown",
      "metadata": {
        "id": "D7azGsbw_SXK"
      },
      "source": [
        "#### 30. How to find common values between two arrays? (★☆☆) \n",
        "(**hint**: np.intersect1d)"
      ]
    },
    {
      "cell_type": "code",
      "execution_count": null,
      "metadata": {
        "id": "f4xN3AAV_SXK",
        "colab": {
          "base_uri": "https://localhost:8080/"
        },
        "outputId": "f7921385-656b-4f3d-ebdf-5fca4ae96b6a"
      },
      "outputs": [
        {
          "output_type": "stream",
          "name": "stdout",
          "text": [
            "[5 6 7 8 9]\n"
          ]
        }
      ],
      "source": [
        "a = np.arange(0, 10)\n",
        "b = np.arange(5, 15)\n",
        "print(np.intersect1d(a, b))"
      ]
    },
    {
      "cell_type": "markdown",
      "metadata": {
        "id": "qrcfHE0X_SXK"
      },
      "source": [
        "#### 31. How to ignore all numpy warnings (not recommended)? (★☆☆) \n",
        "(**hint**: np.seterr, np.errstate)"
      ]
    },
    {
      "cell_type": "code",
      "execution_count": null,
      "metadata": {
        "id": "R_esYG77_SXL",
        "colab": {
          "base_uri": "https://localhost:8080/"
        },
        "outputId": "2d9ccfbe-9528-4188-dac4-cc82241815af"
      },
      "outputs": [
        {
          "output_type": "execute_result",
          "data": {
            "text/plain": [
              "{'divide': 'ignore', 'invalid': 'ignore', 'over': 'ignore', 'under': 'ignore'}"
            ]
          },
          "metadata": {},
          "execution_count": 37
        }
      ],
      "source": [
        "np.seterr(all=\"ignore\")\n",
        "np.seterr(all='ignore')"
      ]
    },
    {
      "cell_type": "markdown",
      "metadata": {
        "id": "MlNbGduJ_SXL"
      },
      "source": [
        "#### 32. Is the following expressions true? (★☆☆) \n",
        "(**hint**: imaginary number)"
      ]
    },
    {
      "cell_type": "markdown",
      "metadata": {
        "id": "4ETtiZMm_SXL"
      },
      "source": [
        "```python\n",
        "np.sqrt(-1) == np.emath.sqrt(-1)\n",
        "```"
      ]
    },
    {
      "cell_type": "code",
      "execution_count": null,
      "metadata": {
        "id": "EQCpZOSS_SXM",
        "colab": {
          "base_uri": "https://localhost:8080/"
        },
        "outputId": "8fa2fbc3-570d-4c25-8e58-6ae9bcc36505"
      },
      "outputs": [
        {
          "output_type": "stream",
          "name": "stdout",
          "text": [
            "False\n"
          ]
        }
      ],
      "source": [
        "print(np.sqrt(-1) == np.emath.sqrt(-1))"
      ]
    },
    {
      "cell_type": "markdown",
      "metadata": {
        "id": "9hbeM2K0_SXM"
      },
      "source": [
        "#### 33. How to get the dates of yesterday, today and tomorrow? (★☆☆) \n",
        "(**hint**: np.datetime64, np.timedelta64)"
      ]
    },
    {
      "cell_type": "code",
      "execution_count": null,
      "metadata": {
        "collapsed": true,
        "id": "2f8D_Oqy_SXM",
        "colab": {
          "base_uri": "https://localhost:8080/"
        },
        "outputId": "f7844707-a40b-47bf-f6d9-c1e8524700d9"
      },
      "outputs": [
        {
          "output_type": "stream",
          "name": "stdout",
          "text": [
            "2022-02-17 2022-02-18 2022-02-19\n"
          ]
        }
      ],
      "source": [
        "yesterday = np.datetime64('today') - np.timedelta64(1)\n",
        "today     = np.datetime64('today')\n",
        "tomorrow  = np.datetime64('today') + np.timedelta64(1)\n",
        "print(yesterday,today,tomorrow)\n"
      ]
    },
    {
      "cell_type": "markdown",
      "metadata": {
        "id": "AgdJI0pj_SXM"
      },
      "source": [
        "#### 34. How to get all the dates corresponding to the month of July 2016? (★★☆) \n",
        "(**hint**: np.arange(dtype=datetime64\\['D'\\]))"
      ]
    },
    {
      "cell_type": "code",
      "execution_count": 4,
      "metadata": {
        "id": "Bk0_LZf5_SXN",
        "colab": {
          "base_uri": "https://localhost:8080/"
        },
        "outputId": "bf286536-10e4-4d0e-86eb-95c94cdcfc90"
      },
      "outputs": [
        {
          "output_type": "stream",
          "name": "stdout",
          "text": [
            "['2016-07-01' '2016-07-02' '2016-07-03' '2016-07-04' '2016-07-05'\n",
            " '2016-07-06' '2016-07-07' '2016-07-08' '2016-07-09' '2016-07-10'\n",
            " '2016-07-11' '2016-07-12' '2016-07-13' '2016-07-14' '2016-07-15'\n",
            " '2016-07-16' '2016-07-17' '2016-07-18' '2016-07-19' '2016-07-20'\n",
            " '2016-07-21' '2016-07-22' '2016-07-23' '2016-07-24' '2016-07-25'\n",
            " '2016-07-26' '2016-07-27' '2016-07-28' '2016-07-29' '2016-07-30'\n",
            " '2016-07-31']\n"
          ]
        }
      ],
      "source": [
        "a = np.arange('2016-07', '2016-08', dtype='datetime64[D]')\n",
        "print(a)"
      ]
    },
    {
      "cell_type": "markdown",
      "metadata": {
        "id": "sHZQcaKF_SXN"
      },
      "source": [
        "#### 35. How to compute ((A+B)\\*(-A/2)) in place (without copy)? (★★☆) \n",
        "(**hint**: np.add(out=), np.negative(out=), np.multiply(out=), np.divide(out=))"
      ]
    },
    {
      "cell_type": "code",
      "execution_count": 5,
      "metadata": {
        "id": "bquloF6m_SXN",
        "colab": {
          "base_uri": "https://localhost:8080/"
        },
        "outputId": "305c3689-c4a5-4179-e6c1-626f72a46419"
      },
      "outputs": [
        {
          "output_type": "execute_result",
          "data": {
            "text/plain": [
              "array([-1.5, -1.5, -1.5])"
            ]
          },
          "metadata": {},
          "execution_count": 5
        }
      ],
      "source": [
        "A = np.ones(3)*1\n",
        "B = np.ones(3)*2\n",
        "C = np.ones(3)*3\n",
        "np.add(A,B,out=B)\n",
        "np.divide(A,2,out=A)\n",
        "np.negative(A,out=A)\n",
        "np.multiply(A,B,out=A)"
      ]
    },
    {
      "cell_type": "markdown",
      "metadata": {
        "id": "gBwoydGe_SXN"
      },
      "source": [
        "#### 36. Extract the integer part of a random array using 5 different methods (★★☆) \n",
        "(**hint**: %, np.floor, np.ceil, astype, np.trunc)"
      ]
    },
    {
      "cell_type": "code",
      "execution_count": 7,
      "metadata": {
        "id": "ovm0G6Kg_SXO",
        "colab": {
          "base_uri": "https://localhost:8080/"
        },
        "outputId": "8c9f09a5-2fc1-48c1-d761-b99ca317c911"
      },
      "outputs": [
        {
          "output_type": "stream",
          "name": "stdout",
          "text": [
            "[8. 5. 6. 7. 3. 1. 2. 4. 8. 2.]\n",
            "[8. 5. 6. 7. 3. 1. 2. 4. 8. 2.]\n",
            "[8. 5. 6. 7. 3. 1. 2. 4. 8. 2.]\n",
            "[8 5 6 7 3 1 2 4 8 2]\n",
            "[8. 5. 6. 7. 3. 1. 2. 4. 8. 2.]\n"
          ]
        }
      ],
      "source": [
        "c = np.random.uniform(0,10,10)\n",
        "\n",
        "print (c - c%1)\n",
        "print (np.floor(c))\n",
        "print (np.ceil(c)-1)\n",
        "print (c.astype(int))\n",
        "print (np.trunc(c))"
      ]
    },
    {
      "cell_type": "markdown",
      "metadata": {
        "id": "Mp_EVpbd_SXO"
      },
      "source": [
        "#### 37. Create a 5x5 matrix with row values ranging from 0 to 4 (★★☆) \n",
        "(**hint**: np.arange)"
      ]
    },
    {
      "cell_type": "code",
      "execution_count": null,
      "metadata": {
        "id": "ZG3UnlMf_SXO",
        "colab": {
          "base_uri": "https://localhost:8080/"
        },
        "outputId": "0b0d2b69-33c1-419d-d79b-8cb5039e1e12"
      },
      "outputs": [
        {
          "output_type": "stream",
          "name": "stdout",
          "text": [
            "[[0. 1. 2. 3. 4.]\n",
            " [0. 1. 2. 3. 4.]\n",
            " [0. 1. 2. 3. 4.]\n",
            " [0. 1. 2. 3. 4.]\n",
            " [0. 1. 2. 3. 4.]]\n"
          ]
        }
      ],
      "source": [
        "Z = np.zeros((5,5))\n",
        "Z += np.arange(5)\n",
        "print(Z)"
      ]
    },
    {
      "cell_type": "markdown",
      "metadata": {
        "id": "BvSdDFcM_SXO"
      },
      "source": [
        "#### 38. Consider a generator function that generates 10 integers and use it to build an array (★☆☆) \n",
        "(**hint**: np.fromiter)"
      ]
    },
    {
      "cell_type": "code",
      "execution_count": 8,
      "metadata": {
        "id": "OQfU1pep_SXP",
        "colab": {
          "base_uri": "https://localhost:8080/"
        },
        "outputId": "1274c347-72f4-4c6c-c22a-fac8861b6ccb"
      },
      "outputs": [
        {
          "output_type": "stream",
          "name": "stdout",
          "text": [
            "[0. 1. 2. 3. 4. 5. 6. 7. 8. 9.]\n"
          ]
        }
      ],
      "source": [
        "iterble = (x for x in range(10))\n",
        "a = np.fromiter(iterble, float)\n",
        "print(a)"
      ]
    },
    {
      "cell_type": "markdown",
      "metadata": {
        "id": "UUUrANch_SXP"
      },
      "source": [
        "#### 39. Create a vector of size 10 with values ranging from 0 to 1, both excluded (★★☆) \n",
        "(**hint**: np.linspace)"
      ]
    },
    {
      "cell_type": "code",
      "execution_count": 9,
      "metadata": {
        "id": "gN7VS24y_SXP",
        "colab": {
          "base_uri": "https://localhost:8080/"
        },
        "outputId": "7d9b403b-6448-4d84-e9a3-b6c44faa27f0"
      },
      "outputs": [
        {
          "output_type": "stream",
          "name": "stdout",
          "text": [
            "[0.09090909 0.18181818 0.27272727 0.36363636 0.45454545 0.54545455\n",
            " 0.63636364 0.72727273 0.81818182 0.90909091]\n"
          ]
        }
      ],
      "source": [
        "a = np.linspace(0,1,11,endpoint=False)[1:]\n",
        "print(a)"
      ]
    },
    {
      "cell_type": "markdown",
      "metadata": {
        "id": "ymIh3MNg_SXP"
      },
      "source": [
        "#### 40. Create a random vector of size 10 and sort it (★★☆) \n",
        "(**hint**: sort)"
      ]
    },
    {
      "cell_type": "code",
      "execution_count": 10,
      "metadata": {
        "id": "ekzEfNNc_SXP",
        "colab": {
          "base_uri": "https://localhost:8080/"
        },
        "outputId": "f310636d-ebde-41d8-aa76-b974ecfc0f9e"
      },
      "outputs": [
        {
          "output_type": "stream",
          "name": "stdout",
          "text": [
            "[0.2991976  0.41345563 0.51894282 0.55994672 0.6157304  0.69036246\n",
            " 0.87214953 0.87591221 0.88712811 0.98267741]\n"
          ]
        }
      ],
      "source": [
        "a = np.random.random(10)\n",
        "a.sort()\n",
        "print(a)\n"
      ]
    },
    {
      "cell_type": "markdown",
      "metadata": {
        "id": "tMt6cRha_SXQ"
      },
      "source": [
        "#### 41. How to sum a small array faster than np.sum? (★★☆) \n",
        "(**hint**: np.add.reduce)"
      ]
    },
    {
      "cell_type": "code",
      "execution_count": 11,
      "metadata": {
        "id": "wGgZ6vHb_SXQ",
        "colab": {
          "base_uri": "https://localhost:8080/"
        },
        "outputId": "7a5d6345-71c0-443a-af1e-b64b6fcf42d8"
      },
      "outputs": [
        {
          "output_type": "execute_result",
          "data": {
            "text/plain": [
              "3.8805238072365764"
            ]
          },
          "metadata": {},
          "execution_count": 11
        }
      ],
      "source": [
        "a = np.random.random(10)\n",
        "np.add.reduce(a)"
      ]
    },
    {
      "cell_type": "markdown",
      "metadata": {
        "id": "lX1OMrNy_SXQ"
      },
      "source": [
        "#### 42. Consider two random array A and B, check if they are equal (★★☆) \n",
        "(**hint**: np.allclose, np.array\\_equal)"
      ]
    },
    {
      "cell_type": "code",
      "execution_count": 13,
      "metadata": {
        "id": "A_9BPhgx_SXQ",
        "colab": {
          "base_uri": "https://localhost:8080/"
        },
        "outputId": "8c2ae0fb-ffc2-4005-d06d-bf93aae7d949"
      },
      "outputs": [
        {
          "output_type": "stream",
          "name": "stdout",
          "text": [
            "False\n",
            "False\n"
          ]
        }
      ],
      "source": [
        "a = np.random.randint(0,5,10)\n",
        "b = np.random.randint(0,5,10)\n",
        "\n",
        "eq = np.allclose(a,b)\n",
        "print(eq)\n",
        "\n",
        "eq = np.array_equal(a,b)\n",
        "print(eq)"
      ]
    },
    {
      "cell_type": "markdown",
      "metadata": {
        "id": "GB6ZT01x_SXR"
      },
      "source": [
        "#### 43. Make an array immutable (read-only) (★★☆) \n",
        "(**hint**: flags.writeable)"
      ]
    },
    {
      "cell_type": "code",
      "execution_count": 15,
      "metadata": {
        "id": "JgD97GDT_SXR"
      },
      "outputs": [],
      "source": [
        "a = np.zeros(10)\n",
        "a.flags.writeable = False"
      ]
    },
    {
      "cell_type": "markdown",
      "metadata": {
        "id": "dSF6cLYd_SXR"
      },
      "source": [
        "#### 44. Consider a random 10x2 matrix representing cartesian coordinates, convert them to polar coordinates (★★☆) \n",
        "(**hint**: np.sqrt, np.arctan2)"
      ]
    },
    {
      "cell_type": "code",
      "execution_count": 16,
      "metadata": {
        "id": "gnE2ajpO_SXR",
        "colab": {
          "base_uri": "https://localhost:8080/"
        },
        "outputId": "f745f6e0-af56-4dca-b062-9ca1dcb0909c"
      },
      "outputs": [
        {
          "output_type": "stream",
          "name": "stdout",
          "text": [
            "[0.96348718 1.36718146 0.81357119 0.9489042  0.67023274 0.74409652\n",
            " 1.03196277 0.63125944 0.30704799 0.20180875]\n",
            "[1.25025832 0.80164032 1.36981363 1.1610145  1.37452689 0.84877634\n",
            " 1.26820366 1.27286995 1.1374849  0.22088062]\n"
          ]
        }
      ],
      "source": [
        "c = np.random.random((10,2))\n",
        "a,b = c[:,0], c[:,1]\n",
        "d = np.sqrt(a**2+b**2)\n",
        "e = np.arctan2(b,a)\n",
        "print(d)\n",
        "print(e)"
      ]
    },
    {
      "cell_type": "markdown",
      "metadata": {
        "id": "HLbqGZBC_SXS"
      },
      "source": [
        "#### 45. Create random vector of size 10 and replace the maximum value by 0 (★★☆) \n",
        "(**hint**: argmax)"
      ]
    },
    {
      "cell_type": "code",
      "execution_count": 17,
      "metadata": {
        "id": "g7PuBQqC_SXS",
        "colab": {
          "base_uri": "https://localhost:8080/"
        },
        "outputId": "262ed886-5c13-40c6-c397-e4ec71b08993"
      },
      "outputs": [
        {
          "output_type": "execute_result",
          "data": {
            "text/plain": [
              "array([0.89356932, 0.41605055, 0.47624963, 0.74543726, 0.96669081,\n",
              "       0.96421212, 0.51038245, 0.84915128, 0.49492149, 0.        ])"
            ]
          },
          "metadata": {},
          "execution_count": 17
        }
      ],
      "source": [
        "a = np.random.random(10)\n",
        "a[a.argmax()] = 0\n",
        "a"
      ]
    },
    {
      "cell_type": "markdown",
      "metadata": {
        "id": "1Ni1_6E6_SXS"
      },
      "source": [
        "#### 46. Create a structured array with `x` and `y` coordinates covering the \\[0,1\\]x\\[0,1\\] area (★★☆) \n",
        "(**hint**: np.meshgrid)"
      ]
    },
    {
      "cell_type": "code",
      "execution_count": 18,
      "metadata": {
        "id": "PB5JobZK_SXS",
        "colab": {
          "base_uri": "https://localhost:8080/"
        },
        "outputId": "504341b7-19e7-44ad-ebcd-0db00f36e95b"
      },
      "outputs": [
        {
          "output_type": "stream",
          "name": "stdout",
          "text": [
            "[[(0.  , 0.  ) (0.25, 0.  ) (0.5 , 0.  ) (0.75, 0.  ) (1.  , 0.  )]\n",
            " [(0.  , 0.25) (0.25, 0.25) (0.5 , 0.25) (0.75, 0.25) (1.  , 0.25)]\n",
            " [(0.  , 0.5 ) (0.25, 0.5 ) (0.5 , 0.5 ) (0.75, 0.5 ) (1.  , 0.5 )]\n",
            " [(0.  , 0.75) (0.25, 0.75) (0.5 , 0.75) (0.75, 0.75) (1.  , 0.75)]\n",
            " [(0.  , 1.  ) (0.25, 1.  ) (0.5 , 1.  ) (0.75, 1.  ) (1.  , 1.  )]]\n"
          ]
        }
      ],
      "source": [
        "a = np.zeros((5,5), [('x',float),('y',float)])\n",
        "a['x'], a['y'] = np.meshgrid(np.linspace(0,1,5), np.linspace(0,1,5))\n",
        "print(a)"
      ]
    },
    {
      "cell_type": "markdown",
      "metadata": {
        "id": "0PjpTKsr_SXT"
      },
      "source": [
        "####  47. Given two arrays, X and Y, construct the Cauchy matrix C (Cij =1/(xi - yj)) \n",
        "(**hint**: np.subtract.outer)"
      ]
    },
    {
      "cell_type": "code",
      "execution_count": 20,
      "metadata": {
        "id": "rQ_u5UmT_SXT",
        "colab": {
          "base_uri": "https://localhost:8080/"
        },
        "outputId": "54781ffa-ee88-4a31-cd44-4994fd8957fb"
      },
      "outputs": [
        {
          "output_type": "execute_result",
          "data": {
            "text/plain": [
              "array([[ 3.35448136e+05, -5.52843422e+06, -1.35555424e+05,\n",
              "        -7.59746644e+06,  6.77292860e+04],\n",
              "       [ 4.01971071e+05,  1.61991392e+06,  1.81426284e+04,\n",
              "         1.72370461e+07, -8.38198923e+04],\n",
              "       [ 3.70951528e+04,  3.29239490e+05,  1.51796559e+05,\n",
              "         8.40134405e+04,  1.68398279e+05],\n",
              "       [-6.67754360e+06,  3.92186950e+05,  5.07760909e+06,\n",
              "        -2.97390398e+03,  1.00722474e+05],\n",
              "       [-5.47951107e+07,  3.56325504e+06,  2.80243184e+06,\n",
              "        -6.87890366e+05,  2.12655063e+04]])"
            ]
          },
          "metadata": {},
          "execution_count": 20
        }
      ],
      "source": [
        "x = np.random.random((5, 5))\n",
        "y = np.random.random((5, 5))\n",
        "c = 1 / np.subtract.outer(x, y)\n",
        "np.linalg.det(c)"
      ]
    },
    {
      "cell_type": "markdown",
      "metadata": {
        "id": "vZNkXCQA_SXT"
      },
      "source": [
        "#### 48. Print the minimum and maximum representable value for each numpy scalar type (★★☆) \n",
        "(**hint**: np.iinfo, np.finfo, eps)"
      ]
    },
    {
      "cell_type": "code",
      "execution_count": 22,
      "metadata": {
        "id": "QfegrL_N_SXT",
        "colab": {
          "base_uri": "https://localhost:8080/"
        },
        "outputId": "5f5c93f1-739d-4f38-bff8-978b98c59953"
      },
      "outputs": [
        {
          "output_type": "stream",
          "name": "stdout",
          "text": [
            "-128\n",
            "127\n",
            "-2147483648\n",
            "2147483647\n",
            "-9223372036854775808\n",
            "9223372036854775807\n",
            "-3.4028235e+38\n",
            "3.4028235e+38\n",
            "1.1920929e-07\n",
            "-1.7976931348623157e+308\n",
            "1.7976931348623157e+308\n",
            "2.220446049250313e-16\n"
          ]
        }
      ],
      "source": [
        "for dtype in [np.int8, np.int32, np.int64]:\n",
        "   print(np.iinfo(dtype).min)\n",
        "   print(np.iinfo(dtype).max)\n",
        "for dtype in [np.float32, np.float64]:\n",
        "   print(np.finfo(dtype).min)\n",
        "   print(np.finfo(dtype).max)\n",
        "   print(np.finfo(dtype).eps)"
      ]
    },
    {
      "cell_type": "markdown",
      "metadata": {
        "id": "-yG0NslQ_SXU"
      },
      "source": [
        "#### 49. How to print all the values of an array? (★★☆) \n",
        "(**hint**: np.set\\_printoptions)"
      ]
    },
    {
      "cell_type": "code",
      "execution_count": 25,
      "metadata": {
        "id": "1-q_ayIM_SXU",
        "colab": {
          "base_uri": "https://localhost:8080/"
        },
        "outputId": "0ea1dc20-80a5-42b8-dc33-5cc5a4b3d7a3"
      },
      "outputs": [
        {
          "output_type": "stream",
          "name": "stdout",
          "text": [
            "[[1. 1. 1. 1. 1.]\n",
            " [1. 1. 1. 1. 1.]\n",
            " [1. 1. 1. 1. 1.]\n",
            " [1. 1. 1. 1. 1.]\n",
            " [1. 1. 1. 1. 1.]]\n"
          ]
        }
      ],
      "source": [
        "import sys\n",
        "np.set_printoptions(threshold=sys.maxsize)\n",
        "A = np.ones((5,5))\n",
        "print(A)"
      ]
    },
    {
      "cell_type": "markdown",
      "metadata": {
        "id": "1_FgpGCe_SXU"
      },
      "source": [
        "#### 50. How to find the closest value (to a given scalar) in a vector? (★★☆) \n",
        "(**hint**: argmin)"
      ]
    },
    {
      "cell_type": "code",
      "execution_count": 26,
      "metadata": {
        "id": "J6P8YyZM_SXU",
        "colab": {
          "base_uri": "https://localhost:8080/"
        },
        "outputId": "24da75e8-5f9b-4751-8ad4-acabe3bcf07f"
      },
      "outputs": [
        {
          "output_type": "stream",
          "name": "stdout",
          "text": [
            "6\n"
          ]
        }
      ],
      "source": [
        "a = np.arange(10)\n",
        "b = np.random.uniform(0,10)\n",
        "index = (np.abs(a-b)).argmin()\n",
        "print(a[index])"
      ]
    },
    {
      "cell_type": "markdown",
      "metadata": {
        "id": "uDWVTL6V_SXU"
      },
      "source": [
        "#### 51. Create a structured array representing a position (x,y) and a color (r,g,b) (★★☆) \n",
        "(**hint**: dtype)"
      ]
    },
    {
      "cell_type": "code",
      "execution_count": 27,
      "metadata": {
        "id": "SC3XdstN_SXV",
        "colab": {
          "base_uri": "https://localhost:8080/"
        },
        "outputId": "b9c8304c-b834-4106-e9a3-34dcc96c0d2a"
      },
      "outputs": [
        {
          "output_type": "stream",
          "name": "stdout",
          "text": [
            "[((1., 1.), (1., 1., 1.)) ((1., 1.), (1., 1., 1.))\n",
            " ((1., 1.), (1., 1., 1.)) ((1., 1.), (1., 1., 1.))\n",
            " ((1., 1.), (1., 1., 1.)) ((1., 1.), (1., 1., 1.))\n",
            " ((1., 1.), (1., 1., 1.)) ((1., 1.), (1., 1., 1.))\n",
            " ((1., 1.), (1., 1., 1.)) ((1., 1.), (1., 1., 1.))]\n"
          ]
        },
        {
          "output_type": "stream",
          "name": "stderr",
          "text": [
            "/usr/local/lib/python3.7/dist-packages/numpy/core/numeric.py:204: FutureWarning: Passing (type, 1) or '1type' as a synonym of type is deprecated; in a future version of numpy, it will be understood as (type, (1,)) / '(1,)type'.\n",
            "  a = empty(shape, dtype, order)\n"
          ]
        }
      ],
      "source": [
        "a = np.ones(10, [ ('position', [ ('x', float, 1),\n",
        "                                  ('y', float, 1)]),\n",
        "                   ('color',    [ ('r', float, 1),\n",
        "                                  ('g', float, 1),\n",
        "                                  ('b', float, 1)])])\n",
        "print(a)"
      ]
    },
    {
      "cell_type": "markdown",
      "metadata": {
        "id": "b1rL3M3H_SXV"
      },
      "source": [
        "#### 52. Consider a random vector with shape (100,2) representing coordinates, find point by point distances (★★☆) \n",
        "(**hint**: np.atleast\\_2d, T, np.sqrt)"
      ]
    },
    {
      "cell_type": "code",
      "execution_count": 28,
      "metadata": {
        "id": "iDrnK8AD_SXV",
        "colab": {
          "base_uri": "https://localhost:8080/"
        },
        "outputId": "a6afee3b-2dbb-48b3-9b59-912c51e83110"
      },
      "outputs": [
        {
          "output_type": "stream",
          "name": "stdout",
          "text": [
            "[[0.         0.74730877 0.40178528 0.83861178 0.56108375 0.77366931\n",
            "  0.32802446 0.71347451 0.43786522 0.02200267 0.78083764 0.60045415\n",
            "  0.43866218 0.78483359 0.84092088 0.54735669 0.37267122 0.27696504\n",
            "  0.66680303 0.80560477 0.79327263 0.52692229 0.79609584 0.08477122\n",
            "  0.90741265 0.57470482 0.17994238 0.15645268 0.39123511 0.15973302\n",
            "  0.24587188 0.51200589 0.1694845  0.49081494 0.74666218 0.34014662\n",
            "  0.55555219 0.18742253 0.43863696 0.39736827 0.63770628 0.59109458\n",
            "  0.27829739 0.52556867 0.23036862 0.23372914 0.11406174 0.37116856\n",
            "  0.88228535 0.36743791 0.21047507 0.5577209  0.27051851 0.09825431\n",
            "  0.4661697  0.36997533 0.66066997 0.37297174 0.33881688 0.5661656\n",
            "  0.63494623 0.72999284 0.41800566 0.57416753 0.89299299 0.22409\n",
            "  0.60180347 0.53295835 0.44358302 0.43046968 0.741204   0.57747213\n",
            "  0.5925474  0.38621273 0.66168506 0.74292608 0.32910406 0.47514829\n",
            "  0.3246982  0.37697225 0.71615885 0.2229306  0.70172478 0.9187883\n",
            "  0.55545728 0.75535295 0.36629161 0.66343144 0.2849414  0.19620727\n",
            "  0.06587812 0.26678786 0.31103758 0.78777909 0.8947238  0.44638233\n",
            "  0.56397277 0.80463968 0.22086526 0.6873785 ]\n",
            " [0.74730877 0.         0.73151524 0.30953359 0.68873646 0.34967574\n",
            "  0.42110233 0.17792749 0.76858681 0.75278669 0.70628999 0.52897706\n",
            "  0.40206977 0.04866645 0.16729722 0.29147706 0.49977462 0.47137674\n",
            "  0.24840222 0.65180635 0.69493557 0.37405565 0.26929702 0.73221564\n",
            "  0.50366964 0.18282202 0.89974234 0.79301155 0.44411557 0.78957931\n",
            "  0.73191231 0.44321953 0.58323303 0.49367284 0.35615359 0.67279221\n",
            "  0.192015   0.80841066 0.75731879 0.36524602 0.9145589  0.16410588\n",
            "  0.46901165 0.7906285  0.92577418 0.53443652 0.6866475  0.60870533\n",
            "  0.32270923 0.47335791 0.93714979 0.50680173 0.8764502  0.66700874\n",
            "  0.65251527 0.86607456 0.8677089  0.40268602 0.48283823 0.45083583\n",
            "  0.63062833 0.309287   0.5520355  0.37144405 0.54536476 0.90523219\n",
            "  0.50563455 0.58342666 0.45069029 0.48060994 0.12648092 0.31898258\n",
            "  0.23799962 0.5559668  0.26027005 0.47960091 0.50539849 0.35965001\n",
            "  0.6696457  0.37102831 0.33871203 0.54800574 0.42697777 0.3589291\n",
            "  0.19801517 0.4097997  0.47674017 0.72987622 0.70505916 0.83686373\n",
            "  0.68855376 0.96769916 0.51309212 0.53887915 0.27440619 0.31118386\n",
            "  0.47368715 0.09667878 0.5766845  0.75776424]\n",
            " [0.40178528 0.73151524 0.         0.66066367 0.18139011 0.56989016\n",
            "  0.41035224 0.60789973 0.04563641 0.38320213 0.4139292  0.3065475\n",
            "  0.33060643 0.74780473 0.74283199 0.44302762 0.6291833  0.42933196\n",
            "  0.78591625 0.46136781 0.43172871 0.36819578 0.63565633 0.47619885\n",
            "  0.64275087 0.62495963 0.55684277 0.55749199 0.60971763 0.27022765\n",
            "  0.15814891 0.73946034 0.34729205 0.7452573  0.90533744 0.08000074\n",
            "  0.58247695 0.58860446 0.04030301 0.53004591 0.25237709 0.57525503\n",
            "  0.41210332 0.12532802 0.36281083 0.31569261 0.47804773 0.12484828\n",
            "  0.70455128 0.60381859 0.57359244 0.81256939 0.25001919 0.43768117\n",
            "  0.11248224 0.1608771  0.26105117 0.36412565 0.57578676 0.33110846\n",
            "  0.284315   0.54899441 0.18075836 0.39216853 0.60650659 0.33668346\n",
            "  0.85054472 0.2146385  0.67425414 0.25123409 0.65903553 0.43194122\n",
            "  0.49947361 0.67696198 0.78723813 0.95596547 0.25242475 0.37192997\n",
            "  0.67354114 0.44510129 0.52000497 0.47475665 0.90048451 0.72967686\n",
            "  0.6044032  0.93594761 0.60508813 0.27699319 0.11724186 0.59784413\n",
            "  0.41588292 0.64316368 0.56675356 0.48977687 0.74693134 0.45236866\n",
            "  0.31369693 0.74110268 0.26666777 0.29596533]\n",
            " [0.83861178 0.30953359 0.66066367 0.         0.54575496 0.09544894\n",
            "  0.53363039 0.16343484 0.68345561 0.83585977 0.46960193 0.37030164\n",
            "  0.40274541 0.276073   0.16825778 0.29268626 0.7151901  0.60046975\n",
            "  0.54768022 0.3980572  0.45182462 0.32023638 0.04938015 0.85463013\n",
            "  0.19744174 0.41618176 1.01410293 0.93279986 0.65885304 0.82035805\n",
            "  0.72761391 0.70442618 0.67159371 0.74926837 0.66414756 0.63187501\n",
            "  0.38799608 0.95585517 0.67126788 0.54715901 0.76590117 0.32494081\n",
            "  0.58850419 0.66999752 0.95561576 0.60494865 0.81778108 0.56220823\n",
            "  0.04504603 0.68240663 1.04770765 0.77947174 0.87304252 0.78561928\n",
            "  0.5541598  0.81893315 0.70200385 0.46858068 0.67954388 0.32960904\n",
            "  0.45098798 0.11427551 0.49343222 0.27967492 0.24686594 0.93074015\n",
            "  0.78788484 0.45658838 0.68911516 0.43960221 0.18904282 0.26248621\n",
            "  0.25659443 0.78000658 0.55856258 0.78415582 0.52067539 0.36371321\n",
            "  0.87342526 0.49786846 0.14068448 0.69577218 0.72878932 0.08041525\n",
            "  0.41677353 0.71731892 0.6858884  0.54458401 0.68583355 0.98117467\n",
            "  0.7953724  1.09526344 0.70273103 0.27944211 0.0973086  0.41837603\n",
            "  0.3472979  0.22804191 0.62442838 0.56564143]\n",
            " [0.56108375 0.68873646 0.18139011 0.54575496 0.         0.45049293\n",
            "  0.47150125 0.53537781 0.17438645 0.54493309 0.23255786 0.17616619\n",
            "  0.32698551 0.69341374 0.65977711 0.40201134 0.71609923 0.51259545\n",
            "  0.79953812 0.28282481 0.25044939 0.3172914  0.53184285 0.62676255\n",
            "  0.48802664 0.62587467 0.72710904 0.71212018 0.68407519 0.44600493\n",
            "  0.33038894 0.80400392 0.46721475 0.82070422 0.92752575 0.22180653\n",
            "  0.57913698 0.7430086  0.1644879  0.58263284 0.22763813 0.55269155\n",
            "  0.4933539  0.12733666 0.54419876 0.41491653 0.61910823 0.19919175\n",
            "  0.58628859 0.68586804 0.74687162 0.88336224 0.43059708 0.5772481\n",
            "  0.09619119 0.32840337 0.18061828 0.40027932 0.66167383 0.24009126\n",
            "  0.11172483 0.44438659 0.19033806 0.31830754 0.44415991 0.51807129\n",
            "  0.91623234 0.1055237  0.74618216 0.24565627 0.59202124 0.36983799\n",
            "  0.45148963 0.7729265  0.80359647 0.99959541 0.31319313 0.35393529\n",
            "  0.79401496 0.48989638 0.410979   0.58200198 0.94087118 0.60434302\n",
            "  0.60776473 0.96607134 0.6879122  0.10242789 0.28294992 0.75595698\n",
            "  0.56186969 0.81472494 0.66080209 0.32849845 0.63984497 0.46660646\n",
            "  0.21739385 0.67473059 0.38023556 0.12815683]\n",
            " [0.77366931 0.34967574 0.56989016 0.09544894 0.45049293 0.\n",
            "  0.48529258 0.17587192 0.59097872 0.76905304 0.38263257 0.27539692\n",
            "  0.33504585 0.32675462 0.24072262 0.24148244 0.68993053 0.55297517\n",
            "  0.56765352 0.3157436  0.36650604 0.24721227 0.09493334 0.79708326\n",
            "  0.17018239 0.41582481 0.95177743 0.8783695  0.63541578 0.7428482\n",
            "  0.64537859 0.69788718 0.61035053 0.73892162 0.69173489 0.54552083\n",
            "  0.3794454  0.90313833 0.57881111 0.51849636 0.67051073 0.31777177\n",
            "  0.53893887 0.5751382  0.87609352 0.54185406 0.76337265 0.47651745\n",
            "  0.13629589 0.65605984 0.98400383 0.77666453 0.78889304 0.7286803\n",
            "  0.46177205 0.72930284 0.60699839 0.41224625 0.64910694 0.24023884\n",
            "  0.35577527 0.05365976 0.40773639 0.20168589 0.19926778 0.85073378\n",
            "  0.79029569 0.36287419 0.67338387 0.35951056 0.2232558  0.1988797\n",
            "  0.22209479 0.75596222 0.57742953 0.80471609 0.44850743 0.30115173\n",
            "  0.8398271  0.45614284 0.05754143 0.64957487 0.74696303 0.15995469\n",
            "  0.41155366 0.74327362 0.65944662 0.45012997 0.60187008 0.92716855\n",
            "  0.73517011 1.03521025 0.66911054 0.19736089 0.19156184 0.3786271\n",
            "  0.25626949 0.28593778 0.55521888 0.47187403]\n",
            " [0.32802446 0.42110233 0.41035224 0.53363039 0.47150125 0.48529258\n",
            "  0.         0.39320794 0.45559659 0.33220667 0.62555721 0.408211\n",
            "  0.17954461 0.45722659 0.51537519 0.2442203  0.24922926 0.06768362\n",
            "  0.38939142 0.61843539 0.62885631 0.26050165 0.4873126  0.32578654\n",
            "  0.6413041  0.25758005 0.49101056 0.40013725 0.21273823 0.37712619\n",
            "  0.34531275 0.33460016 0.1621369  0.34920303 0.5001807  0.33245107\n",
            "  0.23106802 0.42240519 0.44782632 0.11975335 0.65210697 0.26307414\n",
            "  0.0550074  0.51564904 0.50964996 0.12133629 0.28571942 0.29545356\n",
            "  0.57479898 0.21697441 0.5269741  0.41247327 0.47679908 0.25710057\n",
            "  0.38845775 0.49937789 0.63641791 0.0839589  0.1961579  0.33884079\n",
            "  0.4874063  0.4351451  0.28125367 0.3075456  0.64321137 0.49094335\n",
            "  0.44695215 0.38796243 0.27474486 0.23466281 0.41560627 0.28859092\n",
            "  0.2779103  0.31118002 0.38845905 0.54564947 0.16301557 0.19311389\n",
            "  0.36578709 0.05058436 0.43042036 0.16431876 0.49021062 0.61369566\n",
            "  0.236851   0.52737085 0.21937729 0.55997392 0.33543732 0.44814411\n",
            "  0.27313969 0.56731007 0.20369805 0.55909786 0.57744502 0.1204437\n",
            "  0.34900884 0.47674275 0.17276141 0.59022179]\n",
            " [0.71347451 0.17792749 0.60789973 0.16343484 0.53537781 0.17587192\n",
            "  0.39320794 0.         0.63949475 0.7137605  0.53030611 0.36599116\n",
            "  0.29969737 0.16512907 0.13693354 0.17605407 0.55499636 0.45736515\n",
            "  0.39344501 0.47407916 0.51815851 0.23990106 0.11452147 0.71888618\n",
            "  0.33981975 0.25294846 0.88302586 0.79252788 0.49824196 0.71955269\n",
            "  0.64120937 0.54103843 0.54402088 0.58585641 0.51613819 0.56173435\n",
            "  0.22500049 0.81351188 0.62758615 0.38991877 0.76301523 0.16221159\n",
            "  0.44792574 0.64747309 0.8573637  0.48206882 0.67869559 0.49286308\n",
            "  0.19503082 0.5228327  0.91829706 0.61649644 0.78900735 0.65002743\n",
            "  0.51492862 0.75625023 0.70992018 0.34119977 0.5219668  0.2956258\n",
            "  0.46489871 0.13177277 0.42815589 0.22023099 0.37481088 0.83408396\n",
            "  0.62598375 0.4326592  0.52631355 0.36148873 0.05786137 0.17596536\n",
            "  0.12278853 0.61910826 0.4036066  0.63082489 0.41798116 0.2552972\n",
            "  0.71641114 0.3516413  0.16081329 0.54966681 0.57379228 0.2356867\n",
            "  0.25335892 0.56797426 0.52633541 0.56447787 0.60583271 0.84002414\n",
            "  0.66393671 0.96046928 0.54678701 0.36101878 0.18465709 0.27327875\n",
            "  0.31811721 0.13944138 0.51143551 0.59098954]\n",
            " [0.43786522 0.76858681 0.04563641 0.68345561 0.17438645 0.59097872\n",
            "  0.45559659 0.63949475 0.         0.41851001 0.40322503 0.32098635\n",
            "  0.36965924 0.78318678 0.77312876 0.47845718 0.67461949 0.47496262\n",
            "  0.82936557 0.45717163 0.42260681 0.40095693 0.66099157 0.51450543\n",
            "  0.65292566 0.66688107 0.58676131 0.59418237 0.65535179 0.29844864\n",
            "  0.19208106 0.78507917 0.39156989 0.79085788 0.94955364 0.12556997\n",
            "  0.62379472 0.62522652 0.01219156 0.57523289 0.20821615 0.61432327\n",
            "  0.45773932 0.08845257 0.37772052 0.3612227  0.51857507 0.16673204\n",
            "  0.72668998 0.64938016 0.60139168 0.85819698 0.26101535 0.47872983\n",
            "  0.12929716 0.15405469 0.22280618 0.40770048 0.62129124 0.3554759\n",
            "  0.28395439 0.57355261 0.21655422 0.4212618  0.6132162  0.35229613\n",
            "  0.89618004 0.22952156 0.71988945 0.28809945 0.69191441 0.46377935\n",
            "  0.5343988  0.72200045 0.83089386 1.00124429 0.29672015 0.40974821\n",
            "  0.71658496 0.48969977 0.54328001 0.51951257 0.94561555 0.75000296\n",
            "  0.64648264 0.98064531 0.65063541 0.26066223 0.15657185 0.63319098\n",
            "  0.45572704 0.67189538 0.61201577 0.49650744 0.77204269 0.49470562\n",
            "  0.33644962 0.77447513 0.31185015 0.27578888]\n",
            " [0.02200267 0.75278669 0.38320213 0.83585977 0.54493309 0.76905304\n",
            "  0.33220667 0.7137605  0.41851001 0.         0.76646389 0.58942989\n",
            "  0.43446625 0.78943322 0.84257587 0.54569267 0.3898136  0.28436728\n",
            "  0.67896247 0.79291623 0.77933438 0.52193491 0.79403231 0.10677385\n",
            "  0.90008485 0.58219391 0.18928609 0.17664944 0.40629142 0.1377953\n",
            "  0.22642952 0.52879623 0.17121733 0.50885797 0.7613307  0.32345444\n",
            "  0.56146048 0.20742973 0.41958634 0.40702574 0.61726735 0.59503362\n",
            "  0.28425369 0.50645184 0.21200451 0.23216387 0.13467636 0.35728751\n",
            "  0.87979988 0.38327769 0.21730913 0.57615428 0.24865284 0.11522692\n",
            "  0.45053449 0.34819576 0.64128697 0.37263789 0.35425326 0.55779141\n",
            "  0.62104981 0.72629333 0.40640781 0.56870028 0.88429816 0.20443126\n",
            "  0.62015185 0.51991274 0.45997425 0.42215948 0.74301088 0.57401565\n",
            "  0.59218194 0.40540563 0.67415123 0.76018606 0.3223718  0.47214762\n",
            "  0.34619172 0.38184004 0.71151203 0.2365604  0.71814909 0.91585731\n",
            "  0.5626318  0.77113372 0.38226696 0.64714944 0.26679283 0.21475348\n",
            "  0.08161621 0.27717254 0.32725503 0.77790059 0.89396866 0.44911458\n",
            "  0.55478081 0.80793759 0.21430856 0.67067204]\n",
            " [0.78083764 0.70628999 0.4139292  0.46960193 0.23255786 0.38263257\n",
            "  0.62555721 0.53030611 0.40322503 0.76646389 0.         0.21910275\n",
            "  0.45049627 0.69475598 0.62270067 0.46586584 0.87416323 0.6805963\n",
            "  0.87761835 0.08060683 0.02380675 0.39374538 0.47746609 0.83944625\n",
            "  0.33579475 0.70354025 0.95243519 0.92625932 0.83231666 0.67625771\n",
            "  0.56027953 0.93636182 0.66514364 0.96310659 1.00835141 0.4483182\n",
            "  0.65711903 0.95653942 0.39446933 0.71792297 0.36178882 0.61158275\n",
            "  0.66143886 0.33517056 0.7767128  0.60331201 0.82521287 0.40976784\n",
            "  0.4986315  0.84107044 0.97421828 1.018536   0.66252628 0.78351517\n",
            "  0.31876752 0.55533782 0.28589102 0.54328224 0.82165739 0.29891769\n",
            "  0.14699385 0.40508716 0.37213912 0.36484511 0.27739714 0.75061073\n",
            "  1.04490082 0.2520996  0.88869832 0.39384897 0.58686738 0.41531546\n",
            "  0.49560848 0.93673716 0.88453917 1.10147809 0.49057242 0.45596872\n",
            "  0.9788829  0.62762458 0.3719009  0.76420413 1.04153587 0.5014289\n",
            "  0.69007859 1.05419666 0.84370671 0.14643985 0.51183322 0.97213629\n",
            "  0.77296293 1.04055038 0.82797419 0.19140046 0.56590845 0.57858538\n",
            "  0.28257022 0.66098032 0.58066629 0.14423126]\n",
            " [0.60045415 0.52897706 0.3065475  0.37030164 0.17616619 0.27539692\n",
            "  0.408211   0.36599116 0.32098635 0.58942989 0.21910275 0.\n",
            "  0.23155002 0.5282032  0.48571238 0.25851201 0.65595806 0.46573641\n",
            "  0.67152194 0.21351884 0.22081746 0.17926535 0.35570205 0.64833036\n",
            "  0.33731669 0.49582905 0.7786957  0.73526658 0.61337389 0.52520347\n",
            "  0.41411818 0.71777148 0.46506274 0.74402816 0.80214425 0.30231488\n",
            "  0.44865935 0.76439583 0.3090151  0.49884134 0.40113985 0.41004253\n",
            "  0.44687368 0.29974527 0.64650715 0.39895801 0.62785538 0.24215365\n",
            "  0.41160952 0.62264334 0.80508548 0.79985405 0.5451641  0.58714234\n",
            "  0.19436082 0.46733917 0.34436613 0.32516996 0.60391697 0.08433915\n",
            "  0.1024314  0.26838018 0.18338707 0.16080697 0.30610206 0.62013125\n",
            "  0.82690338 0.09203591 0.66959765 0.18230048 0.42356726 0.21447745\n",
            "  0.29846071 0.71913388 0.67744806 0.88898499 0.2851935  0.2379248\n",
            "  0.76675481 0.4085999  0.23483189 0.55312164 0.82912358 0.43174762\n",
            "  0.48057383 0.8456761  0.62533495 0.2009827  0.36581121 0.78292981\n",
            "  0.58157169 0.86657142 0.61153333 0.19220809 0.46380384 0.3606768\n",
            "  0.06474628 0.5051896  0.38583904 0.22940302]\n",
            " [0.43866218 0.40206977 0.33060643 0.40274541 0.32698551 0.33504585\n",
            "  0.17954461 0.29969737 0.36965924 0.43446625 0.45049627 0.23155002\n",
            "  0.         0.42173177 0.43623496 0.12374932 0.42488848 0.24200765\n",
            "  0.47395252 0.43935011 0.45219483 0.08963131 0.3631715  0.46449384\n",
            "  0.47634961 0.30297727 0.61681928 0.54785392 0.38183641 0.42207156\n",
            "  0.34181714 0.48913594 0.27640474 0.51329332 0.60094002 0.27107078\n",
            "  0.25764106 0.57410969 0.35890615 0.26832914 0.53675061 0.24473849\n",
            "  0.22433027 0.40399465 0.55935692 0.20733475 0.43384569 0.20681428\n",
            "  0.44721477 0.39136773 0.64895975 0.57074849 0.48955236 0.39703265\n",
            "  0.26461964 0.46534386 0.50478683 0.09558628 0.37349215 0.15930216\n",
            "  0.31877262 0.2919191  0.15519578 0.13810615 0.47137662 0.53555876\n",
            "  0.59974392 0.2289218  0.43863734 0.0847937  0.34289596 0.14025964\n",
            "  0.17946707 0.48870087 0.47749589 0.67386295 0.11960955 0.04475451\n",
            "  0.54415916 0.17715293 0.27756868 0.33543839 0.61477077 0.48224068\n",
            "  0.28373849 0.63908584 0.3941123  0.40184995 0.3084084  0.59673606\n",
            "  0.40121033 0.70072041 0.3830692  0.38130282 0.46829412 0.13974225\n",
            "  0.17024806 0.42141542 0.22174651 0.43253329]\n",
            " [0.78483359 0.04866645 0.74780473 0.276073   0.69341374 0.32675462\n",
            "  0.45722659 0.16512907 0.78318678 0.78943322 0.69475598 0.5282032\n",
            "  0.42173177 0.         0.12286623 0.3048446  0.547051   0.510404\n",
            "  0.29433865 0.63627252 0.68200918 0.38393931 0.24010791 0.7729239\n",
            "  0.47277504 0.22815792 0.94046473 0.83568448 0.49109268 0.82028775\n",
            "  0.7575446  0.49187613 0.61893498 0.54233887 0.39683311 0.6926531\n",
            "  0.23223517 0.85182453 0.77165857 0.40859376 0.92056179 0.19521664\n",
            "  0.50686993 0.80004862 0.95729418 0.56726175 0.72794868 0.62678609\n",
            "  0.28443047 0.52010043 0.97764638 0.5550843  0.90345236 0.70689928\n",
            "  0.66362569 0.88707444 0.87051298 0.4320096  0.52871989 0.45360316\n",
            "  0.62842999 0.29164655 0.56724958 0.37514505 0.51781632 0.93609874\n",
            "  0.55324012 0.58891877 0.49895982 0.49665051 0.10790327 0.32479801\n",
            "  0.24882202 0.60387543 0.3063766  0.52231159 0.53024565 0.37795455\n",
            "  0.71677013 0.4078631  0.32342601 0.58993614 0.47107563 0.31884164\n",
            "  0.24193113 0.45073535 0.52350707 0.72803157 0.72836513 0.88011127\n",
            "  0.72734969 1.00990005 0.55859967 0.52077649 0.23133764 0.34326624\n",
            "  0.47644139 0.05159757 0.60722567 0.7550225 ]\n",
            " [0.84092088 0.16729722 0.74283199 0.16825778 0.65977711 0.24072262\n",
            "  0.51537519 0.13693354 0.77312876 0.84257587 0.62270067 0.48571238\n",
            "  0.43623496 0.12286623 0.         0.31248638 0.6442775  0.57602965\n",
            "  0.41569317 0.55638078 0.60706571 0.37574913 0.14593342 0.84011048\n",
            "  0.36452467 0.32426868 1.006249   0.90964862 0.58728257 0.85452401\n",
            "  0.77794748 0.60372241 0.67168083 0.65288024 0.51957475 0.69833704\n",
            "  0.31361334 0.92861801 0.76111852 0.49126769 0.88658112 0.25947381\n",
            "  0.56887085 0.77633424 0.99243913 0.61242769 0.7977645  0.62925307\n",
            "  0.16678039 0.61474356 1.04234075 0.67092794 0.92573003 0.7719624\n",
            "  0.64692797 0.89263208 0.82930539 0.47176155 0.61915734 0.42314805\n",
            "  0.5794702  0.22200617 0.56389328 0.35196476 0.41512169 0.96946383\n",
            "  0.67174645 0.55997058 0.60341119 0.4980649  0.09980071 0.31140836\n",
            "  0.25771191 0.70468943 0.4275671  0.645162   0.55387581 0.39167069\n",
            "  0.81183515 0.46989596 0.25668834 0.66386027 0.5936257  0.19820501\n",
            "  0.33289227 0.57349694 0.61823517 0.67781999 0.74276533 0.9560303\n",
            "  0.78840232 1.08083655 0.64699386 0.43772838 0.10864412 0.39521869\n",
            "  0.44483878 0.07134614 0.64472172 0.70221337]\n",
            " [0.54735669 0.29147706 0.44302762 0.29268626 0.40201134 0.24148244\n",
            "  0.2442203  0.17605407 0.47845718 0.54569267 0.46586584 0.25851201\n",
            "  0.12374932 0.3048446  0.31248638 0.         0.45617211 0.31184598\n",
            "  0.41349562 0.43327792 0.46116757 0.0847407  0.24886385 0.56202009\n",
            "  0.40226632 0.23822282 0.72169408 0.64091941 0.40414295 0.54408153\n",
            "  0.46552531 0.48554703 0.37935327 0.52019665 0.54426751 0.39034599\n",
            "  0.1914325  0.66464199 0.46699182 0.28491169 0.62527989 0.15245618\n",
            "  0.29838212 0.49942    0.68175542 0.31373066 0.52580021 0.32304421\n",
            "  0.33557011 0.42186347 0.75561754 0.56741396 0.6132832  0.49304709\n",
            "  0.36104387 0.58529564 0.58246057 0.17590529 0.41198927 0.17439534\n",
            "  0.36000498 0.19092493 0.26240802 0.10102129 0.41189575 0.65829279\n",
            "  0.5886975  0.29660816 0.44957935 0.19208476 0.21990193 0.05450736\n",
            "  0.05685198 0.52242421 0.41979391 0.63579099 0.24204532 0.07924424\n",
            "  0.60002912 0.21521587 0.18794249 0.40833001 0.57586043 0.37310148\n",
            "  0.22422822 0.58889095 0.4251264  0.45564785 0.43127698 0.68947704\n",
            "  0.5027697  0.80258013 0.4300248  0.34652894 0.3490648  0.13977352\n",
            "  0.19582971 0.29989573 0.33823124 0.4853091 ]\n",
            " [0.37267122 0.49977462 0.6291833  0.7151901  0.71609923 0.68993053\n",
            "  0.24922926 0.55499636 0.67461949 0.3898136  0.87416323 0.65595806\n",
            "  0.42488848 0.547051   0.6442775  0.45617211 0.         0.20416618\n",
            "  0.33040767 0.8636477  0.87677454 0.4968204  0.66590654 0.31251856\n",
            "  0.8565196  0.32093609 0.46089693 0.33719859 0.05712872 0.50009882\n",
            "  0.52175977 0.13962515 0.29198674 0.12228849 0.38293447 0.5492212\n",
            "  0.33319685 0.34176144 0.66900662 0.17172153 0.87994329 0.39381976\n",
            "  0.22314244 0.74554151 0.60165767 0.3136731  0.2661566  0.52861039\n",
            "  0.74986955 0.03437289 0.49848433 0.19143334 0.61622764 0.27467634\n",
            "  0.62830807 0.67899395 0.87323925 0.33089808 0.05448798 0.58294025\n",
            "  0.73663113 0.63654493 0.52620463 0.54004961 0.86804098 0.59230244\n",
            "  0.2340881  0.63660895 0.07386361 0.48378486 0.55349516 0.50869109\n",
            "  0.46794762 0.06626407 0.32186024 0.37037249 0.40300578 0.42867402\n",
            "  0.1699786  0.25010968 0.64106567 0.16548851 0.32977275 0.79050267\n",
            "  0.31139656 0.38534247 0.03123778 0.80756097 0.53110667 0.37060002\n",
            "  0.30820852 0.50733945 0.06605692 0.79538874 0.73227976 0.31688218\n",
            "  0.59509882 0.58534817 0.36323277 0.83755891]\n",
            " [0.27696504 0.47137674 0.42933196 0.60046975 0.51259545 0.55297517\n",
            "  0.06768362 0.45736515 0.47496262 0.28436728 0.6805963  0.46573641\n",
            "  0.24200765 0.510404   0.57602965 0.31184598 0.20416618 0.\n",
            "  0.40614373 0.6779196  0.68527244 0.32601914 0.553794   0.26429766\n",
            "  0.70857578 0.29788636 0.43124474 0.33517655 0.18041529 0.35041397\n",
            "  0.33982155 0.3111759  0.12457151 0.31622034 0.50533747 0.34946062\n",
            "  0.27936496 0.35643676 0.46858085 0.12719821 0.67806043 0.31949549\n",
            "  0.01938839 0.5428236  0.47611796 0.11551726 0.22190232 0.32472702\n",
            "  0.64126456 0.17583675 0.46798472 0.3832431  0.45828987 0.1969101\n",
            "  0.42415562 0.49779664 0.66933713 0.14760566 0.1496963  0.40040815\n",
            "  0.53919921 0.5027628  0.32336495 0.37361677 0.70952188 0.45985108\n",
            "  0.4214575  0.43680326 0.24497574 0.28684452 0.47659394 0.35613024\n",
            "  0.34424635 0.26059675 0.40319264 0.53473798 0.19942937 0.25943944\n",
            "  0.30236723 0.10626438 0.49807401 0.09665479 0.48274913 0.68038383\n",
            "  0.27850792 0.52618109 0.17745987 0.60565358 0.33968117 0.38270094\n",
            "  0.21717823 0.50483055 0.14894272 0.62316553 0.64195935 0.18418361\n",
            "  0.40890633 0.53365763 0.16904406 0.63536182]\n",
            " [0.66680303 0.24840222 0.78591625 0.54768022 0.79953812 0.56765352\n",
            "  0.38939142 0.39344501 0.82936557 0.67896247 0.87761835 0.67152194\n",
            "  0.47395252 0.29433865 0.41569317 0.41349562 0.33040767 0.40614373\n",
            "  0.         0.83786433 0.8712684  0.49327748 0.50253917 0.62517708\n",
            "  0.73322279 0.17578546 0.78451882 0.66381547 0.28762187 0.75654107\n",
            "  0.73468927 0.22589148 0.53062283 0.2773492  0.13081405 0.71249211\n",
            "  0.22305654 0.67090847 0.82001157 0.27917943 1.00965806 0.26664937\n",
            "  0.41429145 0.87517028 0.88052769 0.50879452 0.57698948 0.66287128\n",
            "  0.56673057 0.31704004 0.82256972 0.27156328 0.86274735 0.57186171\n",
            "  0.73715325 0.88814621 0.97852294 0.42179062 0.33927856 0.58718923\n",
            "  0.7720334  0.51861443 0.62563182 0.51390085 0.76685254 0.86528448\n",
            "  0.26255608 0.69755138 0.26181827 0.55816467 0.35866033 0.46236917\n",
            "  0.38299139 0.36821751 0.01232127 0.23738958 0.53406806 0.44596695\n",
            "  0.49100512 0.34544194 0.54025645 0.44443614 0.18111116 0.60452115\n",
            "  0.19230563 0.17792073 0.31955344 0.86514102 0.72333232 0.6999082\n",
            "  0.6014036  0.83652746 0.37122109 0.73650905 0.52245367 0.3370579\n",
            "  0.60782637 0.34479207 0.56170821 0.89536732]\n",
            " [0.80560477 0.65180635 0.46136781 0.3980572  0.28282481 0.3157436\n",
            "  0.61843539 0.47407916 0.45717163 0.79291623 0.08060683 0.21351884\n",
            "  0.43935011 0.63627252 0.55638078 0.43327792 0.8636477  0.6779196\n",
            "  0.83786433 0.         0.05803847 0.37044382 0.41045343 0.85816381\n",
            "  0.25544664 0.66679246 0.98125345 0.94524554 0.81833138 0.7136247\n",
            "  0.5982491  0.91460739 0.67728117 0.94494876 0.96787087 0.48436517\n",
            "  0.62162613 0.97482992 0.44730114 0.7010074  0.43794136 0.57133877\n",
            "  0.65925906 0.39769434 0.82239703 0.61198634 0.83967715 0.43663432\n",
            "  0.42435751 0.8298301  1.00536458 0.99690476 0.71137076 0.79859715\n",
            "  0.35709759 0.6110982  0.36279041 0.53463755 0.81275999 0.28071273\n",
            "  0.17809756 0.34463379 0.38860437 0.3340892  0.19679171 0.79601453\n",
            "  1.02050583 0.27315918 0.87155335 0.3958062  0.52900013 0.3799696\n",
            "  0.4551497  0.92791106 0.84559411 1.06696477 0.49812791 0.43687539\n",
            "  0.97963638 0.61399732 0.31337216 0.76641825 1.0071817  0.42468478\n",
            "  0.65515211 1.01557911 0.83267546 0.21357138 0.54912397 0.99234663\n",
            "  0.7913266  1.06948778 0.82213343 0.11892776 0.49305014 0.55711182\n",
            "  0.26943623 0.59937526 0.59609159 0.21805354]\n",
            " [0.79327263 0.69493557 0.43172871 0.45182462 0.25044939 0.36650604\n",
            "  0.62885631 0.51815851 0.42260681 0.77933438 0.02380675 0.22081746\n",
            "  0.45219483 0.68200918 0.60706571 0.46116757 0.87677454 0.68527244\n",
            "  0.8712684  0.05803847 0.         0.3916132  0.46143863 0.85030318\n",
            "  0.31347662 0.69798537 0.96606665 0.93725556 0.83386421 0.69188702\n",
            "  0.57592366 0.93566709 0.67399879 0.96351705 1.00184985 0.46325578\n",
            "  0.65189974 0.96736741 0.413565   0.71847004 0.38549334 0.60479647\n",
            "  0.66622987 0.35642897 0.79449765 0.61109975 0.83489379 0.42213286\n",
            "  0.47973862 0.84343812 0.98846775 1.01793482 0.68099224 0.79332642\n",
            "  0.33390037 0.57533631 0.30964215 0.54597256 0.82469453 0.29775797\n",
            "  0.15832653 0.39126737 0.38147512 0.36032992 0.25458855 0.76831021\n",
            "  1.0434733  0.26198439 0.88935492 0.39914598 0.57423202 0.40960564\n",
            "  0.4885361  0.93989566 0.87845365 1.09693277 0.49779888 0.4553293\n",
            "  0.98484208 0.62901516 0.3586456  0.77039003 1.03700986 0.48140229\n",
            "  0.68508051 1.04831933 0.84613848 0.16817825 0.52722463 0.98349341\n",
            "  0.78366244 1.05426017 0.83190943 0.17262407 0.54765765 0.57754197\n",
            "  0.28277597 0.64710108 0.5902991  0.16744667]\n",
            " [0.52692229 0.37405565 0.36819578 0.32023638 0.3172914  0.24721227\n",
            "  0.26050165 0.23990106 0.40095693 0.52193491 0.39374538 0.17926535\n",
            "  0.08963131 0.38393931 0.37574913 0.0847407  0.4968204  0.32601914\n",
            "  0.49327748 0.37044382 0.3916132  0.         0.28429188 0.55411878\n",
            "  0.38695882 0.31749586 0.70564556 0.63743269 0.44929085 0.50014277\n",
            "  0.41017668 0.54467531 0.36594667 0.57451161 0.62365047 0.32318048\n",
            "  0.2702211  0.66356844 0.38920162 0.33104445 0.54111242 0.23650286\n",
            "  0.30932101 0.41676875 0.63575464 0.29675951 0.52329584 0.25372309\n",
            "  0.36518197 0.46262301 0.7373744  0.62699096 0.557204   0.486647\n",
            "  0.27968669 0.51698695 0.49772049 0.17855051 0.44794382 0.09543293\n",
            "  0.27877874 0.20705931 0.18826447 0.04859436 0.38385493 0.61109162\n",
            "  0.65189685 0.21186899 0.50125381 0.12347333 0.29104577 0.06443524\n",
            "  0.13613629 0.5621734  0.49887551 0.70983346 0.20164418 0.06836793\n",
            "  0.62617585 0.24690464 0.18968445 0.42126242 0.64994921 0.39842988\n",
            "  0.30168437 0.66662221 0.46562304 0.37267124 0.37109049 0.68631815\n",
            "  0.49069696 0.78993946 0.46095528 0.29955876 0.39310319 0.18672338\n",
            "  0.11484343 0.37351841 0.3080068  0.40263584]\n",
            " [0.79609584 0.26929702 0.63565633 0.04938015 0.53184285 0.09493334\n",
            "  0.4873126  0.11452147 0.66099157 0.79403231 0.47746609 0.35570205\n",
            "  0.3631715  0.24010791 0.14593342 0.24886385 0.66590654 0.553794\n",
            "  0.50253917 0.41045343 0.46143863 0.28429188 0.         0.80979288\n",
            "  0.23439131 0.36746198 0.97045878 0.88707469 0.60953072 0.78357211\n",
            "  0.6941223  0.65553677 0.6282082  0.70015357 0.62120079 0.60208446\n",
            "  0.33871514 0.9097143  0.64881024 0.49814964 0.75570236 0.27563182\n",
            "  0.54228117 0.65350716 0.91977161 0.56238513 0.77219697 0.53215559\n",
            "  0.08748688 0.6331767  1.00447352 0.73095929 0.84063206 0.74072857\n",
            "  0.53208292 0.79198243 0.69472674 0.42451456 0.63054326 0.30551605\n",
            "  0.44333477 0.08795334 0.46381835 0.24743825 0.27770859 0.89524733\n",
            "  0.73997784 0.43772843 0.63977365 0.40618335 0.14513032 0.2235572\n",
            "  0.20955025 0.73067273 0.51319854 0.73956776 0.48219928 0.32254207\n",
            "  0.82454928 0.45044381 0.12087074 0.64866664 0.6835794  0.12687813\n",
            "  0.36768885 0.67401055 0.63666109 0.53985508 0.65378949 0.93530026\n",
            "  0.75138816 1.05084966 0.65396215 0.29180298 0.1112806  0.37092462\n",
            "  0.32497945 0.19549879 0.58412925 0.56281373]\n",
            " [0.08477122 0.73221564 0.47619885 0.85463013 0.62676255 0.79708326\n",
            "  0.32578654 0.71888618 0.51450543 0.10677385 0.83944625 0.64833036\n",
            "  0.46449384 0.7729239  0.84011048 0.56202009 0.31251856 0.26429766\n",
            "  0.62517708 0.85816381 0.85030318 0.55411878 0.80979288 0.\n",
            "  0.94010874 0.55332096 0.16755585 0.08708518 0.3405351  0.24437196\n",
            "  0.32392144 0.45166504 0.1885909  0.42493206 0.6939362  0.40928042\n",
            "  0.5408035  0.11709326 0.51432206 0.37035274 0.71737991 0.58366624\n",
            "  0.27146764 0.60115085 0.30557083 0.25802904 0.04819151 0.43114208\n",
            "  0.89704348 0.31360433 0.20496328 0.48958669 0.3549045  0.06907422\n",
            "  0.53076345 0.45410942 0.7368049  0.38634276 0.28761756 0.60502603\n",
            "  0.69256017 0.75031472 0.46984227 0.60249864 0.93077251 0.30279913\n",
            "  0.5338214  0.58836803 0.38583865 0.47096191 0.74053025 0.59839541\n",
            "  0.60171276 0.31583045 0.61881316 0.67912729 0.36657489 0.49593155\n",
            "  0.24279979 0.37022927 0.74010895 0.18625068 0.64171761 0.93503388\n",
            "  0.53561201 0.69785605 0.31184301 0.72909166 0.35899988 0.13469082\n",
            "  0.06683879 0.24160268 0.25689759 0.83036352 0.90284422 0.44615205\n",
            "  0.60574818 0.79769137 0.26249798 0.75440156]\n",
            " [0.90741265 0.50366964 0.64275087 0.19744174 0.48802664 0.17018239\n",
            "  0.6413041  0.33981975 0.65292566 0.90008485 0.33579475 0.33731669\n",
            "  0.47634961 0.47277504 0.36452467 0.40226632 0.8565196  0.70857578\n",
            "  0.73322279 0.25544664 0.31347662 0.38695882 0.23439131 0.94010874\n",
            "  0.         0.58558911 1.08727362 1.02409568 0.80281239 0.85444973\n",
            "  0.74737625 0.86801409 0.75154891 0.90873932 0.85442887 0.63794662\n",
            "  0.54962479 1.05045924 0.64135632 0.68480064 0.68089581 0.48783558\n",
            "  0.69310866 0.6146026  0.98070317 0.68211858 0.91019365 0.57405698\n",
            "  0.20279694 0.82241107 1.1172785  0.94684583 0.88203953 0.87316794\n",
            "  0.53026972 0.80295969 0.60849371 0.56314541 0.81388384 0.343726\n",
            "  0.37758744 0.22348381 0.50885764 0.33836539 0.06166577 0.95450238\n",
            "  0.96024522 0.42840825 0.84252171 0.47841934 0.37903114 0.35320903\n",
            "  0.39028252 0.92272828 0.7434249  0.97061217 0.57832521 0.45007434\n",
            "  1.00210981 0.61702945 0.21545417 0.80500048 0.91359253 0.1876512\n",
            "  0.58167078 0.90684266 0.8257484  0.45064684 0.70011123 1.07296258\n",
            "  0.8757519  1.1730746  0.83229015 0.16078832 0.27348236 0.54182279\n",
            "  0.35048802 0.4254063  0.68654742 0.4630078 ]\n",
            " [0.57470482 0.18282202 0.62495963 0.41618176 0.62587467 0.41582481\n",
            "  0.25758005 0.25294846 0.66688107 0.58219391 0.70354025 0.49582905\n",
            "  0.30297727 0.22815792 0.32426868 0.23822282 0.32093609 0.29788636\n",
            "  0.17578546 0.66679246 0.69798537 0.31749586 0.36746198 0.55332096\n",
            "  0.58558911 0.         0.72046639 0.61133455 0.26430046 0.63454253\n",
            "  0.59354038 0.2884032  0.41688857 0.33442382 0.30631524 0.55558495\n",
            "  0.04728701 0.62607942 0.65686411 0.18369471 0.83970089 0.09896918\n",
            "  0.29873529 0.70673972 0.76708623 0.37779813 0.50691916 0.50034956\n",
            "  0.44471088 0.29273209 0.75816371 0.36363933 0.73136265 0.48983043\n",
            "  0.56756435 0.74023839 0.80563784 0.2652133  0.30057163 0.41149004\n",
            "  0.59624796 0.36359139 0.45720043 0.33901438 0.61203677 0.74852233\n",
            "  0.37475711 0.52296662 0.27986317 0.38775851 0.23829069 0.28839148\n",
            "  0.21230991 0.38047097 0.18165376 0.40029349 0.37767992 0.27194809\n",
            "  0.48988775 0.20741463 0.38016291 0.36773412 0.34063832 0.48501265\n",
            "  0.02123736 0.35073147 0.29617637 0.68955802 0.57503254 0.65464298\n",
            "  0.51349642 0.78638816 0.33048714 0.57001336 0.41743426 0.17290143\n",
            "  0.43205254 0.26445994 0.42620497 0.71973034]\n",
            " [0.17994238 0.89974234 0.55684277 1.01410293 0.72710904 0.95177743\n",
            "  0.49101056 0.88302586 0.58676131 0.18928609 0.95243519 0.7786957\n",
            "  0.61681928 0.94046473 1.006249   0.72169408 0.46089693 0.43124474\n",
            "  0.78451882 0.98125345 0.96606665 0.70564556 0.97045878 0.16755585\n",
            "  1.08727362 0.72046639 0.         0.12541911 0.49713007 0.28839439\n",
            "  0.39911812 0.5955535  0.3425316  0.56119784 0.84327942 0.50555498\n",
            "  0.70835857 0.13198397 0.58988558 0.53713333 0.7724094  0.75074022\n",
            "  0.43741557 0.67508941 0.26685719 0.41008924 0.21357806 0.54484695\n",
            "  1.05725754 0.46834338 0.03812581 0.61981136 0.36355561 0.23444109\n",
            "  0.63455555 0.4854565  0.80649254 0.54595279 0.44525038 0.74606677\n",
            "  0.80803974 0.90705041 0.59558824 0.75321706 1.07285039 0.2789532\n",
            "  0.66321199 0.70810081 0.53460232 0.61036522 0.90653149 0.75447096\n",
            "  0.76413628 0.44837466 0.77737164 0.81354198 0.50894889 0.65181798\n",
            "  0.34503509 0.53672138 0.89435153 0.35283165 0.78260031 1.09446567\n",
            "  0.70295049 0.84148055 0.46609382 0.82850486 0.44466711 0.11033193\n",
            "  0.2193094  0.08825051 0.41331253 0.96707158 1.06619146 0.61141771\n",
            "  0.74362816 0.9648841  0.40075235 0.85045733]\n",
            " [0.15645268 0.79301155 0.55749199 0.93279986 0.71212018 0.8783695\n",
            "  0.40013725 0.79252788 0.59418237 0.17664944 0.92625932 0.73526658\n",
            "  0.54785392 0.83568448 0.90964862 0.64091941 0.33719859 0.33517655\n",
            "  0.66381547 0.94524554 0.93725556 0.63743269 0.88707469 0.08708518\n",
            "  1.02409568 0.61133455 0.12541911 0.         0.37625196 0.31097363\n",
            "  0.4022792  0.47053619 0.27361525 0.43578    0.71872864 0.4931709\n",
            "  0.60383271 0.03112199 0.5947544  0.42783935 0.79391604 0.65099646\n",
            "  0.34514111 0.68170508 0.34206293 0.34283831 0.11513185 0.51751187\n",
            "  0.97452571 0.34680475 0.16208458 0.49466034 0.41251654 0.15099211\n",
            "  0.61632096 0.52159829 0.81696469 0.46631306 0.32551107 0.6909084\n",
            "  0.77942384 0.83058623 0.55692024 0.68595787 1.01603356 0.3456355\n",
            "  0.53819082 0.6753553  0.4106039  0.55734246 0.81068602 0.67948987\n",
            "  0.67793501 0.32295579 0.6562114  0.68826329 0.45283845 0.57754253\n",
            "  0.22248909 0.44120502 0.82174365 0.24631248 0.65721359 1.01307882\n",
            "  0.59505049 0.71620828 0.34435674 0.81452731 0.44035246 0.04888861\n",
            "  0.15391917 0.17537041 0.29329211 0.91660483 0.97708805 0.5192785\n",
            "  0.69208643 0.86363627 0.34947768 0.8394357 ]\n",
            " [0.39123511 0.44411557 0.60971763 0.65885304 0.68407519 0.63541578\n",
            "  0.21273823 0.49824196 0.65535179 0.40629142 0.83231666 0.61337389\n",
            "  0.38183641 0.49109268 0.58728257 0.40414295 0.05712872 0.18041529\n",
            "  0.28762187 0.81833138 0.83386421 0.44929085 0.60953072 0.3405351\n",
            "  0.80281239 0.26430046 0.49713007 0.37625196 0.         0.50537421\n",
            "  0.51416584 0.13234447 0.28636897 0.13709314 0.35551371 0.52987014\n",
            "  0.27608265 0.38420896 0.64888121 0.11942562 0.85775118 0.33685168\n",
            "  0.19775264 0.72206385 0.61589096 0.2953104  0.29263394 0.50272275\n",
            "  0.69319022 0.03037102 0.53513472 0.20297179 0.61960886 0.29339212\n",
            "  0.59941931 0.67248155 0.84652126 0.2903283  0.05299355 0.53790081\n",
            "  0.69764409 0.58190501 0.49374803 0.49106294 0.81588202 0.604296\n",
            "  0.24115196 0.59996441 0.06456773 0.44616193 0.49636697 0.45736687\n",
            "  0.41332101 0.12119912 0.28026387 0.36201065 0.37303724 0.38173242\n",
            "  0.22571791 0.20485394 0.58744863 0.17105213 0.31479324 0.73383463\n",
            "  0.25439044 0.36540539 0.03343505 0.77249444 0.51826104 0.41327077\n",
            "  0.32544432 0.54959205 0.08401557 0.74625224 0.67517436 0.2660122\n",
            "  0.55126254 0.5287604  0.34781747 0.80280741]\n",
            " [0.15973302 0.78957931 0.27022765 0.82035805 0.44600493 0.7428482\n",
            "  0.37712619 0.71955269 0.29844864 0.1377953  0.67625771 0.52520347\n",
            "  0.42207156 0.82028775 0.85452401 0.54408153 0.50009882 0.35041397\n",
            "  0.75654107 0.7136247  0.69188702 0.50014277 0.78357211 0.24437196\n",
            "  0.85444973 0.63454253 0.28839439 0.31097363 0.50537421 0.\n",
            "  0.11598394 0.63485594 0.2261598  0.62209624 0.8525769  0.22929446\n",
            "  0.60512999 0.34089566 0.3018773  0.47742363 0.48748986 0.62605392\n",
            "  0.34286688 0.38671785 0.13793017 0.25704087 0.26676384 0.28305213\n",
            "  0.86532106 0.48702514 0.30348694 0.69091289 0.11681196 0.23740484\n",
            "  0.35803733 0.21086949 0.5183996  0.38836294 0.45678556 0.51240523\n",
            "  0.53636525 0.70677816 0.34572212 0.54205513 0.83002949 0.11581598\n",
            "  0.73406436 0.44377595 0.5649392  0.38342576 0.75760411 0.56009893\n",
            "  0.59707203 0.52609971 0.75358181 0.86671469 0.30248647 0.46530046\n",
            "  0.47981369 0.42712797 0.68626463 0.33608481 0.82008178 0.89807101\n",
            "  0.61367034 0.86884187 0.4867359  0.54551877 0.16474955 0.34382038\n",
            "  0.20493137 0.37356086 0.43451111 0.71740733 0.8901669  0.47839816\n",
            "  0.50401649 0.83054442 0.21308032 0.56581099]\n",
            " [0.24587188 0.73191231 0.15814891 0.72761391 0.33038894 0.64537859\n",
            "  0.34531275 0.64120937 0.19208106 0.22642952 0.56027953 0.41411818\n",
            "  0.34181714 0.7575446  0.77794748 0.46552531 0.52175977 0.33982155\n",
            "  0.73468927 0.5982491  0.57592366 0.41017668 0.6941223  0.32392144\n",
            "  0.74737625 0.59354038 0.39911812 0.4022792  0.51416584 0.11598394\n",
            "  0.         0.64650804 0.22979796 0.6429855  0.84252522 0.11404768\n",
            "  0.55797788 0.43328562 0.1933421  0.45966064 0.39355967 0.56815684\n",
            "  0.32674142 0.28009695 0.23336444 0.22738246 0.3320521  0.1733196\n",
            "  0.77264354 0.50182712 0.41707972 0.71202981 0.14780072 0.29415136\n",
            "  0.24212488 0.15835905 0.41487007 0.33157625 0.47192419 0.40917826\n",
            "  0.42070232 0.61334859 0.23988205 0.44796032 0.72005475 0.2072597\n",
            "  0.7531058  0.33002528 0.57766925 0.28813568 0.68442191 0.47306325\n",
            "  0.52116111 0.5601226  0.73359205 0.87386221 0.22733593 0.38651323\n",
            "  0.53775045 0.39104179 0.59006084 0.35784532 0.82251701 0.80331032\n",
            "  0.57230337 0.8655727  0.50235407 0.43055339 0.04917084 0.44113194\n",
            "  0.26810227 0.48591391 0.45617987 0.60605935 0.80327681 0.42567767\n",
            "  0.3984727  0.76164058 0.17348117 0.45166738]\n",
            " [0.51200589 0.44321953 0.73946034 0.70442618 0.80400392 0.69788718\n",
            "  0.33460016 0.54103843 0.78507917 0.52879623 0.93636182 0.71777148\n",
            "  0.48913594 0.49187613 0.60372241 0.48554703 0.13962515 0.3111759\n",
            "  0.22589148 0.91460739 0.93566709 0.54467531 0.65553677 0.45166504\n",
            "  0.86801409 0.2884032  0.5955535  0.47053619 0.13234447 0.63485594\n",
            "  0.64650804 0.         0.41838318 0.05185121 0.24914762 0.65987766\n",
            "  0.31896922 0.47148911 0.77822088 0.22199941 0.98550907 0.38174078\n",
            "  0.32762809 0.84930682 0.7403427  0.42660103 0.40564821 0.62920708\n",
            "  0.73298859 0.14783101 0.6326038  0.08231656 0.74998196 0.41385764\n",
            "  0.72296032 0.80481688 0.9710026  0.40441424 0.1780855  0.63792186\n",
            "  0.80790584 0.64454207 0.61455659 0.58120577 0.88901136 0.73029037\n",
            "  0.11238718 0.71463657 0.06992412 0.56117813 0.52501832 0.54005387\n",
            "  0.48074736 0.15190672 0.21486434 0.23212805 0.49748415 0.48044759\n",
            "  0.27350085 0.31497947 0.65634094 0.29881513 0.190175   0.77319514\n",
            "  0.28821812 0.2466418  0.14818086 0.88819814 0.65019368 0.4996352\n",
            "  0.44719057 0.63546099 0.20192533 0.83204201 0.70273545 0.35815988\n",
            "  0.65380591 0.53732204 0.47958287 0.91878451]\n",
            " [0.1694845  0.58323303 0.34729205 0.67159371 0.46721475 0.61035053\n",
            "  0.1621369  0.54402088 0.39156989 0.17121733 0.66514364 0.46506274\n",
            "  0.27640474 0.61893498 0.67168083 0.37935327 0.29198674 0.12457151\n",
            "  0.53062283 0.67728117 0.67399879 0.36594667 0.6282082  0.1885909\n",
            "  0.75154891 0.41688857 0.3425316  0.27361525 0.28636897 0.2261598\n",
            "  0.22979796 0.41838318 0.         0.41323775 0.62721293 0.26919558\n",
            "  0.39291568 0.30139648 0.3875948  0.2517685  0.59960778 0.42418118\n",
            "  0.11897759 0.46967776 0.3521098  0.06943887 0.16293624 0.26817094\n",
            "  0.71484608 0.27243386 0.3762654  0.48232598 0.33615257 0.12302253\n",
            "  0.37201205 0.3874235  0.60302083 0.2040257  0.24237566 0.41743192\n",
            "  0.51850782 0.56480739 0.29304001 0.41420127 0.74246478 0.33539733\n",
            "  0.52365726 0.41313402 0.34899819 0.28480519 0.57203007 0.41231975\n",
            "  0.4233527  0.33271419 0.52750647 0.64800165 0.18033326 0.30961768\n",
            "  0.32912046 0.21242931 0.55311076 0.12934415 0.59878269 0.75194475\n",
            "  0.39666346 0.64532498 0.27284273 0.56735903 0.24134566 0.32227006\n",
            "  0.12486389 0.42489712 0.2265539  0.64343494 0.72562641 0.27790182\n",
            "  0.41922605 0.6367674  0.08698049 0.59498754]\n",
            " [0.49081494 0.49367284 0.7452573  0.74926837 0.82070422 0.73892162\n",
            "  0.34920303 0.58585641 0.79085788 0.50885797 0.96310659 0.74402816\n",
            "  0.51329332 0.54233887 0.65288024 0.52019665 0.12228849 0.31622034\n",
            "  0.2773492  0.94494876 0.96351705 0.57451161 0.70015357 0.42493206\n",
            "  0.90873932 0.33442382 0.56119784 0.43578    0.13709314 0.62209624\n",
            "  0.6429855  0.05185121 0.41323775 0.         0.29112299 0.66528965\n",
            "  0.36194837 0.43417114 0.78467539 0.24518689 0.99422692 0.42506705\n",
            "  0.33409771 0.85876049 0.72084677 0.42984874 0.38073404 0.63967885\n",
            "  0.77898907 0.14198651 0.59758976 0.06919738 0.73836596 0.39369683\n",
            "  0.73649268 0.800599   0.98360344 0.42447116 0.1713063  0.66607714\n",
            "  0.83114276 0.68536584 0.63043834 0.61325271 0.92756605 0.71244789\n",
            "  0.1119821  0.73505335 0.07490528 0.58114018 0.57223109 0.57457546\n",
            "  0.51953827 0.1128581  0.26617065 0.25437544 0.51011495 0.50858468\n",
            "  0.22950998 0.33656087 0.69554576 0.28774012 0.22168445 0.81936144\n",
            "  0.33249785 0.28167339 0.14109201 0.90807472 0.6505805  0.46167867\n",
            "  0.4275336  0.59622376 0.18832041 0.86637043 0.75065486 0.38798328\n",
            "  0.68083067 0.5871778  0.48118055 0.93849072]\n",
            " [0.74666218 0.35615359 0.90533744 0.66414756 0.92752575 0.69173489\n",
            "  0.5001807  0.51613819 0.94955364 0.7613307  1.00835141 0.80214425\n",
            "  0.60094002 0.39683311 0.51957475 0.54426751 0.38293447 0.50533747\n",
            "  0.13081405 0.96787087 1.00184985 0.62365047 0.62120079 0.6939362\n",
            "  0.85442887 0.30631524 0.84327942 0.71872864 0.35551371 0.8525769\n",
            "  0.84252522 0.24914762 0.62721293 0.29112299 0.         0.82989826\n",
            "  0.353512   0.72049121 0.94066764 0.38293263 1.13450276 0.39707286\n",
            "  0.51654351 0.99917513 0.96936947 0.61514292 0.64659394 0.7839548\n",
            "  0.67886282 0.3807162  0.88061852 0.25395407 0.96314508 0.64890455\n",
            "  0.86231083 0.99871249 1.10568822 0.54243896 0.40824501 0.71780527\n",
            "  0.90242813 0.64421008 0.75044394 0.64471361 0.89090473 0.95644618\n",
            "  0.22489921 0.82641681 0.30907108 0.68444976 0.47608483 0.59314856\n",
            "  0.51339736 0.40068006 0.12478456 0.12939025 0.6529228  0.57480822\n",
            "  0.5205201  0.4606842  0.66736978 0.52498577 0.0936454  0.71481934\n",
            "  0.32212776 0.05394336 0.38229877 0.99499689 0.83553431 0.74872103\n",
            "  0.68082209 0.88460855 0.43760483 0.86513378 0.62815384 0.46232163\n",
            "  0.73831831 0.44842849 0.66912826 1.02530568]\n",
            " [0.34014662 0.67279221 0.08000074 0.63187501 0.22180653 0.54552083\n",
            "  0.33245107 0.56173435 0.12556997 0.32345444 0.4483182  0.30231488\n",
            "  0.27107078 0.6926531  0.69833704 0.39034599 0.5492212  0.34946062\n",
            "  0.71249211 0.48436517 0.46325578 0.32318048 0.60208446 0.40928042\n",
            "  0.63794662 0.55558495 0.50555498 0.4931709  0.52987014 0.22929446\n",
            "  0.11404768 0.65987766 0.26919558 0.66528965 0.82989826 0.\n",
            "  0.51471912 0.52423041 0.11982892 0.4521965  0.33157091 0.51285335\n",
            "  0.33236296 0.20051436 0.34433526 0.23569324 0.40674718 0.0699452\n",
            "  0.67662237 0.52382126 0.52617715 0.73266996 0.24502837 0.3655712\n",
            "  0.12955438 0.19495401 0.3346394  0.29163953 0.49579165 0.30588156\n",
            "  0.30710737 0.51803636 0.13846713 0.35475414 0.60838568 0.31792111\n",
            "  0.77079272 0.21638207 0.5944213  0.2002727  0.6097342  0.38758594\n",
            "  0.44719003 0.59740895 0.71330316 0.87763837 0.17870135 0.31471693\n",
            "  0.59710986 0.36921409 0.49206882 0.39566873 0.82261014 0.7050299\n",
            "  0.53471211 0.85925213 0.52508786 0.32379556 0.06487891 0.53584324\n",
            "  0.34634634 0.59335447 0.48695066 0.49356955 0.71283184 0.38271829\n",
            "  0.29263082 0.69024132 0.18707675 0.34726463]\n",
            " [0.55555219 0.192015   0.58247695 0.38799608 0.57913698 0.3794454\n",
            "  0.23106802 0.22500049 0.62379472 0.56146048 0.65711903 0.44865935\n",
            "  0.25764106 0.23223517 0.31361334 0.1914325  0.33319685 0.27936496\n",
            "  0.22305654 0.62162613 0.65189974 0.2702211  0.33871514 0.5408035\n",
            "  0.54962479 0.04728701 0.70835857 0.60383271 0.27608265 0.60512999\n",
            "  0.55797788 0.31896922 0.39291568 0.36194837 0.353512   0.51471912\n",
            "  0.         0.62061942 0.6135732  0.1786263  0.79402611 0.0631509\n",
            "  0.27733135 0.66163465 0.73957996 0.3482043  0.49571528 0.45766321\n",
            "  0.4196651  0.30241011 0.74562787 0.39722292 0.69832966 0.47516346\n",
            "  0.52221437 0.70180202 0.75908695 0.22702735 0.30561245 0.36432171\n",
            "  0.54898383 0.32639428 0.41244819 0.2923761  0.57326149 0.72007318\n",
            "  0.41178062 0.4759708  0.30131695 0.34240843 0.22041138 0.24235875\n",
            "  0.16878241 0.39593698 0.22878927 0.44541418 0.3380565  0.22532649\n",
            "  0.49890479 0.18054972 0.34053331 0.35782171 0.38558341 0.4602833\n",
            "  0.03368523 0.39748711 0.30591881 0.64228628 0.53710197 0.64870741\n",
            "  0.49654011 0.77777455 0.33341746 0.52682326 0.39909753 0.13301695\n",
            "  0.38481437 0.26084709 0.39413752 0.67245031]\n",
            " [0.18742253 0.80841066 0.58860446 0.95585517 0.7430086  0.90313833\n",
            "  0.42240519 0.81351188 0.62522652 0.20742973 0.95653942 0.76439583\n",
            "  0.57410969 0.85182453 0.92861801 0.66464199 0.34176144 0.35643676\n",
            "  0.67090847 0.97482992 0.96736741 0.66356844 0.9097143  0.11709326\n",
            "  1.05045924 0.62607942 0.13198397 0.03112199 0.38420896 0.34089566\n",
            "  0.43328562 0.47148911 0.30139648 0.43417114 0.72049121 0.52423041\n",
            "  0.62061942 0.         0.62583628 0.44328505 0.82466376 0.66943896\n",
            "  0.36743453 0.71278611 0.36628306 0.37030502 0.14027263 0.54807588\n",
            "  0.99719963 0.35424869 0.16563132 0.49048739 0.44070459 0.17838647\n",
            "  0.64715989 0.55125257 0.84801761 0.49089242 0.33493665 0.71882298\n",
            "  0.8096516  0.85482616 0.58672056 0.71214325 1.04332989 0.3712236\n",
            "  0.53346781 0.70541458 0.41424044 0.58578478 0.83005924 0.70431194\n",
            "  0.70029444 0.3215064  0.66286892 0.68449128 0.48123035 0.60276724\n",
            "  0.21350853 0.4618736  0.84674745 0.26480219 0.65584312 1.03601613\n",
            "  0.61041949 0.71563778 0.35159202 0.84540424 0.47147094 0.02907114\n",
            "  0.18372917 0.16565464 0.30275332 0.94479333 0.9981649  0.54057035\n",
            "  0.72043175 0.88108754 0.37881458 0.87038837]\n",
            " [0.43863696 0.75731879 0.04030301 0.67126788 0.1644879  0.57881111\n",
            "  0.44782632 0.62758615 0.01219156 0.41958634 0.39446933 0.3090151\n",
            "  0.35890615 0.77165857 0.76111852 0.46699182 0.66900662 0.46858085\n",
            "  0.82001157 0.44730114 0.413565   0.38920162 0.64881024 0.51432206\n",
            "  0.64135632 0.65686411 0.58988558 0.5947544  0.64888121 0.3018773\n",
            "  0.1933421  0.77822088 0.3875948  0.78467539 0.94066764 0.11982892\n",
            "  0.6135732  0.62583628 0.         0.56734498 0.21208937 0.60347996\n",
            "  0.45116326 0.08695103 0.38476875 0.35539644 0.5172586  0.1571513\n",
            "  0.71450978 0.64339096 0.60520378 0.8518063  0.2687061  0.47710847\n",
            "  0.11711125 0.16443641 0.22248325 0.39852775 0.61549888 0.34329524\n",
            "  0.27334488 0.56136499 0.20534562 0.4092242  0.60196972 0.35915306\n",
            "  0.88951947 0.21747271 0.71338176 0.2769699  0.68011054 0.45192035\n",
            "  0.52285    0.71711468 0.82165662 0.99344021 0.28809336 0.39870793\n",
            "  0.71367823 0.48119914 0.53108862 0.5150125  0.93760027 0.73785926\n",
            "  0.6365303  0.97215033 0.64469994 0.25289911 0.15553101 0.63433919\n",
            "  0.45476159 0.67543786 0.60677159 0.48522202 0.75985692 0.48489933\n",
            "  0.32425821 0.76271111 0.30678306 0.26900218]\n",
            " [0.39736827 0.36524602 0.53004591 0.54715901 0.58263284 0.51849636\n",
            "  0.11975335 0.38991877 0.57523289 0.40702574 0.71792297 0.49884134\n",
            "  0.26832914 0.40859376 0.49126769 0.28491169 0.17172153 0.12719821\n",
            "  0.27917943 0.7010074  0.71847004 0.33104445 0.49814964 0.37035274\n",
            "  0.68480064 0.18369471 0.53713333 0.42783935 0.11942562 0.47742363\n",
            "  0.45966064 0.22199941 0.2517685  0.24518689 0.38293263 0.4521965\n",
            "  0.1786263  0.44328505 0.56734498 0.         0.77029485 0.23301046\n",
            "  0.13528302 0.63376374 0.60302989 0.23231393 0.3235585  0.41388441\n",
            "  0.58351757 0.13764064 0.57493298 0.30288948 0.58395764 0.3084207\n",
            "  0.50374093 0.61584577 0.75189169 0.18254326 0.13239372 0.42130665\n",
            "  0.58675743 0.46522309 0.39396775 0.3719989  0.69677665 0.58700175\n",
            "  0.33384246 0.49265328 0.17088863 0.33919255 0.39553763 0.33797537\n",
            "  0.29675619 0.23795189 0.27658571 0.42611541 0.28092654 0.26414744\n",
            "  0.3266192  0.0929935  0.46934647 0.18430294 0.37046427 0.62398815\n",
            "  0.16723735 0.40821902 0.14100134 0.66620244 0.45328824 0.47166256\n",
            "  0.33406752 0.60276127 0.15707201 0.62702324 0.57140423 0.14661893\n",
            "  0.43572335 0.43939936 0.28621588 0.69678587]\n",
            " [0.63770628 0.9145589  0.25237709 0.76590117 0.22763813 0.67051073\n",
            "  0.65210697 0.76301523 0.20821615 0.61726735 0.36178882 0.40113985\n",
            "  0.53675061 0.92056179 0.88658112 0.62527989 0.87994329 0.67806043\n",
            "  1.00965806 0.43794136 0.38549334 0.54111242 0.75570236 0.71737991\n",
            "  0.68089581 0.83970089 0.7724094  0.79391604 0.85775118 0.48748986\n",
            "  0.39355967 0.98550907 0.59960778 0.99422692 1.13450276 0.33157091\n",
            "  0.79402611 0.82466376 0.21208937 0.77029485 0.         0.77335093\n",
            "  0.6601447  0.13653142 0.53284888 0.5663192  0.72449832 0.35665342\n",
            "  0.80445167 0.85357532 0.78175759 1.0606726  0.41688824 0.6853223\n",
            "  0.27251081 0.290872   0.07630731 0.59404089 0.82613655 0.46765142\n",
            "  0.31539753 0.66905678 0.38414337 0.54544202 0.62825381 0.51096231\n",
            "  1.09741462 0.33165824 0.92203552 0.45202246 0.8196327  0.5962633\n",
            "  0.67668741 0.92896649 1.01254855 1.19552545 0.48942127 0.56982908\n",
            "  0.92462554 0.68086875 0.63505531 0.72708168 1.1384338  0.81870531\n",
            "  0.82047095 1.16931454 0.85500595 0.23027663 0.36347731 0.83013042\n",
            "  0.66100055 0.85355716 0.81829438 0.52132077 0.86165243 0.67272077\n",
            "  0.44499989 0.90236632 0.51864714 0.22006873]\n",
            " [0.59109458 0.16410588 0.57525503 0.32494081 0.55269155 0.31777177\n",
            "  0.26307414 0.16221159 0.61432327 0.59503362 0.61158275 0.41004253\n",
            "  0.24473849 0.19521664 0.25947381 0.15245618 0.39381976 0.31949549\n",
            "  0.26664937 0.57133877 0.60479647 0.23650286 0.27563182 0.58366624\n",
            "  0.48783558 0.09896918 0.75074022 0.65099646 0.33685168 0.62605392\n",
            "  0.56815684 0.38174078 0.42418118 0.42506705 0.39707286 0.51285335\n",
            "  0.0631509  0.66943896 0.60347996 0.23301046 0.77335093 0.\n",
            "  0.3142546  0.64423487 0.76267225 0.37211265 0.54017757 0.4510175\n",
            "  0.35713873 0.36224289 0.78742976 0.45937377 0.71238081 0.51636866\n",
            "  0.50461176 0.704657   0.73330927 0.2386114  0.36335925 0.32635824\n",
            "  0.51199189 0.26513981 0.39876126 0.24996763 0.51321515 0.74180221\n",
            "  0.47255855 0.44769871 0.36421382 0.32714805 0.16255657 0.19718224\n",
            "  0.11634559 0.45738303 0.27425544 0.49741804 0.34226034 0.20548288\n",
            "  0.55756372 0.21468801 0.2811956  0.40484956 0.43807674 0.39778561\n",
            "  0.09390574 0.4442443  0.36575396 0.60806866 0.54236236 0.69701472\n",
            "  0.53509542 0.82326661 0.38980972 0.47212932 0.33920783 0.14813385\n",
            "  0.3480942  0.21422693 0.41301518 0.63766494]\n",
            " [0.27829739 0.46901165 0.41210332 0.58850419 0.4933539  0.53893887\n",
            "  0.0550074  0.44792574 0.45773932 0.28425369 0.66143886 0.44687368\n",
            "  0.22433027 0.50686993 0.56887085 0.29838212 0.22314244 0.01938839\n",
            "  0.41429145 0.65925906 0.66622987 0.30932101 0.54228117 0.27146764\n",
            "  0.69310866 0.29873529 0.43741557 0.34514111 0.19775264 0.34286688\n",
            "  0.32674142 0.32762809 0.11897759 0.33409771 0.51654351 0.33236296\n",
            "  0.27733135 0.36743453 0.45116326 0.13528302 0.6601447  0.3142546\n",
            "  0.         0.52469335 0.47100913 0.10037919 0.23082133 0.30615919\n",
            "  0.62976583 0.1943429  0.4737094  0.40072041 0.4486754  0.20309628\n",
            "  0.40517996 0.48423693 0.65069413 0.13077511 0.16865489 0.3822679\n",
            "  0.51988508 0.48923964 0.30402771 0.35718742 0.69308723 0.45392081\n",
            "  0.43844415 0.41742696 0.26222239 0.26763831 0.46919995 0.34133795\n",
            "  0.33291005 0.27994662 0.41185415 0.54937404 0.18016591 0.2433547\n",
            "  0.32065003 0.09958855 0.48361777 0.11204564 0.49664193 0.66861186\n",
            "  0.2788169  0.53883494 0.19605964 0.58628455 0.3246347  0.393137\n",
            "  0.22084786 0.51281701 0.16833058 0.60562593 0.63227754 0.17479412\n",
            "  0.39042372 0.52843464 0.15447254 0.61600517]\n",
            " [0.52556867 0.7906285  0.12532802 0.66999752 0.12733666 0.5751382\n",
            "  0.51564904 0.64747309 0.08845257 0.50645184 0.33517056 0.29974527\n",
            "  0.40399465 0.80004862 0.77633424 0.49942    0.74554151 0.5428236\n",
            "  0.87517028 0.39769434 0.35642897 0.41676875 0.65350716 0.60115085\n",
            "  0.6146026  0.70673972 0.67508941 0.68170508 0.72206385 0.38671785\n",
            "  0.28009695 0.84930682 0.46967776 0.85876049 0.99917513 0.20051436\n",
            "  0.66163465 0.71278611 0.08695103 0.63376374 0.13653142 0.64423487\n",
            "  0.52469335 0.         0.4601628  0.43238838 0.60336616 0.220215\n",
            "  0.7113143  0.71856951 0.68932412 0.92488203 0.34215552 0.56293661\n",
            "  0.13972709 0.22454466 0.13574817 0.45792253 0.69150241 0.353199\n",
            "  0.23711103 0.56561062 0.24972672 0.42737063 0.56919431 0.43538354\n",
            "  0.9613152  0.21659818 0.7862301  0.31925729 0.70265067 0.47549918\n",
            "  0.55288987 0.79600885 0.87777145 1.05904879 0.35290095 0.43921914\n",
            "  0.79746149 0.54443189 0.53303285 0.59542539 1.00204123 0.73051024\n",
            "  0.68716643 1.03339318 0.72008402 0.18885353 0.24219974 0.72119562\n",
            "  0.54118689 0.76000326 0.68472421 0.45446384 0.76282067 0.53811519\n",
            "  0.33156443 0.78574789 0.38648066 0.19816286]\n",
            " [0.23036862 0.92577418 0.36281083 0.95561576 0.54419876 0.87609352\n",
            "  0.50964996 0.8573637  0.37772052 0.21200451 0.7767128  0.64650715\n",
            "  0.55935692 0.95729418 0.99243913 0.68175542 0.60165767 0.47611796\n",
            "  0.88052769 0.82239703 0.79449765 0.63575464 0.91977161 0.30557083\n",
            "  0.98070317 0.76708623 0.26685719 0.34206293 0.61589096 0.13793017\n",
            "  0.23336444 0.7403427  0.3521098  0.72084677 0.96936947 0.34433526\n",
            "  0.73957996 0.36628306 0.38476875 0.60302989 0.53284888 0.76267225\n",
            "  0.47100913 0.4601628  0.         0.39165731 0.34336664 0.40666642\n",
            "  1.00063997 0.59402651 0.26389983 0.78800711 0.11828164 0.32722278\n",
            "  0.46595739 0.24289351 0.57953143 0.52567789 0.56457186 0.64193367\n",
            "  0.6443803  0.84167569 0.47297779 0.67643418 0.95260873 0.02647406\n",
            "  0.83205078 0.56021689 0.67121093 0.5168267  0.89552338 0.69656645\n",
            "  0.7349444  0.61650836 0.87667681 0.97199454 0.43989823 0.60284404\n",
            "  0.54757812 0.56010666 0.82003148 0.44495314 0.92922615 1.03265077\n",
            "  0.74646077 0.98127742 0.59317411 0.63753049 0.28082669 0.35798768\n",
            "  0.2935037  0.33444828 0.53851304 0.83789932 1.02703131 0.61470644\n",
            "  0.63171663 0.96823342 0.350232   0.65350696]\n",
            " [0.23372914 0.53443652 0.31569261 0.60494865 0.41491653 0.54185406\n",
            "  0.12133629 0.48206882 0.3612227  0.23216387 0.60331201 0.39895801\n",
            "  0.20733475 0.56726175 0.61242769 0.31373066 0.3136731  0.11551726\n",
            "  0.50879452 0.61198634 0.61109975 0.29675951 0.56238513 0.25802904\n",
            "  0.68211858 0.37779813 0.41008924 0.34283831 0.2953104  0.25704087\n",
            "  0.22738246 0.42660103 0.06943887 0.42984874 0.61514292 0.23569324\n",
            "  0.3482043  0.37030502 0.35539644 0.23231393 0.5663192  0.37211265\n",
            "  0.10037919 0.43238838 0.39165731 0.         0.23099143 0.21908178\n",
            "  0.64856482 0.2881875  0.44298739 0.49759651 0.35551485 0.19197475\n",
            "  0.32205484 0.38423619 0.56205148 0.14092586 0.26010661 0.3486874\n",
            "  0.45752366 0.49700202 0.23285994 0.34492237 0.6731964  0.37187645\n",
            "  0.53646016 0.35230015 0.35984683 0.21742414 0.513309   0.34441048\n",
            "  0.3601467  0.36389184 0.50722192 0.64971637 0.1138605  0.24181554\n",
            "  0.37978377 0.17052239 0.48450671 0.16716642 0.59699481 0.68517544\n",
            "  0.35683878 0.6386755  0.28941782 0.51269582 0.22433039 0.39156001\n",
            "  0.19394823 0.49344836 0.25234663 0.57494555 0.66180539 0.22399726\n",
            "  0.35118616 0.58148116 0.0542033  0.5412861 ]\n",
            " [0.11406174 0.6866475  0.47804773 0.81778108 0.61910823 0.76337265\n",
            "  0.28571942 0.67869559 0.51857507 0.13467636 0.82521287 0.62785538\n",
            "  0.43384569 0.72794868 0.7977645  0.52580021 0.2661566  0.22190232\n",
            "  0.57698948 0.83967715 0.83489379 0.52329584 0.77219697 0.04819151\n",
            "  0.91019365 0.50691916 0.21357806 0.11513185 0.29263394 0.26676384\n",
            "  0.3320521  0.40564821 0.16293624 0.38073404 0.64659394 0.40674718\n",
            "  0.49571528 0.14027263 0.5172586  0.3235585  0.72449832 0.54017757\n",
            "  0.23082133 0.60336616 0.34336664 0.23099143 0.         0.42086621\n",
            "  0.85962333 0.2660076  0.25138842 0.44647582 0.38138903 0.04191826\n",
            "  0.52293598 0.4720301  0.73903126 0.35123132 0.23967454 0.57966789\n",
            "  0.67825677 0.71547271 0.45341867 0.57187123 0.90343001 0.33804235\n",
            "  0.49068606 0.57318601 0.33907906 0.44770638 0.6984306  0.56449796\n",
            "  0.56323448 0.27362523 0.57064394 0.63441638 0.34326718 0.46271219\n",
            "  0.21306112 0.32816667 0.70683061 0.13925557 0.59581757 0.89808625\n",
            "  0.48952103 0.65138539 0.26432923 0.72086346 0.36200544 0.16382281\n",
            "  0.06423114 0.28313684 0.20919606 0.80593206 0.86309578 0.4054479\n",
            "  0.58198601 0.75381429 0.24460529 0.7472387 ]\n",
            " [0.37116856 0.60870533 0.12484828 0.56220823 0.19919175 0.47651745\n",
            "  0.29545356 0.49286308 0.16673204 0.35728751 0.40976784 0.24215365\n",
            "  0.20681428 0.62678609 0.62925307 0.32304421 0.52861039 0.32472702\n",
            "  0.66287128 0.43663432 0.42213286 0.25372309 0.53215559 0.43114208\n",
            "  0.57405698 0.50034956 0.54484695 0.51751187 0.50272275 0.28305213\n",
            "  0.1733196  0.62920708 0.26817094 0.63967885 0.7839548  0.0699452\n",
            "  0.45766321 0.54807588 0.1571513  0.41388441 0.35665342 0.4510175\n",
            "  0.30615919 0.220215   0.40666642 0.21908178 0.42086621 0.\n",
            "  0.60700768 0.50049146 0.56874264 0.70527078 0.31263879 0.37895176\n",
            "  0.10390251 0.26339424 0.34463606 0.24157147 0.47424413 0.23764836\n",
            "  0.26381233 0.44827109 0.06884409 0.28480982 0.54741272 0.38050803\n",
            "  0.74130693 0.16359582 0.56665633 0.13154557 0.54168058 0.31815782\n",
            "  0.3798653  0.58189481 0.66456859 0.83965869 0.13298471 0.24923356\n",
            "  0.5959775  0.32566428 0.42263713 0.38591383 0.78309935 0.63578258\n",
            "  0.47987649 0.81621505 0.50216834 0.30021008 0.1266442  0.56280029\n",
            "  0.36526899 0.63309745 0.46980572 0.43436064 0.64288718 0.32800158\n",
            "  0.22569152 0.62273396 0.18120853 0.32721648]\n",
            " [0.88228535 0.32270923 0.70455128 0.04504603 0.58628859 0.13629589\n",
            "  0.57479898 0.19503082 0.72668998 0.87979988 0.4986315  0.41160952\n",
            "  0.44721477 0.28443047 0.16678039 0.33557011 0.74986955 0.64126456\n",
            "  0.56673057 0.42435751 0.47973862 0.36518197 0.08748688 0.89704348\n",
            "  0.20279694 0.44471088 1.05725754 0.97452571 0.69319022 0.86532106\n",
            "  0.77264354 0.73298859 0.71484608 0.77898907 0.67886282 0.67662237\n",
            "  0.4196651  0.99719963 0.71450978 0.58351757 0.80445167 0.35713873\n",
            "  0.62976583 0.7113143  1.00063997 0.64856482 0.85962333 0.60700768\n",
            "  0.         0.717523   1.09107468 0.8063608  0.91800913 0.82799035\n",
            "  0.59740786 0.86316451 0.73923801 0.51142368 0.71584823 0.37368089\n",
            "  0.48909683 0.1592956  0.53820744 0.32471458 0.25848529 0.97577555\n",
            "  0.81275548 0.49905701 0.72089721 0.48464486 0.21022753 0.30697785\n",
            "  0.29701829 0.81411462 0.57800242 0.80146146 0.56539657 0.40773792\n",
            "  0.91012248 0.53774984 0.1849223  0.73605086 0.74741573 0.04065588\n",
            "  0.4469818  0.73248919 0.72102035 0.58089802 0.73079163 1.02276917\n",
            "  0.83832024 1.13797252 0.73984398 0.30727365 0.07125143 0.4582418\n",
            "  0.3909504  0.23384996 0.66879936 0.60086487]\n",
            " [0.36743791 0.47335791 0.60381859 0.68240663 0.68586804 0.65605984\n",
            "  0.21697441 0.5228327  0.64938016 0.38327769 0.84107044 0.62264334\n",
            "  0.39136773 0.52010043 0.61474356 0.42186347 0.03437289 0.17583675\n",
            "  0.31704004 0.8298301  0.84343812 0.46262301 0.6331767  0.31360433\n",
            "  0.82241107 0.29273209 0.46834338 0.34680475 0.03037102 0.48702514\n",
            "  0.50182712 0.14783101 0.27243386 0.14198651 0.3807162  0.52382126\n",
            "  0.30241011 0.35424869 0.64339096 0.13764064 0.85357532 0.36224289\n",
            "  0.1943429  0.71856951 0.59402651 0.2881875  0.2660076  0.50049146\n",
            "  0.717523   0.         0.50628301 0.21054782 0.60223454 0.26924177\n",
            "  0.59914339 0.65978749 0.8450349  0.29781543 0.0303227  0.54911843\n",
            "  0.70423697 0.60272692 0.49569287 0.5057316  0.83371522 0.58329329\n",
            "  0.25128254 0.60484387 0.07792218 0.45163268 0.52281848 0.47433319\n",
            "  0.43416877 0.10056608 0.30941862 0.37982337 0.37318936 0.39452471\n",
            "  0.19726144 0.21604897 0.60695898 0.15100186 0.33522151 0.75813039\n",
            "  0.28203026 0.38793067 0.00351172 0.77635737 0.50863134 0.38329859\n",
            "  0.30193487 0.51973256 0.05688942 0.76107798 0.70118918 0.28252467\n",
            "  0.56150321 0.55708949 0.33922361 0.80646669]\n",
            " [0.21047507 0.93714979 0.57359244 1.04770765 0.74687162 0.98400383\n",
            "  0.5269741  0.91829706 0.60139168 0.21730913 0.97421828 0.80508548\n",
            "  0.64895975 0.97764638 1.04234075 0.75561754 0.49848433 0.46798472\n",
            "  0.82256972 1.00536458 0.98846775 0.7373744  1.00447352 0.20496328\n",
            "  1.1172785  0.75816371 0.03812581 0.16208458 0.53513472 0.30348694\n",
            "  0.41707972 0.6326038  0.3762654  0.59758976 0.88061852 0.52617715\n",
            "  0.74562787 0.16563132 0.60520378 0.57493298 0.78175759 0.78742976\n",
            "  0.4737094  0.68932412 0.26389983 0.44298739 0.25138842 0.56874264\n",
            "  1.09107468 0.50628301 0.         0.65543537 0.36819195 0.27107504\n",
            "  0.65564212 0.49245469 0.8189424  0.58014023 0.48331347 0.77509563\n",
            "  0.83086772 0.93990938 0.62172017 0.78464181 1.10152613 0.27916631\n",
            "  0.69864676 0.73231212 0.57212197 0.63946853 0.94257956 0.78732365\n",
            "  0.79887431 0.48473213 0.8153896  0.84932744 0.53920415 0.68479272\n",
            "  0.37912877 0.57316026 0.92651223 0.39063485 0.81914519 1.1280099\n",
            "  0.74054961 0.87826412 0.50401205 0.84757361 0.46392324 0.14135579\n",
            "  0.25437294 0.07190868 0.45135279 0.9945423  1.10108807 0.64728336\n",
            "  0.77190486 1.00162914 0.43096019 0.86866928]\n",
            " [0.5577209  0.50680173 0.81256939 0.77947174 0.88336224 0.77666453\n",
            "  0.41247327 0.61649644 0.85819698 0.57615428 1.018536   0.79985405\n",
            "  0.57074849 0.5550843  0.67092794 0.56741396 0.19143334 0.3832431\n",
            "  0.27156328 0.99690476 1.01793482 0.62699096 0.73095929 0.48958669\n",
            "  0.94684583 0.36363933 0.61981136 0.49466034 0.20297179 0.69091289\n",
            "  0.71202981 0.08231656 0.48232598 0.06919738 0.25395407 0.73266996\n",
            "  0.39722292 0.49048739 0.8518063  0.30288948 1.0606726  0.45937377\n",
            "  0.40072041 0.92488203 0.78800711 0.49759651 0.44647582 0.70527078\n",
            "  0.8063608  0.21054782 0.65543537 0.         0.80728378 0.46118193\n",
            "  0.80077982 0.86972111 1.04844139 0.48475025 0.24017319 0.72018156\n",
            "  0.88945385 0.72354106 0.69344086 0.66342513 0.96917768 0.78013034\n",
            "  0.04423667 0.7953584  0.13865197 0.64165334 0.5969412  0.62191041\n",
            "  0.56120381 0.17402906 0.25943398 0.19401878 0.57463633 0.56267333\n",
            "  0.27970682 0.39566048 0.73634148 0.35691217 0.1718844  0.84623391\n",
            "  0.36547817 0.2338193  0.20982531 0.96880846 0.71911994 0.51708513\n",
            "  0.49508433 0.64932341 0.25748355 0.9138134  0.77269099 0.44045555\n",
            "  0.73596811 0.60263004 0.54937168 0.99934645]\n",
            " [0.27051851 0.8764502  0.25001919 0.87304252 0.43059708 0.78889304\n",
            "  0.47679908 0.78900735 0.26101535 0.24865284 0.66252628 0.5451641\n",
            "  0.48955236 0.90345236 0.92573003 0.6132832  0.61622764 0.45828987\n",
            "  0.86274735 0.71137076 0.68099224 0.557204   0.84063206 0.3549045\n",
            "  0.88203953 0.73136265 0.36355561 0.41251654 0.61960886 0.11681196\n",
            "  0.14780072 0.74998196 0.33615257 0.73836596 0.96314508 0.24502837\n",
            "  0.69832966 0.44070459 0.2687061  0.58395764 0.41688824 0.71238081\n",
            "  0.4486754  0.34215552 0.11828164 0.35551485 0.38138903 0.31263879\n",
            "  0.91800913 0.60223454 0.36819195 0.80728378 0.         0.35371489\n",
            "  0.35776797 0.12602425 0.46157846 0.47419551 0.57193266 0.55025038\n",
            "  0.53403255 0.75879556 0.38124217 0.59374401 0.8502742  0.09456873\n",
            "  0.85029269 0.45595475 0.68006646 0.43446047 0.83196714 0.62043331\n",
            "  0.66880987 0.6429116  0.86050239 0.98147053 0.37399078 0.53422001\n",
            "  0.59423005 0.52526132 0.73441638 0.45158704 0.9338409  0.9477548\n",
            "  0.71020731 0.98134214 0.60206768 0.52155229 0.18722983 0.43880606\n",
            "  0.32081728 0.44005159 0.55045956 0.7343101  0.95022891 0.56753735\n",
            "  0.53757211 0.90872822 0.3052085  0.53659565]\n",
            " [0.09825431 0.66700874 0.43768117 0.78561928 0.5772481  0.7286803\n",
            "  0.25710057 0.65002743 0.47872983 0.11522692 0.78351517 0.58714234\n",
            "  0.39703265 0.70689928 0.7719624  0.49304709 0.27467634 0.1969101\n",
            "  0.57186171 0.79859715 0.79332642 0.486647   0.74072857 0.06907422\n",
            "  0.87316794 0.48983043 0.23444109 0.15099211 0.29339212 0.23740484\n",
            "  0.29415136 0.41385764 0.12302253 0.39369683 0.64890455 0.3655712\n",
            "  0.47516346 0.17838647 0.47710847 0.3084207  0.6853223  0.51636866\n",
            "  0.20309628 0.56293661 0.32722278 0.19197475 0.04191826 0.37895176\n",
            "  0.82799035 0.26924177 0.27107504 0.46118193 0.35371489 0.\n",
            "  0.48108466 0.43809699 0.6985026  0.31747399 0.24079389 0.54043758\n",
            "  0.63654223 0.68161552 0.41186746 0.53513458 0.86513789 0.31896539\n",
            "  0.50511464 0.53153509 0.34533711 0.4076491  0.67229598 0.52988919\n",
            "  0.53265307 0.29151472 0.56630232 0.64503491 0.30310318 0.42757137\n",
            "  0.24537894 0.30228904 0.67182124 0.12756595 0.6034929  0.86601798\n",
            "  0.471538   0.65712812 0.26806526 0.67896989 0.32221261 0.19981974\n",
            "  0.03392879 0.3105789  0.21278725 0.76645392 0.83388389 0.37753256\n",
            "  0.54218805 0.73055761 0.20304071 0.70538681]\n",
            " [0.4661697  0.65251527 0.11248224 0.5541598  0.09619119 0.46177205\n",
            "  0.38845775 0.51492862 0.12929716 0.45053449 0.31876752 0.19436082\n",
            "  0.26461964 0.66362569 0.64692797 0.36104387 0.62830807 0.42415562\n",
            "  0.73715325 0.35709759 0.33390037 0.27968669 0.53208292 0.53076345\n",
            "  0.53026972 0.56756435 0.63455555 0.61632096 0.59941931 0.35803733\n",
            "  0.24212488 0.72296032 0.37201205 0.73649268 0.86231083 0.12955438\n",
            "  0.52221437 0.64715989 0.11711125 0.50374093 0.27251081 0.50461176\n",
            "  0.40517996 0.13972709 0.46595739 0.32205484 0.52293598 0.10390251\n",
            "  0.59740786 0.59914339 0.65564212 0.80077982 0.35776797 0.48108466\n",
            "  0.         0.27304184 0.24818148 0.32396364 0.57382478 0.22668349\n",
            "  0.17906423 0.44449985 0.11192782 0.29515635 0.49451005 0.43951411\n",
            "  0.83534138 0.10233465 0.66260284 0.17982622 0.5687594  0.34045445\n",
            "  0.41539703 0.68324666 0.74009495 0.9264707  0.22638289 0.29949879\n",
            "  0.69983183 0.41238455 0.41403064 0.4891657  0.86869283 0.62097711\n",
            "  0.54817195 0.89788216 0.60099921 0.19834291 0.19333037 0.6604745\n",
            "  0.46573491 0.72250295 0.57102404 0.37791527 0.6430208  0.40027317\n",
            "  0.20727241 0.65173725 0.28507626 0.22430291]\n",
            " [0.36997533 0.86607456 0.1608771  0.81893315 0.32840337 0.72930284\n",
            "  0.49937789 0.75625023 0.15405469 0.34819576 0.55533782 0.46733917\n",
            "  0.46534386 0.88707444 0.89263208 0.58529564 0.67899395 0.49779664\n",
            "  0.88814621 0.6110982  0.57533631 0.51698695 0.79198243 0.45410942\n",
            "  0.80295969 0.74023839 0.4854565  0.52159829 0.67248155 0.21086949\n",
            "  0.15835905 0.80481688 0.3874235  0.800599   0.99871249 0.19495401\n",
            "  0.70180202 0.55125257 0.16443641 0.61584577 0.290872   0.704657\n",
            "  0.48423693 0.22454466 0.24289351 0.38423619 0.4720301  0.26339424\n",
            "  0.86316451 0.65978749 0.49245469 0.86972111 0.12602425 0.43809699\n",
            "  0.27304184 0.         0.33705214 0.47517308 0.62978454 0.48951671\n",
            "  0.43777937 0.70625915 0.32954765 0.5458899  0.7652838  0.22030139\n",
            "  0.91105529 0.37535514 0.73588406 0.39481763 0.80465047 0.58141252\n",
            "  0.64213661 0.715048   0.88762656 1.03214276 0.36397849 0.50932595\n",
            "  0.68344134 0.54289369 0.67829067 0.5142492  0.98054419 0.88923563\n",
            "  0.71907893 1.02291101 0.66024373 0.41065203 0.16539172 0.55273028\n",
            "  0.40819449 0.56436087 0.61317539 0.64846592 0.90317409 0.56880426\n",
            "  0.47308079 0.88518899 0.33004367 0.42236866]\n",
            " [0.66066997 0.8677089  0.26105117 0.70200385 0.18061828 0.60699839\n",
            "  0.63641791 0.70992018 0.22280618 0.64128697 0.28589102 0.34436613\n",
            "  0.50478683 0.87051298 0.82930539 0.58246057 0.87323925 0.66933713\n",
            "  0.97852294 0.36279041 0.30964215 0.49772049 0.69472674 0.7368049\n",
            "  0.60849371 0.80563784 0.80649254 0.81696469 0.84652126 0.5183996\n",
            "  0.41487007 0.9710026  0.60302083 0.98360344 1.10568822 0.3346394\n",
            "  0.75908695 0.84801761 0.22248325 0.75189169 0.07630731 0.73330927\n",
            "  0.65069413 0.13574817 0.57953143 0.56205148 0.73903126 0.34463606\n",
            "  0.73923801 0.8450349  0.8189424  1.04844139 0.46157846 0.6985026\n",
            "  0.24818148 0.33705214 0.         0.57147584 0.81888009 0.41720512\n",
            "  0.25148073 0.60932178 0.35867827 0.49637906 0.55472642 0.55611688\n",
            "  1.08336728 0.28585313 0.91005599 0.42144761 0.76725099 0.54878039\n",
            "  0.63121285 0.92584959 0.98224611 1.17371804 0.47380808 0.53376154\n",
            "  0.93162344 0.66031134 0.57489169 0.72712192 1.11558722 0.75161489\n",
            "  0.78723467 1.14300742 0.84674568 0.15951069 0.37791913 0.85591856\n",
            "  0.67692903 0.89019599 0.81397267 0.44999045 0.7985546  0.64363295\n",
            "  0.39432919 0.84928877 0.51848189 0.14578574]\n",
            " [0.37297174 0.40268602 0.36412565 0.46858068 0.40027932 0.41224625\n",
            "  0.0839589  0.34119977 0.40770048 0.37263789 0.54328224 0.32516996\n",
            "  0.09558628 0.4320096  0.47176155 0.17590529 0.33089808 0.14760566\n",
            "  0.42179062 0.53463755 0.54597256 0.17855051 0.42451456 0.38634276\n",
            "  0.56314541 0.2652133  0.54595279 0.46631306 0.2903283  0.38836294\n",
            "  0.33157625 0.40441424 0.2040257  0.42447116 0.54243896 0.29163953\n",
            "  0.22702735 0.49089242 0.39852775 0.18254326 0.59404089 0.2386114\n",
            "  0.13077511 0.45792253 0.52567789 0.14092586 0.35123132 0.24157147\n",
            "  0.51142368 0.29781543 0.58014023 0.48475025 0.47419551 0.31747399\n",
            "  0.32396364 0.47517308 0.57147584 0.         0.27876517 0.25488235\n",
            "  0.40731608 0.36431662 0.21280747 0.2264489  0.56232267 0.50417769\n",
            "  0.51637975 0.31072464 0.34956589 0.15690922 0.37291525 0.21345451\n",
            "  0.21962107 0.39399751 0.42319691 0.60250707 0.11297995 0.11307206\n",
            "  0.44905555 0.08963726 0.35596772 0.24276242 0.54481197 0.54899465\n",
            "  0.24411849 0.57552958 0.3004323  0.48407177 0.3101891  0.5150539\n",
            "  0.32689901 0.62668361 0.28755831 0.47582441 0.52175327 0.09418993\n",
            "  0.26526578 0.44295611 0.17544732 0.51459859]\n",
            " [0.33881688 0.48283823 0.57578676 0.67954388 0.66167383 0.64910694\n",
            "  0.1961579  0.5219668  0.62129124 0.35425326 0.82165739 0.60391697\n",
            "  0.37349215 0.52871989 0.61915734 0.41198927 0.05448798 0.1496963\n",
            "  0.33927856 0.81275999 0.82469453 0.44794382 0.63054326 0.28761756\n",
            "  0.81388384 0.30057163 0.44525038 0.32551107 0.05299355 0.45678556\n",
            "  0.47192419 0.1780855  0.24237566 0.1713063  0.40824501 0.49579165\n",
            "  0.30561245 0.33493665 0.61549888 0.13239372 0.82613655 0.36335925\n",
            "  0.16865489 0.69150241 0.56457186 0.26010661 0.23967454 0.47424413\n",
            "  0.71584823 0.0303227  0.48331347 0.24017319 0.57193266 0.24079389\n",
            "  0.57382478 0.62978454 0.81888009 0.27876517 0.         0.53221873\n",
            "  0.6832852  0.59611293 0.47185394 0.49224723 0.8230633  0.55356166\n",
            "  0.28128188 0.58278002 0.10816178 0.43030821 0.52530324 0.46339946\n",
            "  0.42809254 0.11523946 0.33227691 0.40998504 0.34854879 0.3795986\n",
            "  0.19445951 0.20118389 0.59865638 0.12085168 0.36487686 0.75633979\n",
            "  0.28806517 0.41691209 0.03047533 0.75340534 0.4793741  0.36399721\n",
            "  0.27312967 0.49975471 0.03223938 0.74726073 0.70249382 0.27221767\n",
            "  0.54371563 0.56370784 0.31046575 0.78335553]\n",
            " [0.5661656  0.45083583 0.33110846 0.32960904 0.24009126 0.24023884\n",
            "  0.33884079 0.2956258  0.3554759  0.55779141 0.29891769 0.08433915\n",
            "  0.15930216 0.45360316 0.42314805 0.17439534 0.58294025 0.40040815\n",
            "  0.58718923 0.28071273 0.29775797 0.09543293 0.30551605 0.60502603\n",
            "  0.343726   0.41149004 0.74606677 0.6909084  0.53790081 0.51240523\n",
            "  0.40917826 0.63792186 0.41743192 0.66607714 0.71780527 0.30588156\n",
            "  0.36432171 0.71882298 0.34329524 0.42130665 0.46765142 0.32635824\n",
            "  0.3822679  0.353199   0.64193367 0.3486874  0.57966789 0.23764836\n",
            "  0.37368089 0.54911843 0.77509563 0.72018156 0.55025038 0.54043758\n",
            "  0.22668349 0.48951671 0.41720512 0.25488235 0.53221873 0.\n",
            "  0.18565578 0.21820254 0.16945133 0.0794568  0.3268917  0.61609606\n",
            "  0.74604493 0.13718706 0.59215159 0.135702   0.35199922 0.13277786\n",
            "  0.21657872 0.64730557 0.59310986 0.80522673 0.23874222 0.15759953\n",
            "  0.70277493 0.3333489  0.18892671 0.49203587 0.74533232 0.40014433\n",
            "  0.3962765  0.76140027 0.55196274 0.28227679 0.36399681 0.73940592\n",
            "  0.53917011 0.8327529  0.54234855 0.22644028 0.41660652 0.27984796\n",
            "  0.02287657 0.43482098 0.34590801 0.31155242]\n",
            " [0.63494623 0.63062833 0.284315   0.45098798 0.11172483 0.35577527\n",
            "  0.4874063  0.46489871 0.28395439 0.62104981 0.14699385 0.1024314\n",
            "  0.31877262 0.62842999 0.5794702  0.36000498 0.73663113 0.53919921\n",
            "  0.7720334  0.17809756 0.15832653 0.27877874 0.44333477 0.69256017\n",
            "  0.37758744 0.59624796 0.80803974 0.77942384 0.69764409 0.53636525\n",
            "  0.42070232 0.80790584 0.51850782 0.83114276 0.90242813 0.30710737\n",
            "  0.54898383 0.8096516  0.27334488 0.58675743 0.31539753 0.51199189\n",
            "  0.51988508 0.23711103 0.6443803  0.45752366 0.67825677 0.26381233\n",
            "  0.48909683 0.70423697 0.83086772 0.88945385 0.53403255 0.63654223\n",
            "  0.17906423 0.43777937 0.25148073 0.40731608 0.6832852  0.18565578\n",
            "  0.         0.35845391 0.2254792  0.26320216 0.33255627 0.61798277\n",
            "  0.9184135  0.1053954  0.75629788 0.25301716 0.52271403 0.31688974\n",
            "  0.40088435 0.7977862  0.7776509  0.986406   0.34564956 0.3325078\n",
            "  0.83483323 0.49459896 0.32388778 0.62009023 0.92668876 0.50360579\n",
            "  0.58041081 0.9451152  0.70670603 0.09961079 0.37166476 0.82545804\n",
            "  0.62603154 0.89626226 0.68762872 0.21735908 0.54726814 0.45423936\n",
            "  0.16432876 0.60337829 0.43375116 0.12717717]\n",
            " [0.72999284 0.309287   0.54899441 0.11427551 0.44438659 0.05365976\n",
            "  0.4351451  0.13177277 0.57355261 0.72629333 0.40508716 0.26838018\n",
            "  0.2919191  0.29164655 0.22200617 0.19092493 0.63654493 0.5027628\n",
            "  0.51861443 0.34463379 0.39126737 0.20705931 0.08795334 0.75031472\n",
            "  0.22348381 0.36359139 0.90705041 0.83058623 0.58190501 0.70677816\n",
            "  0.61334859 0.64454207 0.56480739 0.68536584 0.64421008 0.51803636\n",
            "  0.32639428 0.85482616 0.56136499 0.46522309 0.66905678 0.26513981\n",
            "  0.48923964 0.56561062 0.84167569 0.49700202 0.71547271 0.44827109\n",
            "  0.1592956  0.60272692 0.93990938 0.72354106 0.75879556 0.68161552\n",
            "  0.44449985 0.70625915 0.60932178 0.36431662 0.59611293 0.21820254\n",
            "  0.35845391 0.         0.37956931 0.16544595 0.24906812 0.81671742\n",
            "  0.73767406 0.34977526 0.61972623 0.32538382 0.18466637 0.15259286\n",
            "  0.16861312 0.70253333 0.52808926 0.75514609 0.40839108 0.25523746\n",
            "  0.78733734 0.40445568 0.03470176 0.59920466 0.69698471 0.19138739\n",
            "  0.3587362  0.69515756 0.60612232 0.45621033 0.57159901 0.87928469\n",
            "  0.68936369 0.98958758 0.6164934  0.22976735 0.19852293 0.32637737\n",
            "  0.23727097 0.2559143  0.51349866 0.48028608]\n",
            " [0.41800566 0.5520355  0.18075836 0.49343222 0.19033806 0.40773639\n",
            "  0.28125367 0.42815589 0.21655422 0.40640781 0.37213912 0.18338707\n",
            "  0.15519578 0.56724958 0.56389328 0.26240802 0.52620463 0.32336495\n",
            "  0.62563182 0.38860437 0.38147512 0.18826447 0.46381835 0.46984227\n",
            "  0.50885764 0.45720043 0.59558824 0.55692024 0.49374803 0.34572212\n",
            "  0.23988205 0.61455659 0.29304001 0.63043834 0.75044394 0.13846713\n",
            "  0.41244819 0.58672056 0.20534562 0.39396775 0.38414337 0.39876126\n",
            "  0.30402771 0.24972672 0.47297779 0.23285994 0.45341867 0.06884409\n",
            "  0.53820744 0.49569287 0.62172017 0.69344086 0.38124217 0.41186746\n",
            "  0.11192782 0.32954765 0.35867827 0.21280747 0.47185394 0.16945133\n",
            "  0.2254792  0.37956931 0.         0.21673858 0.48493607 0.44701702\n",
            "  0.72689933 0.12009474 0.55599008 0.07169713 0.47854186 0.25249172\n",
            "  0.31875031 0.58395982 0.62842302 0.81511687 0.12430072 0.19353646\n",
            "  0.61198214 0.30185923 0.35379425 0.39776361 0.75714776 0.56694465\n",
            "  0.43751302 0.78596932 0.49777758 0.28253144 0.19459412 0.60381959\n",
            "  0.40303839 0.68357787 0.47210786 0.37416028 0.57471535 0.28860973\n",
            "  0.15880913 0.5604343  0.20882958 0.31206222]\n",
            " [0.57416753 0.37144405 0.39216853 0.27967492 0.31830754 0.20168589\n",
            "  0.3075456  0.22023099 0.4212618  0.56870028 0.36484511 0.16080697\n",
            "  0.13810615 0.37514505 0.35196476 0.10102129 0.54004961 0.37361677\n",
            "  0.51390085 0.3340892  0.36032992 0.04859436 0.24743825 0.60249864\n",
            "  0.33836539 0.33901438 0.75321706 0.68595787 0.49106294 0.54205513\n",
            "  0.44796032 0.58120577 0.41420127 0.61325271 0.64471361 0.35475414\n",
            "  0.2923761  0.71214325 0.4092242  0.3719989  0.54544202 0.24996763\n",
            "  0.35718742 0.42737063 0.67643418 0.34492237 0.57187123 0.28480982\n",
            "  0.32471458 0.5057316  0.78464181 0.66342513 0.59374401 0.53513458\n",
            "  0.29515635 0.5458899  0.49637906 0.2264489  0.49224723 0.0794568\n",
            "  0.26320216 0.16544595 0.21673858 0.         0.33591991 0.65139078\n",
            "  0.68645345 0.21386445 0.54089956 0.15993789 0.27535244 0.05370619\n",
            "  0.13772181 0.60578558 0.52042582 0.73674461 0.24712194 0.11445007\n",
            "  0.67277725 0.29109845 0.14450838 0.46920612 0.67680809 0.35622307\n",
            "  0.32524502 0.68974282 0.50881251 0.36097536 0.40666645 0.73484085\n",
            "  0.53886786 0.83781462 0.50640019 0.2553535  0.35807793 0.22578794\n",
            "  0.1022694  0.35843327 0.35447136 0.38989856]\n",
            " [0.89299299 0.54536476 0.60650659 0.24686594 0.44415991 0.19926778\n",
            "  0.64321137 0.37481088 0.6132162  0.88429816 0.27739714 0.30610206\n",
            "  0.47137662 0.51781632 0.41512169 0.41189575 0.86804098 0.70952188\n",
            "  0.76685254 0.19679171 0.25458855 0.38385493 0.27770859 0.93077251\n",
            "  0.06166577 0.61203677 1.07285039 1.01603356 0.81588202 0.83002949\n",
            "  0.72005475 0.88901136 0.74246478 0.92756605 0.89090473 0.60838568\n",
            "  0.57326149 1.04332989 0.60196972 0.69677665 0.62825381 0.51321515\n",
            "  0.69308723 0.56919431 0.95260873 0.6731964  0.90343001 0.54741272\n",
            "  0.25848529 0.83371522 1.10152613 0.96917768 0.8502742  0.86513789\n",
            "  0.49451005 0.7652838  0.55472642 0.56232267 0.8230633  0.3268917\n",
            "  0.33255627 0.24906812 0.48493607 0.33591991 0.         0.9262331\n",
            "  0.98504152 0.39436136 0.85915775 0.46254096 0.41919311 0.35966929\n",
            "  0.40830606 0.93428122 0.77655628 1.00379241 0.56533826 0.45015811\n",
            "  1.00756445 0.62337337 0.23287472 0.80508186 0.94584909 0.2470717\n",
            "  0.60617208 0.94252735 0.83696382 0.39866876 0.67188065 1.06473147\n",
            "  0.86534557 1.15963322 0.83946475 0.11681849 0.32971017 0.55129167\n",
            "  0.32976347 0.47240788 0.67278744 0.40894224]\n",
            " [0.22409    0.90523219 0.33668346 0.93074015 0.51807129 0.85073378\n",
            "  0.49094335 0.83408396 0.35229613 0.20443126 0.75061073 0.62013125\n",
            "  0.53555876 0.93609874 0.96946383 0.65829279 0.59230244 0.45985108\n",
            "  0.86528448 0.79601453 0.76831021 0.61109162 0.89524733 0.30279913\n",
            "  0.95450238 0.74852233 0.2789532  0.3456355  0.604296   0.11581598\n",
            "  0.2072597  0.73029037 0.33539733 0.71244789 0.95644618 0.31792111\n",
            "  0.72007318 0.3712236  0.35915306 0.58700175 0.51096231 0.74180221\n",
            "  0.45392081 0.43538354 0.02647406 0.37187645 0.33804235 0.38050803\n",
            "  0.97577555 0.58329329 0.27916631 0.78013034 0.09456873 0.31896539\n",
            "  0.43951411 0.22030139 0.55611688 0.50417769 0.55356166 0.61609606\n",
            "  0.61798277 0.81671742 0.44701702 0.65139078 0.9262331  0.\n",
            "  0.82402303 0.53375633 0.6608344  0.49165109 0.87290237 0.67222298\n",
            "  0.71183623 0.60983245 0.86172701 0.96227673 0.41628165 0.5792561\n",
            "  0.54556729 0.54124054 0.79479531 0.43325139 0.91843819 1.007566\n",
            "  0.727776   0.96962344 0.58258191 0.61178132 0.25452071 0.36491672\n",
            "  0.2850509  0.35051571 0.52837198 0.81147498 1.00282026 0.59405215\n",
            "  0.60570395 0.94622638 0.32887948 0.62803367]\n",
            " [0.60180347 0.50563455 0.85054472 0.78788484 0.91623234 0.79029569\n",
            "  0.44695215 0.62598375 0.89618004 0.62015185 1.04490082 0.82690338\n",
            "  0.59974392 0.55324012 0.67174645 0.5886975  0.2340881  0.4214575\n",
            "  0.26255608 1.02050583 1.0434733  0.65189685 0.73997784 0.5338214\n",
            "  0.96024522 0.37475711 0.66321199 0.53819082 0.24115196 0.73406436\n",
            "  0.7531058  0.11238718 0.52365726 0.1119821  0.22489921 0.77079272\n",
            "  0.41178062 0.53346781 0.88951947 0.33384246 1.09741462 0.47255855\n",
            "  0.43844415 0.9613152  0.83205078 0.53646016 0.49068606 0.74130693\n",
            "  0.81275548 0.25128254 0.69864676 0.04423667 0.85029269 0.50511464\n",
            "  0.83534138 0.91105529 1.08336728 0.51637975 0.28128188 0.74604493\n",
            "  0.9184135  0.73767406 0.72689933 0.68645345 0.98504152 0.82402303\n",
            "  0.         0.82619381 0.17662032 0.67297717 0.60259257 0.64301155\n",
            "  0.57858767 0.2182128  0.2502355  0.15175398 0.60977863 0.58906908\n",
            "  0.32173387 0.42682093 0.75227317 0.39933803 0.13674766 0.85215362\n",
            "  0.37900489 0.19832624 0.2508153  0.9997967  0.75901823 0.55981464\n",
            "  0.53900112 0.69128518 0.30001182 0.93409628 0.77564986 0.46634691\n",
            "  0.76260851 0.60217949 0.58880715 1.03041377]\n",
            " [0.53295835 0.58342666 0.2146385  0.45658838 0.1055237  0.36287419\n",
            "  0.38796243 0.4326592  0.22952156 0.51991274 0.2520996  0.09203591\n",
            "  0.2289218  0.58891877 0.55997058 0.29660816 0.63660895 0.43680326\n",
            "  0.69755138 0.27315918 0.26198439 0.21186899 0.43772843 0.58836803\n",
            "  0.42840825 0.52296662 0.70810081 0.6753553  0.59996441 0.44377595\n",
            "  0.33002528 0.71463657 0.41313402 0.73505335 0.82641681 0.21638207\n",
            "  0.4759708  0.70541458 0.21747271 0.49265328 0.33165824 0.44769871\n",
            "  0.41742696 0.21659818 0.56021689 0.35230015 0.57318601 0.16359582\n",
            "  0.49905701 0.60484387 0.73231212 0.7953584  0.45595475 0.53153509\n",
            "  0.10233465 0.37535514 0.28585313 0.31072464 0.58278002 0.13718706\n",
            "  0.1053954  0.34977526 0.12009474 0.21386445 0.39436136 0.53375633\n",
            "  0.82619381 0.         0.66016026 0.15391373 0.4887154  0.26470853\n",
            "  0.34600789 0.69658641 0.70203988 0.90267493 0.24106222 0.25163904\n",
            "  0.73030709 0.39972901 0.31783526 0.51565714 0.84347151 0.52109897\n",
            "  0.50535421 0.86629862 0.60717631 0.17360731 0.28101718 0.72176749\n",
            "  0.52169706 0.79633899 0.58564638 0.27839997 0.54775205 0.36829064\n",
            "  0.11514722 0.57167129 0.32860028 0.20424345]\n",
            " [0.44358302 0.45069029 0.67425414 0.68911516 0.74618216 0.67338387\n",
            "  0.27474486 0.52631355 0.71988945 0.45997425 0.88869832 0.66959765\n",
            "  0.43863734 0.49895982 0.60341119 0.44957935 0.07386361 0.24497574\n",
            "  0.26181827 0.87155335 0.88935492 0.50125381 0.63977365 0.38583865\n",
            "  0.84252171 0.27986317 0.53460232 0.4106039  0.06456773 0.5649392\n",
            "  0.57766925 0.06992412 0.34899819 0.07490528 0.30907108 0.5944213\n",
            "  0.30131695 0.41424044 0.71338176 0.17088863 0.92203552 0.36421382\n",
            "  0.26222239 0.7862301  0.67121093 0.35984683 0.33907906 0.56665633\n",
            "  0.72089721 0.07792218 0.57212197 0.13865197 0.68006646 0.34533711\n",
            "  0.66260284 0.73588406 0.91005599 0.34956589 0.10816178 0.59215159\n",
            "  0.75629788 0.61972623 0.55599008 0.54089956 0.85915775 0.6608344\n",
            "  0.17662032 0.66016026 0.         0.50624841 0.51769345 0.50371416\n",
            "  0.45233516 0.10817879 0.25249801 0.30192054 0.43631259 0.434836\n",
            "  0.22975756 0.26175784 0.62815383 0.22892232 0.25818309 0.76148818\n",
            "  0.27453647 0.31240431 0.07835628 0.83321813 0.58255387 0.44292135\n",
            "  0.37843684 0.57956326 0.13273257 0.79492245 0.69705233 0.31519093\n",
            "  0.60659882 0.54070259 0.4122265  0.8636471 ]\n",
            " [0.43046968 0.48060994 0.25123409 0.43960221 0.24565627 0.35951056\n",
            "  0.23466281 0.36148873 0.28809945 0.42215948 0.39384897 0.18230048\n",
            "  0.0847937  0.49665051 0.4980649  0.19208476 0.48378486 0.28684452\n",
            "  0.55816467 0.3958062  0.39914598 0.12347333 0.40618335 0.47096191\n",
            "  0.47841934 0.38775851 0.61036522 0.55734246 0.44616193 0.38342576\n",
            "  0.28813568 0.56117813 0.28480519 0.58114018 0.68444976 0.2002727\n",
            "  0.34240843 0.58578478 0.2769699  0.33919255 0.45202246 0.32714805\n",
            "  0.26763831 0.31925729 0.5168267  0.21742414 0.44770638 0.13154557\n",
            "  0.48464486 0.45163268 0.63946853 0.64165334 0.43446047 0.4076491\n",
            "  0.17982622 0.39481763 0.42144761 0.15690922 0.43030821 0.135702\n",
            "  0.25301716 0.32538382 0.07169713 0.15993789 0.46254096 0.49165109\n",
            "  0.67297717 0.15391373 0.50624841 0.         0.41015844 0.18765894\n",
            "  0.24877626 0.54477131 0.56145849 0.75396585 0.10455725 0.12184193\n",
            "  0.58573797 0.24620127 0.30321816 0.37148753 0.69532052 0.51593749\n",
            "  0.36845037 0.72159229 0.45403966 0.32716257 0.24785862 0.60558576\n",
            "  0.4047075  0.69709497 0.43482248 0.35943546 0.51587692 0.22220869\n",
            "  0.13478901 0.49138024 0.21043447 0.35769317]\n",
            " [0.741204   0.12648092 0.65903553 0.18904282 0.59202124 0.2232558\n",
            "  0.41560627 0.05786137 0.69191441 0.74301088 0.58686738 0.42356726\n",
            "  0.34289596 0.10790327 0.09980071 0.21990193 0.55349516 0.47659394\n",
            "  0.35866033 0.52900013 0.57423202 0.29104577 0.14513032 0.74053025\n",
            "  0.37903114 0.23829069 0.90653149 0.81068602 0.49636697 0.75760411\n",
            "  0.68442191 0.52501832 0.57203007 0.57223109 0.47608483 0.6097342\n",
            "  0.22041138 0.83005924 0.68011054 0.39553763 0.8196327  0.16255657\n",
            "  0.46919995 0.70265067 0.89552338 0.513309   0.6984306  0.54168058\n",
            "  0.21022753 0.52281848 0.94257956 0.5969412  0.83196714 0.67229598\n",
            "  0.5687594  0.80465047 0.76725099 0.37291525 0.52530324 0.35199922\n",
            "  0.52271403 0.18466637 0.47854186 0.27535244 0.41919311 0.87290237\n",
            "  0.60259257 0.4887154  0.51769345 0.41015844 0.         0.22840543\n",
            "  0.16345873 0.61564062 0.36959567 0.5951587  0.45862356 0.29814186\n",
            "  0.71911257 0.37038517 0.21580064 0.56525816 0.5397626  0.24958291\n",
            "  0.24352054 0.52895971 0.52632757 0.62230252 0.65107766 0.85730311\n",
            "  0.68860776 0.98142337 0.55218975 0.41435621 0.17940158 0.29541918\n",
            "  0.3746336  0.08309837 0.54674906 0.64884791]\n",
            " [0.57747213 0.31898258 0.43194122 0.26248621 0.36983799 0.1988797\n",
            "  0.28859092 0.17596536 0.46377935 0.57401565 0.41531546 0.21447745\n",
            "  0.14025964 0.32479801 0.31140836 0.05450736 0.50869109 0.35613024\n",
            "  0.46236917 0.3799696  0.40960564 0.06443524 0.2235572  0.59839541\n",
            "  0.35320903 0.28839148 0.75447096 0.67948987 0.45736687 0.56009893\n",
            "  0.47306325 0.54005387 0.41231975 0.57457546 0.59314856 0.38758594\n",
            "  0.24235875 0.70431194 0.45192035 0.33797537 0.5962633  0.19718224\n",
            "  0.34133795 0.47549918 0.69656645 0.34441048 0.56449796 0.31815782\n",
            "  0.30697785 0.47433319 0.78732365 0.62191041 0.62043331 0.52988919\n",
            "  0.34045445 0.58141252 0.54878039 0.21345451 0.46339946 0.13277786\n",
            "  0.31688974 0.15259286 0.25249172 0.05370619 0.35966929 0.67222298\n",
            "  0.64301155 0.26470853 0.50371416 0.18765894 0.22840543 0.\n",
            "  0.08401564 0.57488002 0.46922447 0.68767478 0.2587174  0.10270207\n",
            "  0.64932681 0.2643268  0.14254761 0.45275658 0.6277968  0.34206734\n",
            "  0.27566894 0.63891352 0.47755142 0.41465621 0.43482647 0.72828969\n",
            "  0.536976   0.83717784 0.48023824 0.29202771 0.33070292 0.19180893\n",
            "  0.15544269 0.31130588 0.36196263 0.443604  ]\n",
            " [0.5925474  0.23799962 0.49947361 0.25659443 0.45148963 0.22209479\n",
            "  0.2779103  0.12278853 0.5343988  0.59218194 0.49560848 0.29846071\n",
            "  0.17946707 0.24882202 0.25771191 0.05685198 0.46794762 0.34424635\n",
            "  0.38299139 0.4551497  0.4885361  0.13613629 0.20955025 0.60171276\n",
            "  0.39028252 0.21230991 0.76413628 0.67793501 0.41332101 0.59707203\n",
            "  0.52116111 0.48074736 0.4233527  0.51953827 0.51339736 0.44719003\n",
            "  0.16878241 0.70029444 0.52285    0.29675619 0.67668741 0.11634559\n",
            "  0.33291005 0.55288987 0.7349444  0.3601467  0.56323448 0.3798653\n",
            "  0.29701829 0.43416877 0.79887431 0.56120381 0.66880987 0.53265307\n",
            "  0.41539703 0.64213661 0.63121285 0.21962107 0.42809254 0.21657872\n",
            "  0.40088435 0.16861312 0.31875031 0.13772181 0.40830606 0.71183623\n",
            "  0.57858767 0.34600789 0.45233516 0.24877626 0.16345873 0.08401564\n",
            "  0.         0.53392103 0.39051745 0.61252153 0.29619234 0.13471476\n",
            "  0.62033296 0.24129988 0.17601736 0.43922837 0.5529259  0.33623021\n",
            "  0.20244345 0.56051368 0.43757181 0.4986455  0.48763262 0.72603455\n",
            "  0.54482722 0.84316979 0.44933871 0.35807194 0.30229121 0.16185131\n",
            "  0.23911029 0.24305241 0.38865654 0.52761915]\n",
            " [0.38621273 0.5559668  0.67696198 0.78000658 0.7729265  0.75596222\n",
            "  0.31118002 0.61910826 0.72200045 0.40540563 0.93673716 0.71913388\n",
            "  0.48870087 0.60387543 0.70468943 0.52242421 0.06626407 0.26059675\n",
            "  0.36821751 0.92791106 0.93989566 0.5621734  0.73067273 0.31583045\n",
            "  0.92272828 0.38047097 0.44837466 0.32295579 0.12119912 0.52609971\n",
            "  0.5601226  0.15190672 0.33271419 0.1128581  0.40068006 0.59740895\n",
            "  0.39593698 0.3215064  0.71711468 0.23795189 0.92896649 0.45738303\n",
            "  0.27994662 0.79600885 0.61650836 0.36389184 0.27362523 0.58189481\n",
            "  0.81411462 0.10056608 0.48473213 0.17402906 0.6429116  0.29151472\n",
            "  0.68324666 0.715048   0.92584959 0.39399751 0.11523946 0.64730557\n",
            "  0.7977862  0.70253333 0.58395982 0.60578558 0.93428122 0.60983245\n",
            "  0.2182128  0.69658641 0.10817879 0.54477131 0.61564062 0.57488002\n",
            "  0.53392103 0.         0.35836858 0.36604254 0.45992366 0.4939192\n",
            "  0.12302075 0.3152808  0.70727676 0.20338168 0.33449042 0.85476692\n",
            "  0.37246825 0.39413221 0.09732954 0.86620873 0.57404258 0.34920074\n",
            "  0.32537976 0.4843313  0.11222724 0.86107131 0.794824   0.38307526\n",
            "  0.65893606 0.64400469 0.41034148 0.89595109]\n",
            " [0.66168506 0.26027005 0.78723813 0.55856258 0.80359647 0.57742953\n",
            "  0.38845905 0.4036066  0.83089386 0.67415123 0.88453917 0.67744806\n",
            "  0.47749589 0.3063766  0.4275671  0.41979391 0.32186024 0.40319264\n",
            "  0.01232127 0.84559411 0.87845365 0.49887551 0.51319854 0.61881316\n",
            "  0.7434249  0.18165376 0.77737164 0.6562114  0.28026387 0.75358181\n",
            "  0.73359205 0.21486434 0.52750647 0.26617065 0.12478456 0.71330316\n",
            "  0.22878927 0.66286892 0.82165662 0.27658571 1.01254855 0.27425544\n",
            "  0.41185415 0.87777145 0.87667681 0.50722192 0.57064394 0.66456859\n",
            "  0.57800242 0.30941862 0.8153896  0.25943398 0.86050239 0.56630232\n",
            "  0.74009495 0.88762656 0.98224611 0.42319691 0.33227691 0.59310986\n",
            "  0.7776509  0.52808926 0.62842302 0.52042582 0.77655628 0.86172701\n",
            "  0.2502355  0.70203988 0.25249801 0.56145849 0.36959567 0.46922447\n",
            "  0.39051745 0.35836858 0.         0.2273156  0.5351125  0.45040086\n",
            "  0.48127148 0.34537547 0.54931646 0.43903931 0.17039362 0.61591436\n",
            "  0.19735537 0.16999637 0.31185557 0.87027134 0.7230444  0.69183806\n",
            "  0.5961554  0.82851799 0.36408091 0.74497702 0.53417317 0.3398286\n",
            "  0.61356514 0.35673383 0.56039108 0.90056212]\n",
            " [0.74292608 0.47960091 0.95596547 0.78415582 0.99959541 0.80471609\n",
            "  0.54564947 0.63082489 1.00124429 0.76018606 1.10147809 0.88898499\n",
            "  0.67386295 0.52231159 0.645162   0.63579099 0.37037249 0.53473798\n",
            "  0.23738958 1.06696477 1.09693277 0.70983346 0.73956776 0.67912729\n",
            "  0.97061217 0.40029349 0.81354198 0.68826329 0.36201065 0.86671469\n",
            "  0.87386221 0.23212805 0.64800165 0.25437544 0.12939025 0.87763837\n",
            "  0.44541418 0.68449128 0.99344021 0.42611541 1.19552545 0.49741804\n",
            "  0.54937404 1.05904879 0.97199454 0.64971637 0.63441638 0.83965869\n",
            "  0.80146146 0.37982337 0.84932744 0.19401878 0.98147053 0.64503491\n",
            "  0.9264707  1.03214276 1.17371804 0.60250707 0.40998504 0.80522673\n",
            "  0.986406   0.75514609 0.81511687 0.73674461 1.00379241 0.96227673\n",
            "  0.15175398 0.90267493 0.30192054 0.75396585 0.5951587  0.68767478\n",
            "  0.61252153 0.36604254 0.2273156  0.         0.70668607 0.65415947\n",
            "  0.47338386 0.51469142 0.77569392 0.53081783 0.05994265 0.83836949\n",
            "  0.41200868 0.07809537 0.38026486 1.07477264 0.87400803 0.71109862\n",
            "  0.67857931 0.84298934 0.43393326 0.96953464 0.75341417 0.53440623\n",
            "  0.82431994 0.57382582 0.70364944 1.1054022 ]\n",
            " [0.32910406 0.50539849 0.25242475 0.52067539 0.31319313 0.44850743\n",
            "  0.16301557 0.41798116 0.29672015 0.3223718  0.49057242 0.2851935\n",
            "  0.11960955 0.53024565 0.55387581 0.24204532 0.40300578 0.19942937\n",
            "  0.53406806 0.49812791 0.49779888 0.20164418 0.48219928 0.36657489\n",
            "  0.57832521 0.37767992 0.50894889 0.45283845 0.37303724 0.30248647\n",
            "  0.22733593 0.49748415 0.18033326 0.51011495 0.6529228  0.17870135\n",
            "  0.3380565  0.48123035 0.28809336 0.28092654 0.48942127 0.34226034\n",
            "  0.18016591 0.35290095 0.43989823 0.1138605  0.34326718 0.13298471\n",
            "  0.56539657 0.37318936 0.53920415 0.57463633 0.37399078 0.30310318\n",
            "  0.22638289 0.36397849 0.47380808 0.11297995 0.34854879 0.23874222\n",
            "  0.34564956 0.40839108 0.12430072 0.24712194 0.56533826 0.41628165\n",
            "  0.60977863 0.24106222 0.43631259 0.10455725 0.45862356 0.2587174\n",
            "  0.29619234 0.45992366 0.5351125  0.70668607 0.         0.16297614\n",
            "  0.4892668  0.19313319 0.39106461 0.27459493 0.65022339 0.59956695\n",
            "  0.35667925 0.68406174 0.37513633 0.40683165 0.200244   0.50114203\n",
            "  0.3005007  0.59495884 0.34794504 0.46380234 0.58787343 0.2052331\n",
            "  0.23924868 0.53475327 0.10825799 0.43631887]\n",
            " [0.47514829 0.35965001 0.37192997 0.36371321 0.35393529 0.30115173\n",
            "  0.19311389 0.2552972  0.40974821 0.47214762 0.45596872 0.2379248\n",
            "  0.04475451 0.37795455 0.39167069 0.07924424 0.42867402 0.25943944\n",
            "  0.44596695 0.43687539 0.4553293  0.06836793 0.32254207 0.49593155\n",
            "  0.45007434 0.27194809 0.65181798 0.57754253 0.38173242 0.46530046\n",
            "  0.38651323 0.48044759 0.30961768 0.50858468 0.57480822 0.31471693\n",
            "  0.22532649 0.60276724 0.39870793 0.26414744 0.56982908 0.20548288\n",
            "  0.2433547  0.43921914 0.60284404 0.24181554 0.46271219 0.24923356\n",
            "  0.40773792 0.39452471 0.68479272 0.56267333 0.53422001 0.42757137\n",
            "  0.29949879 0.50932595 0.53376154 0.11307206 0.3795986  0.15759953\n",
            "  0.3325078  0.25523746 0.19353646 0.11445007 0.45015811 0.5792561\n",
            "  0.58906908 0.25163904 0.434836   0.12184193 0.29814186 0.10270207\n",
            "  0.13471476 0.4939192  0.45040086 0.65415947 0.16297614 0.\n",
            "  0.55838969 0.17863964 0.2442572  0.35539155 0.59454959 0.44374054\n",
            "  0.25390507 0.61521337 0.39749926 0.42127952 0.3530998  0.62639031\n",
            "  0.43428917 0.73448162 0.39265544 0.3679046  0.42600666 0.12275727\n",
            "  0.17353949 0.37680377 0.26166048 0.45180817]\n",
            " [0.3246982  0.6696457  0.67354114 0.87342526 0.79401496 0.8398271\n",
            "  0.36578709 0.71641114 0.71658496 0.34619172 0.9788829  0.76675481\n",
            "  0.54415916 0.71677013 0.81183515 0.60002912 0.1699786  0.30236723\n",
            "  0.49100512 0.97963638 0.98484208 0.62617585 0.82454928 0.24279979\n",
            "  1.00210981 0.48988775 0.34503509 0.22248909 0.22571791 0.47981369\n",
            "  0.53775045 0.27350085 0.32912046 0.22950998 0.5205201  0.59710986\n",
            "  0.49890479 0.21350853 0.71367823 0.3266192  0.92462554 0.55756372\n",
            "  0.32065003 0.79746149 0.54757812 0.37978377 0.21306112 0.5959775\n",
            "  0.91012248 0.19726144 0.37912877 0.27970682 0.59423005 0.24537894\n",
            "  0.69983183 0.68344134 0.93162344 0.44905555 0.19445951 0.70277493\n",
            "  0.83483323 0.78733734 0.61198214 0.67277725 1.00756445 0.54556729\n",
            "  0.32173387 0.73030709 0.22975756 0.58573797 0.71911257 0.64932681\n",
            "  0.62033296 0.12302075 0.48127148 0.47338386 0.4892668  0.55838969\n",
            "  0.         0.38509661 0.78785181 0.21475449 0.44880347 0.95057221\n",
            "  0.47926492 0.5098766  0.19379263 0.89244809 0.56156583 0.23880639\n",
            "  0.27571422 0.36963438 0.17099623 0.92481933 0.8967667  0.46123836\n",
            "  0.71105438 0.7543085  0.41532627 0.92090756]\n",
            " [0.37697225 0.37102831 0.44510129 0.49786846 0.48989638 0.45614284\n",
            "  0.05058436 0.3516413  0.48969977 0.38184004 0.62762458 0.4085999\n",
            "  0.17715293 0.4078631  0.46989596 0.21521587 0.25010968 0.10626438\n",
            "  0.34544194 0.61399732 0.62901516 0.24690464 0.45044381 0.37022927\n",
            "  0.61702945 0.20741463 0.53672138 0.44120502 0.20485394 0.42712797\n",
            "  0.39104179 0.31497947 0.21242931 0.33656087 0.4606842  0.36921409\n",
            "  0.18054972 0.4618736  0.48119914 0.0929935  0.68086875 0.21468801\n",
            "  0.09958855 0.54443189 0.56010666 0.17052239 0.32816667 0.32566428\n",
            "  0.53774984 0.21604897 0.57316026 0.39566048 0.52526132 0.30228904\n",
            "  0.41238455 0.54289369 0.66031134 0.08963726 0.20118389 0.3333489\n",
            "  0.49459896 0.40445568 0.30185923 0.29109845 0.62337337 0.54124054\n",
            "  0.42682093 0.39972901 0.26175784 0.24620127 0.37038517 0.2643268\n",
            "  0.24129988 0.3152808  0.34537547 0.51469142 0.19313319 0.17863964\n",
            "  0.38509661 0.         0.40315836 0.19847939 0.45763415 0.57729036\n",
            "  0.1865675  0.49095846 0.21897767 0.57324808 0.37791515 0.48847598\n",
            "  0.32040994 0.61105128 0.21609211 0.54608429 0.53629731 0.0795203\n",
            "  0.34642077 0.42884857 0.22025681 0.60382143]\n",
            " [0.71615885 0.33871203 0.52000497 0.14068448 0.410979   0.05754143\n",
            "  0.43042036 0.16081329 0.54328001 0.71151203 0.3719009  0.23483189\n",
            "  0.27756868 0.32342601 0.25668834 0.18794249 0.64106567 0.49807401\n",
            "  0.54025645 0.31337216 0.3586456  0.18968445 0.12087074 0.74010895\n",
            "  0.21545417 0.38016291 0.89435153 0.82174365 0.58744863 0.68626463\n",
            "  0.59006084 0.65634094 0.55311076 0.69554576 0.66736978 0.49206882\n",
            "  0.34053331 0.84674745 0.53108862 0.46934647 0.63505531 0.2811956\n",
            "  0.48361777 0.53303285 0.82003148 0.48450671 0.70683061 0.42263713\n",
            "  0.1849223  0.60695898 0.92651223 0.73634148 0.73441638 0.67182124\n",
            "  0.41403064 0.67829067 0.57489169 0.35596772 0.59865638 0.18892671\n",
            "  0.32388778 0.03470176 0.35379425 0.14450838 0.23287472 0.79479531\n",
            "  0.75227317 0.31783526 0.62815383 0.30321816 0.21580064 0.14254761\n",
            "  0.17601736 0.70727676 0.54931646 0.77569392 0.39106461 0.2442572\n",
            "  0.78785181 0.40315836 0.         0.59472824 0.71702015 0.2133508\n",
            "  0.37359258 0.71759835 0.61029802 0.42153392 0.54722166 0.87057421\n",
            "  0.67795605 0.97791763 0.61757839 0.20072057 0.22993572 0.32687516\n",
            "  0.20687519 0.28924566 0.497688   0.44558461]\n",
            " [0.2229306  0.54800574 0.47475665 0.69577218 0.58200198 0.64957487\n",
            "  0.16431876 0.54966681 0.51951257 0.2365604  0.76420413 0.55312164\n",
            "  0.33543839 0.58993614 0.66386027 0.40833001 0.16548851 0.09665479\n",
            "  0.44443614 0.76641825 0.77039003 0.42126242 0.64866664 0.18625068\n",
            "  0.80500048 0.36773412 0.35283165 0.24631248 0.17105213 0.33608481\n",
            "  0.35784532 0.29881513 0.12934415 0.28774012 0.52498577 0.39566873\n",
            "  0.35782171 0.26480219 0.5150125  0.18430294 0.72708168 0.40484956\n",
            "  0.11204564 0.59542539 0.44495314 0.16716642 0.13925557 0.38591383\n",
            "  0.73605086 0.15100186 0.39063485 0.35691217 0.45158704 0.12756595\n",
            "  0.4891657  0.5142492  0.72712192 0.24276242 0.12085168 0.49203587\n",
            "  0.62009023 0.59920466 0.39776361 0.46920612 0.80508186 0.43325139\n",
            "  0.39933803 0.51565714 0.22892232 0.37148753 0.56525816 0.45275658\n",
            "  0.43922837 0.20338168 0.43903931 0.53081783 0.27459493 0.35539155\n",
            "  0.21475449 0.19847939 0.59472824 0.         0.48542346 0.77544242\n",
            "  0.35052396 0.53643817 0.1506576  0.67919349 0.3706609  0.29218824\n",
            "  0.15720151 0.41996636 0.09943176 0.71657882 0.73427614 0.27787674\n",
            "  0.49894862 0.6173296  0.20894759 0.70802452]\n",
            " [0.70172478 0.42697777 0.90048451 0.72878932 0.94087118 0.74696303\n",
            "  0.49021062 0.57379228 0.94561555 0.71814909 1.04153587 0.82912358\n",
            "  0.61477077 0.47107563 0.5936257  0.57586043 0.32977275 0.48274913\n",
            "  0.18111116 1.0071817  1.03700986 0.64994921 0.6835794  0.64171761\n",
            "  0.91359253 0.34063832 0.78260031 0.65721359 0.31479324 0.82008178\n",
            "  0.82251701 0.190175   0.59878269 0.22168445 0.0936454  0.82261014\n",
            "  0.38558341 0.65584312 0.93760027 0.37046427 1.1384338  0.43807674\n",
            "  0.49664193 1.00204123 0.92922615 0.59699481 0.59581757 0.78309935\n",
            "  0.74741573 0.33522151 0.81914519 0.1718844  0.9338409  0.6034929\n",
            "  0.86869283 0.98054419 1.11558722 0.54481197 0.36487686 0.74533232\n",
            "  0.92668876 0.69698471 0.75714776 0.67680809 0.94584909 0.91843819\n",
            "  0.13674766 0.84347151 0.25818309 0.69532052 0.5397626  0.6277968\n",
            "  0.5529259  0.33449042 0.17039362 0.05994265 0.65022339 0.59454959\n",
            "  0.44880347 0.45763415 0.71702015 0.48542346 0.         0.78487298\n",
            "  0.35214261 0.06197101 0.33605232 1.01535515 0.82095542 0.68327635\n",
            "  0.63661978 0.81738378 0.39089454 0.91019897 0.70135384 0.47518269\n",
            "  0.76447176 0.52232564 0.65111406 1.04597033]\n",
            " [0.9187883  0.3589291  0.72967686 0.08041525 0.60434302 0.15995469\n",
            "  0.61369566 0.2356867  0.75000296 0.91585731 0.5014289  0.43174762\n",
            "  0.48224068 0.31884164 0.19820501 0.37310148 0.79050267 0.68038383\n",
            "  0.60452115 0.42468478 0.48140229 0.39842988 0.12687813 0.93503388\n",
            "  0.1876512  0.48501265 1.09446567 1.01307882 0.73383463 0.89807101\n",
            "  0.80331032 0.77319514 0.75194475 0.81936144 0.71481934 0.7050299\n",
            "  0.4602833  1.03601613 0.73785926 0.62398815 0.81870531 0.39778561\n",
            "  0.66861186 0.73051024 1.03265077 0.68517544 0.89808625 0.63578258\n",
            "  0.04065588 0.75813039 1.1280099  0.84623391 0.9477548  0.86601798\n",
            "  0.62097711 0.88923563 0.75161489 0.54899465 0.75633979 0.40014433\n",
            "  0.50360579 0.19138739 0.56694465 0.35622307 0.2470717  1.007566\n",
            "  0.85215362 0.52109897 0.76148818 0.51593749 0.24958291 0.34206734\n",
            "  0.33623021 0.85476692 0.61591436 0.83836949 0.59956695 0.44374054\n",
            "  0.95057221 0.57729036 0.2133508  0.77544242 0.78487298 0.\n",
            "  0.4874848  0.7685797  0.76162688 0.59241518 0.7605692  1.06141777\n",
            "  0.87577331 1.17567788 0.78021317 0.31067291 0.09277801 0.4977701\n",
            "  0.41616802 0.26760362 0.7039868  0.6108071 ]\n",
            " [0.55545728 0.19801517 0.6044032  0.41677353 0.60776473 0.41155366\n",
            "  0.236851   0.25335892 0.64648264 0.5626318  0.69007859 0.48057383\n",
            "  0.28373849 0.24193113 0.33289227 0.22422822 0.31139656 0.27850792\n",
            "  0.19230563 0.65515211 0.68508051 0.30168437 0.36768885 0.53561201\n",
            "  0.58167078 0.02123736 0.70295049 0.59505049 0.25439044 0.61367034\n",
            "  0.57230337 0.28821812 0.39666346 0.33249785 0.32212776 0.53471211\n",
            "  0.03368523 0.61041949 0.6365303  0.16723735 0.82047095 0.09390574\n",
            "  0.2788169  0.68716643 0.74646077 0.35683878 0.48952103 0.47987649\n",
            "  0.4469818  0.28203026 0.74054961 0.36547817 0.71020731 0.471538\n",
            "  0.54817195 0.71907893 0.78723467 0.24411849 0.28806517 0.3962765\n",
            "  0.58041081 0.3587362  0.43751302 0.32524502 0.60617208 0.727776\n",
            "  0.37900489 0.50535421 0.27453647 0.36845037 0.24352054 0.27566894\n",
            "  0.20244345 0.37246825 0.19735537 0.41200868 0.35667925 0.25390507\n",
            "  0.47926492 0.1865675  0.37359258 0.35052396 0.35214261 0.4874848\n",
            "  0.         0.36513945 0.28551107 0.67294481 0.55385299 0.63885367\n",
            "  0.49468853 0.76986274 0.31727806 0.56049805 0.42291131 0.15213936\n",
            "  0.41647192 0.27565284 0.4050718  0.70321816]\n",
            " [0.75535295 0.4097997  0.93594761 0.71731892 0.96607134 0.74327362\n",
            "  0.52737085 0.56797426 0.98064531 0.77113372 1.05419666 0.8456761\n",
            "  0.63908584 0.45073535 0.57349694 0.58889095 0.38534247 0.52618109\n",
            "  0.17792073 1.01557911 1.04831933 0.66662221 0.67401055 0.69785605\n",
            "  0.90684266 0.35073147 0.84148055 0.71620828 0.36540539 0.86884187\n",
            "  0.8655727  0.2466418  0.64532498 0.28167339 0.05394336 0.85925213\n",
            "  0.39748711 0.71563778 0.97215033 0.40821902 1.16931454 0.4442443\n",
            "  0.53883494 1.03339318 0.98127742 0.6386755  0.65138539 0.81621505\n",
            "  0.73248919 0.38793067 0.87826412 0.2338193  0.98134214 0.65712812\n",
            "  0.89788216 1.02291101 1.14300742 0.57552958 0.41691209 0.76140027\n",
            "  0.9451152  0.69515756 0.78596932 0.68974282 0.94252735 0.96962344\n",
            "  0.19832624 0.86629862 0.31240431 0.72159229 0.52895971 0.63891352\n",
            "  0.56051368 0.39413221 0.16999637 0.07809537 0.68406174 0.61521337\n",
            "  0.5098766  0.49095846 0.71759835 0.53643817 0.06197101 0.7685797\n",
            "  0.36513945 0.         0.38906346 1.03634294 0.86134179 0.74328256\n",
            "  0.68985983 0.87786497 0.44437814 0.91438045 0.68206498 0.49956415\n",
            "  0.78146113 0.50233238 0.69287232 1.06679507]\n",
            " [0.36629161 0.47674017 0.60508813 0.6858884  0.6879122  0.65944662\n",
            "  0.21937729 0.52633541 0.65063541 0.38226696 0.84370671 0.62533495\n",
            "  0.3941123  0.52350707 0.61823517 0.4251264  0.03123778 0.17745987\n",
            "  0.31955344 0.83267546 0.84613848 0.46562304 0.63666109 0.31184301\n",
            "  0.8257484  0.29617637 0.46609382 0.34435674 0.03343505 0.4867359\n",
            "  0.50235407 0.14818086 0.27284273 0.14109201 0.38229877 0.52508786\n",
            "  0.30591881 0.35159202 0.64469994 0.14100134 0.85500595 0.36575396\n",
            "  0.19605964 0.72008402 0.59317411 0.28941782 0.26432923 0.50216834\n",
            "  0.72102035 0.00351172 0.50401205 0.20982531 0.60206768 0.26806526\n",
            "  0.60099921 0.66024373 0.84674568 0.3004323  0.03047533 0.55196274\n",
            "  0.70670603 0.60612232 0.49777758 0.50881251 0.83696382 0.58258191\n",
            "  0.2508153  0.60717631 0.07835628 0.45403966 0.52632757 0.47755142\n",
            "  0.43757181 0.09732954 0.31185557 0.38026486 0.37513633 0.39749926\n",
            "  0.19379263 0.21897767 0.61029802 0.1506576  0.33605232 0.76162688\n",
            "  0.28551107 0.38906346 0.         0.77858391 0.50948974 0.38063442\n",
            "  0.3008622  0.51711422 0.05542722 0.76415277 0.70470081 0.28574583\n",
            "  0.56427457 0.56054531 0.34025732 0.80867273]\n",
            " [0.66343144 0.72987622 0.27699319 0.54458401 0.10242789 0.45012997\n",
            "  0.55997392 0.56447787 0.26066223 0.64714944 0.14643985 0.2009827\n",
            "  0.40184995 0.72803157 0.67781999 0.45564785 0.80756097 0.60565358\n",
            "  0.86514102 0.21357138 0.16817825 0.37267124 0.53985508 0.72909166\n",
            "  0.45064684 0.68955802 0.82850486 0.81452731 0.77249444 0.54551877\n",
            "  0.43055339 0.88819814 0.56735903 0.90807472 0.99499689 0.32379556\n",
            "  0.64228628 0.84540424 0.25289911 0.66620244 0.23027663 0.60806866\n",
            "  0.58628455 0.18885353 0.63753049 0.51269582 0.72086346 0.30021008\n",
            "  0.58089802 0.77635737 0.84757361 0.96880846 0.52155229 0.67896989\n",
            "  0.19834291 0.41065203 0.15951069 0.48407177 0.75340534 0.28227679\n",
            "  0.09961079 0.45621033 0.28253144 0.36097536 0.39866876 0.61178132\n",
            "  0.9997967  0.17360731 0.83321813 0.32716257 0.62230252 0.41465621\n",
            "  0.4986455  0.86620873 0.87027134 1.07477264 0.40683165 0.42127952\n",
            "  0.89244809 0.57324808 0.42153392 0.67919349 1.01535515 0.59241518\n",
            "  0.67294481 1.03634294 0.77858391 0.         0.38389707 0.85838202\n",
            "  0.66405817 0.91590945 0.75451823 0.29113063 0.64154638 0.54052739\n",
            "  0.26012073 0.70284211 0.48049054 0.03068388]\n",
            " [0.2849414  0.70505916 0.11724186 0.68583355 0.28294992 0.60187008\n",
            "  0.33543732 0.60583271 0.15657185 0.26679283 0.51183322 0.36581121\n",
            "  0.3084084  0.72836513 0.74276533 0.43127698 0.53110667 0.33968117\n",
            "  0.72333232 0.54912397 0.52722463 0.37109049 0.65378949 0.35899988\n",
            "  0.70011123 0.57503254 0.44466711 0.44035246 0.51826104 0.16474955\n",
            "  0.04917084 0.65019368 0.24134566 0.6505805  0.83553431 0.06487891\n",
            "  0.53710197 0.47147094 0.15553101 0.45328824 0.36347731 0.54236236\n",
            "  0.3246347  0.24219974 0.28082669 0.22433039 0.36200544 0.1266442\n",
            "  0.73079163 0.50863134 0.46392324 0.71911994 0.18722983 0.32221261\n",
            "  0.19333037 0.16539172 0.37791913 0.3101891  0.4793741  0.36399681\n",
            "  0.37166476 0.57159901 0.19459412 0.40666645 0.67188065 0.25452071\n",
            "  0.75901823 0.28101718 0.58255387 0.24785862 0.65107766 0.43482647\n",
            "  0.48763262 0.57404258 0.7230444  0.87400803 0.200244   0.3530998\n",
            "  0.56156583 0.37791515 0.54722166 0.3706609  0.82095542 0.7605692\n",
            "  0.55385299 0.86134179 0.50948974 0.38389707 0.         0.48112786\n",
            "  0.29927521 0.53201278 0.46661354 0.55753869 0.76371312 0.4040927\n",
            "  0.35233572 0.72979257 0.17068848 0.4058871 ]\n",
            " [0.19620727 0.83686373 0.59784413 0.98117467 0.75595698 0.92716855\n",
            "  0.44814411 0.84002414 0.63319098 0.21475348 0.97213629 0.78292981\n",
            "  0.59673606 0.88011127 0.9560303  0.68947704 0.37060002 0.38270094\n",
            "  0.6999082  0.99234663 0.98349341 0.68631815 0.93530026 0.13469082\n",
            "  1.07296258 0.65464298 0.11033193 0.04888861 0.41327077 0.34382038\n",
            "  0.44113194 0.4996352  0.32227006 0.46167867 0.74872103 0.53584324\n",
            "  0.64870741 0.02907114 0.63433919 0.47166256 0.83013042 0.69701472\n",
            "  0.393137   0.72119562 0.35798768 0.39156001 0.16382281 0.56280029\n",
            "  1.02276917 0.38329859 0.14135579 0.51708513 0.43880606 0.19981974\n",
            "  0.6604745  0.55273028 0.85591856 0.5150539  0.36399721 0.73940592\n",
            "  0.82545804 0.87928469 0.60381959 0.73484085 1.06473147 0.36491672\n",
            "  0.55981464 0.72176749 0.44292135 0.60558576 0.85730311 0.72828969\n",
            "  0.72603455 0.34920074 0.69183806 0.71109862 0.50114203 0.62639031\n",
            "  0.23880639 0.48847598 0.87057421 0.29218824 0.68327635 1.06141777\n",
            "  0.63885367 0.74328256 0.38063442 0.85838202 0.48112786 0.\n",
            "  0.20136114 0.13674163 0.33180905 0.96494395 1.02464532 0.56688297\n",
            "  0.74036207 0.90901647 0.39709472 0.88281575]\n",
            " [0.06587812 0.68855376 0.41588292 0.7953724  0.56186969 0.73517011\n",
            "  0.27313969 0.66393671 0.45572704 0.08161621 0.77296293 0.58157169\n",
            "  0.40121033 0.72734969 0.78840232 0.5027697  0.30820852 0.21717823\n",
            "  0.6014036  0.7913266  0.78366244 0.49069696 0.75138816 0.06683879\n",
            "  0.8757519  0.51349642 0.2193094  0.15391917 0.32544432 0.20493137\n",
            "  0.26810227 0.44719057 0.12486389 0.4275336  0.68082209 0.34634634\n",
            "  0.49654011 0.18372917 0.45476159 0.33406752 0.66100055 0.53509542\n",
            "  0.22084786 0.54118689 0.2935037  0.19394823 0.06423114 0.36526899\n",
            "  0.83832024 0.30193487 0.25437294 0.49508433 0.32081728 0.03392879\n",
            "  0.46573491 0.40819449 0.67692903 0.32689901 0.27312967 0.53917011\n",
            "  0.62603154 0.68936369 0.40303839 0.53886786 0.86534557 0.2850509\n",
            "  0.53900112 0.52169706 0.37843684 0.4047075  0.68860776 0.536976\n",
            "  0.54482722 0.32537976 0.5961554  0.67857931 0.3005007  0.43428917\n",
            "  0.27571422 0.32040994 0.67795605 0.15720151 0.63661978 0.87577331\n",
            "  0.49468853 0.68985983 0.3008622  0.66405817 0.29927521 0.20136114\n",
            "  0.         0.30022445 0.24574747 0.76414259 0.84691198 0.39319847\n",
            "  0.539488   0.74924678 0.19573409 0.68975834]\n",
            " [0.26678786 0.96769916 0.64316368 1.09526344 0.81472494 1.03521025\n",
            "  0.56731007 0.96046928 0.67189538 0.27717254 1.04055038 0.86657142\n",
            "  0.70072041 1.00990005 1.08083655 0.80258013 0.50733945 0.50483055\n",
            "  0.83652746 1.06948778 1.05426017 0.78993946 1.05084966 0.24160268\n",
            "  1.1730746  0.78638816 0.08825051 0.17537041 0.54959205 0.37356086\n",
            "  0.48591391 0.63546099 0.42489712 0.59622376 0.88460855 0.59335447\n",
            "  0.77777455 0.16565464 0.67543786 0.60276127 0.85355716 0.82326661\n",
            "  0.51281701 0.76000326 0.33444828 0.49344836 0.28313684 0.63309745\n",
            "  1.13797252 0.51973256 0.07190868 0.64932341 0.44005159 0.3105789\n",
            "  0.72250295 0.56436087 0.89019599 0.62668361 0.49975471 0.8327529\n",
            "  0.89626226 0.98958758 0.68357787 0.83781462 1.15963322 0.35051571\n",
            "  0.69128518 0.79633899 0.57956326 0.69709497 0.98142337 0.83717784\n",
            "  0.84316979 0.4843313  0.82851799 0.84298934 0.59495884 0.73448162\n",
            "  0.36963438 0.61105128 0.97791763 0.41996636 0.81738378 1.17567788\n",
            "  0.76986274 0.87786497 0.51711422 0.91590945 0.53201278 0.13674163\n",
            "  0.30022445 0.         0.46751942 1.05451599 1.1444443  0.6875949\n",
            "  0.83075652 1.03671809 0.48698722 0.93753714]\n",
            " [0.31103758 0.51309212 0.56675356 0.70273103 0.66080209 0.66911054\n",
            "  0.20369805 0.54678701 0.61201577 0.32725503 0.82797419 0.61153333\n",
            "  0.3830692  0.55859967 0.64699386 0.4300248  0.06605692 0.14894272\n",
            "  0.37122109 0.82213343 0.83190943 0.46095528 0.65396215 0.25689759\n",
            "  0.83229015 0.33048714 0.41331253 0.29329211 0.08401557 0.43451111\n",
            "  0.45617987 0.20192533 0.2265539  0.18832041 0.43760483 0.48695066\n",
            "  0.33341746 0.30275332 0.60677159 0.15707201 0.81829438 0.38980972\n",
            "  0.16833058 0.68472421 0.53851304 0.25234663 0.20919606 0.46980572\n",
            "  0.73984398 0.05688942 0.45135279 0.25748355 0.55045956 0.21278725\n",
            "  0.57102404 0.61317539 0.81397267 0.28755831 0.03223938 0.54234855\n",
            "  0.68762872 0.6164934  0.47210786 0.50640019 0.83946475 0.52837198\n",
            "  0.30001182 0.58564638 0.13273257 0.43482248 0.55218975 0.48023824\n",
            "  0.44933871 0.11222724 0.36408091 0.43393326 0.34794504 0.39265544\n",
            "  0.17099623 0.21609211 0.61757839 0.09943176 0.39089454 0.78021317\n",
            "  0.31727806 0.44437814 0.05542722 0.75451823 0.46661354 0.33180905\n",
            "  0.24574747 0.46751942 0.         0.76049866 0.72846754 0.290726\n",
            "  0.55270534 0.59269025 0.30018205 0.78416256]\n",
            " [0.78777909 0.53887915 0.48977687 0.27944211 0.32849845 0.19736089\n",
            "  0.55909786 0.36101878 0.49650744 0.77790059 0.19140046 0.19220809\n",
            "  0.38130282 0.52077649 0.43772838 0.34652894 0.79538874 0.62316553\n",
            "  0.73650905 0.11892776 0.17262407 0.29955876 0.29180298 0.83036352\n",
            "  0.16078832 0.57001336 0.96707158 0.91660483 0.74625224 0.71740733\n",
            "  0.60605935 0.83204201 0.64343494 0.86637043 0.86513378 0.49356955\n",
            "  0.52682326 0.94479333 0.48522202 0.62702324 0.52132077 0.47212932\n",
            "  0.60562593 0.45446384 0.83789932 0.57494555 0.80593206 0.43436064\n",
            "  0.30727365 0.76107798 0.9945423  0.9138134  0.7343101  0.76645392\n",
            "  0.37791527 0.64846592 0.44999045 0.47582441 0.74726073 0.22644028\n",
            "  0.21735908 0.22976735 0.37416028 0.2553535  0.11681849 0.81147498\n",
            "  0.93409628 0.27839997 0.79492245 0.35943546 0.41435621 0.29202771\n",
            "  0.35807194 0.86107131 0.74497702 0.96953464 0.46380234 0.3679046\n",
            "  0.92481933 0.54608429 0.20072057 0.71657882 0.91019897 0.31067291\n",
            "  0.56049805 0.91438045 0.76415277 0.29113063 0.55753869 0.96494395\n",
            "  0.76414259 1.05451599 0.76049866 0.         0.37504097 0.48049781\n",
            "  0.22465948 0.48231518 0.569404   0.30544861]\n",
            " [0.8947238  0.27440619 0.74693134 0.0973086  0.63984497 0.19156184\n",
            "  0.57744502 0.18465709 0.77204269 0.89396866 0.56590845 0.46380384\n",
            "  0.46829412 0.23133764 0.10864412 0.3490648  0.73227976 0.64195935\n",
            "  0.52245367 0.49305014 0.54765765 0.39310319 0.1112806  0.90284422\n",
            "  0.27348236 0.41743426 1.06619146 0.97708805 0.67517436 0.8901669\n",
            "  0.80327681 0.70273545 0.72562641 0.75065486 0.62815384 0.71283184\n",
            "  0.39909753 0.9981649  0.75985692 0.57140423 0.86165243 0.33920783\n",
            "  0.63227754 0.76282067 1.02703131 0.66180539 0.86309578 0.64288718\n",
            "  0.07125143 0.70118918 1.10108807 0.77269099 0.95022891 0.83388389\n",
            "  0.6430208  0.90317409 0.7985546  0.52175327 0.70249382 0.41660652\n",
            "  0.54726814 0.19852293 0.57471535 0.35807793 0.32971017 1.00282026\n",
            "  0.77564986 0.54775205 0.69705233 0.51587692 0.17940158 0.33070292\n",
            "  0.30229121 0.794824   0.53417317 0.75341417 0.58787343 0.42600666\n",
            "  0.8967667  0.53629731 0.22993572 0.73427614 0.70135384 0.09277801\n",
            "  0.42291131 0.68206498 0.70470081 0.64154638 0.76371312 1.02464532\n",
            "  0.84691198 1.1444443  0.72846754 0.37504097 0.         0.45780971\n",
            "  0.43579069 0.17974105 0.6871649  0.66284042]\n",
            " [0.44638233 0.31118386 0.45236866 0.41837603 0.46660646 0.3786271\n",
            "  0.1204437  0.27327875 0.49470562 0.44911458 0.57858538 0.3606768\n",
            "  0.13974225 0.34326624 0.39521869 0.13977352 0.31688218 0.18418361\n",
            "  0.3370579  0.55711182 0.57754197 0.18672338 0.37092462 0.44615205\n",
            "  0.54182279 0.17290143 0.61141771 0.5192785  0.2660122  0.47839816\n",
            "  0.42567767 0.35815988 0.27790182 0.38798328 0.46232163 0.38271829\n",
            "  0.13301695 0.54057035 0.48489933 0.14661893 0.67272077 0.14813385\n",
            "  0.17479412 0.53811519 0.61470644 0.22399726 0.4054479  0.32800158\n",
            "  0.4582418  0.28252467 0.64728336 0.44045555 0.56753735 0.37753256\n",
            "  0.40027317 0.56880426 0.64363295 0.09418993 0.27221767 0.27984796\n",
            "  0.45423936 0.32637737 0.28860973 0.22578794 0.55129167 0.59405215\n",
            "  0.46634691 0.36829064 0.31519093 0.22220869 0.29541918 0.19180893\n",
            "  0.16185131 0.38307526 0.3398286  0.53440623 0.2052331  0.12275727\n",
            "  0.46123836 0.0795203  0.32687516 0.27787674 0.47518269 0.4977701\n",
            "  0.15213936 0.49956415 0.28574583 0.54052739 0.4040927  0.56688297\n",
            "  0.39319847 0.6875949  0.290726   0.48049781 0.45780971 0.\n",
            "  0.29627904 0.35893806 0.26559178 0.57118425]\n",
            " [0.56397277 0.47368715 0.31369693 0.3472979  0.21739385 0.25626949\n",
            "  0.34900884 0.31811721 0.33644962 0.55478081 0.28257022 0.06474628\n",
            "  0.17024806 0.47644139 0.44483878 0.19582971 0.59509882 0.40890633\n",
            "  0.60782637 0.26943623 0.28277597 0.11484343 0.32497945 0.60574818\n",
            "  0.35048802 0.43205254 0.74362816 0.69208643 0.55126254 0.50401649\n",
            "  0.3984727  0.65380591 0.41922605 0.68083067 0.73831831 0.29263082\n",
            "  0.38481437 0.72043175 0.32425821 0.43572335 0.44499989 0.3480942\n",
            "  0.39042372 0.33156443 0.63171663 0.35118616 0.58198601 0.22569152\n",
            "  0.3909504  0.56150321 0.77190486 0.73596811 0.53757211 0.54218805\n",
            "  0.20727241 0.47308079 0.39432919 0.26526578 0.54371563 0.02287657\n",
            "  0.16432876 0.23727097 0.15880913 0.1022694  0.32976347 0.60570395\n",
            "  0.76260851 0.11514722 0.60659882 0.13478901 0.3746336  0.15544269\n",
            "  0.23911029 0.65893606 0.61356514 0.82431994 0.23924868 0.17353949\n",
            "  0.71105438 0.34642077 0.20687519 0.49894862 0.76447176 0.41616802\n",
            "  0.41647192 0.78146113 0.56427457 0.26012073 0.35233572 0.74036207\n",
            "  0.539488   0.83075652 0.55270534 0.22465948 0.43579069 0.29627904\n",
            "  0.         0.45739292 0.34485443 0.28958434]\n",
            " [0.80463968 0.09667878 0.74110268 0.22804191 0.67473059 0.28593778\n",
            "  0.47674275 0.13944138 0.77447513 0.80793759 0.66098032 0.5051896\n",
            "  0.42141542 0.05159757 0.07134614 0.29989573 0.58534817 0.53365763\n",
            "  0.34479207 0.59937526 0.64710108 0.37351841 0.19549879 0.79769137\n",
            "  0.4254063  0.26445994 0.9648841  0.86363627 0.5287604  0.83054442\n",
            "  0.76164058 0.53732204 0.6367674  0.5871778  0.44842849 0.69024132\n",
            "  0.26084709 0.88108754 0.76271111 0.43939936 0.90236632 0.21422693\n",
            "  0.52843464 0.78574789 0.96823342 0.58148116 0.75381429 0.62273396\n",
            "  0.23384996 0.55708949 1.00162914 0.60263004 0.90872822 0.73055761\n",
            "  0.65173725 0.88518899 0.84928877 0.44295611 0.56370784 0.43482098\n",
            "  0.60337829 0.2559143  0.5604343  0.35843327 0.47240788 0.94622638\n",
            "  0.60217949 0.57167129 0.54070259 0.49138024 0.08309837 0.31130588\n",
            "  0.24305241 0.64400469 0.35673383 0.57382582 0.53475327 0.37680377\n",
            "  0.7543085  0.42884857 0.28924566 0.6173296  0.52232564 0.26760362\n",
            "  0.27565284 0.50233238 0.56054531 0.70284211 0.72979257 0.90901647\n",
            "  0.74924678 1.03671809 0.59269025 0.48231518 0.17974105 0.35893806\n",
            "  0.45739292 0.         0.6182172  0.72888573]\n",
            " [0.22086526 0.5766845  0.26666777 0.62442838 0.38023556 0.55521888\n",
            "  0.17276141 0.51143551 0.31185015 0.21430856 0.58066629 0.38583904\n",
            "  0.22174651 0.60722567 0.64472172 0.33823124 0.36323277 0.16904406\n",
            "  0.56170821 0.59609159 0.5902991  0.3080068  0.58412925 0.26249798\n",
            "  0.68654742 0.42620497 0.40075235 0.34947768 0.34781747 0.21308032\n",
            "  0.17348117 0.47958287 0.08698049 0.48118055 0.66912826 0.18707675\n",
            "  0.39413752 0.37881458 0.30678306 0.28621588 0.51864714 0.41301518\n",
            "  0.15447254 0.38648066 0.350232   0.0542033  0.24460529 0.18120853\n",
            "  0.66879936 0.33922361 0.43096019 0.54937168 0.3052085  0.20304071\n",
            "  0.28507626 0.33004367 0.51848189 0.17544732 0.31046575 0.34590801\n",
            "  0.43375116 0.51349866 0.20882958 0.35447136 0.67278744 0.32887948\n",
            "  0.58880715 0.32860028 0.4122265  0.21043447 0.54674906 0.36196263\n",
            "  0.38865654 0.41034148 0.56039108 0.70364944 0.10825799 0.26166048\n",
            "  0.41532627 0.22025681 0.497688   0.20894759 0.65111406 0.7039868\n",
            "  0.4050718  0.69287232 0.34025732 0.48049054 0.17068848 0.39709472\n",
            "  0.19573409 0.48698722 0.30018205 0.569404   0.6871649  0.26559178\n",
            "  0.34485443 0.6182172  0.         0.50803573]\n",
            " [0.6873785  0.75776424 0.29596533 0.56564143 0.12815683 0.47187403\n",
            "  0.59022179 0.59098954 0.27578888 0.67067204 0.14423126 0.22940302\n",
            "  0.43253329 0.7550225  0.70221337 0.4853091  0.83755891 0.63536182\n",
            "  0.89536732 0.21805354 0.16744667 0.40263584 0.56281373 0.75440156\n",
            "  0.4630078  0.71973034 0.85045733 0.8394357  0.80280741 0.56581099\n",
            "  0.45166738 0.91878451 0.59498754 0.93849072 1.02530568 0.34726463\n",
            "  0.67245031 0.87038837 0.26900218 0.69678587 0.22006873 0.63766494\n",
            "  0.61600517 0.19816286 0.65350696 0.5412861  0.7472387  0.32721648\n",
            "  0.60086487 0.80646669 0.86866928 0.99934645 0.53659565 0.70538681\n",
            "  0.22430291 0.42236866 0.14578574 0.51459859 0.78335553 0.31155242\n",
            "  0.12717717 0.48028608 0.31206222 0.38989856 0.40894224 0.62803367\n",
            "  1.03041377 0.20424345 0.8636471  0.35769317 0.64884791 0.443604\n",
            "  0.52761915 0.89595109 0.90056212 1.1054022  0.43631887 0.45180817\n",
            "  0.92090756 0.60382143 0.44558461 0.70802452 1.04597033 0.6108071\n",
            "  0.70321816 1.06679507 0.80867273 0.03068388 0.4058871  0.88281575\n",
            "  0.68975834 0.93753714 0.78416256 0.30544861 0.66284042 0.57118425\n",
            "  0.28958434 0.72888573 0.50803573 0.        ]]\n"
          ]
        }
      ],
      "source": [
        "a = np.random.random((100,2))\n",
        "X,Y = np.atleast_2d(a[:,0], a[:,1])\n",
        "dist = np.sqrt( (X-X.T)**2 + (Y-Y.T)**2)\n",
        "print(dist)"
      ]
    },
    {
      "cell_type": "markdown",
      "metadata": {
        "id": "8fiPv8Qu_SXW"
      },
      "source": [
        "#### 53. How to convert a float (32 bits) array into an integer (32 bits) in place? \n",
        "(**hint**: astype(copy=False))"
      ]
    },
    {
      "cell_type": "code",
      "execution_count": 29,
      "metadata": {
        "id": "7vqhWExE_SXW",
        "colab": {
          "base_uri": "https://localhost:8080/"
        },
        "outputId": "23a4adb2-e94a-4175-d58f-fbc31aa915b2"
      },
      "outputs": [
        {
          "output_type": "stream",
          "name": "stdout",
          "text": [
            "[0 1 2 3 4 5 6 7 8 9]\n"
          ]
        }
      ],
      "source": [
        "A = np.arange(10, dtype=np.float32)\n",
        "A = A.astype(np.int32, copy=False)\n",
        "print(A)"
      ]
    },
    {
      "cell_type": "markdown",
      "metadata": {
        "id": "Kh0pMmvF_SXW"
      },
      "source": [
        "#### 54. How to read the following file? (★★☆) \n",
        "(**hint**: np.genfromtxt)"
      ]
    },
    {
      "cell_type": "markdown",
      "metadata": {
        "id": "_4nsHutH_SXW"
      },
      "source": [
        "```\n",
        "1, 2, 3, 4, 5\n",
        "6,  ,  , 7, 8\n",
        " ,  , 9,10,11\n",
        "```"
      ]
    },
    {
      "cell_type": "code",
      "execution_count": 31,
      "metadata": {
        "id": "20YHFxPF_SXX",
        "colab": {
          "base_uri": "https://localhost:8080/"
        },
        "outputId": "e0ca1d5a-765d-4790-f4e9-a03816f341bd"
      },
      "outputs": [
        {
          "output_type": "stream",
          "name": "stdout",
          "text": [
            "[[ 1  2  3  4  5]\n",
            " [ 6 -1 -1  7  8]\n",
            " [-1 -1  9 10 11]]\n"
          ]
        },
        {
          "output_type": "stream",
          "name": "stderr",
          "text": [
            "/usr/local/lib/python3.7/dist-packages/ipykernel_launcher.py:6: DeprecationWarning: `np.int` is a deprecated alias for the builtin `int`. To silence this warning, use `int` by itself. Doing this will not modify any behavior and is safe. When replacing `np.int`, you may wish to use e.g. `np.int64` or `np.int32` to specify the precision. If you wish to review your current use, check the release note link for additional information.\n",
            "Deprecated in NumPy 1.20; for more details and guidance: https://numpy.org/devdocs/release/1.20.0-notes.html#deprecations\n",
            "  \n"
          ]
        }
      ],
      "source": [
        "from io import StringIO\n",
        "\n",
        "a = StringIO(\"\"\"1, 2, 3, 4, 5\\n\n",
        "                6,  ,  , 7, 8\\n\n",
        "                 ,  , 9,10,11\\n\"\"\")\n",
        "b = np.genfromtxt(a, delimiter=\",\", dtype=np.int)\n",
        "print(b)"
      ]
    },
    {
      "cell_type": "markdown",
      "metadata": {
        "id": "hpXtbDHi_SXX"
      },
      "source": [
        "#### 55. What is the equivalent of enumerate for numpy arrays? (★★☆) \n",
        "(**hint**: np.ndenumerate, np.ndindex)"
      ]
    },
    {
      "cell_type": "code",
      "execution_count": 32,
      "metadata": {
        "id": "tCIim1EK_SXX",
        "colab": {
          "base_uri": "https://localhost:8080/"
        },
        "outputId": "b3f26f28-a83f-440a-850d-72d0e7bcd063"
      },
      "outputs": [
        {
          "output_type": "stream",
          "name": "stdout",
          "text": [
            "(0, 0) 0\n",
            "(0, 1) 1\n",
            "(0, 2) 2\n",
            "(1, 0) 3\n",
            "(1, 1) 4\n",
            "(1, 2) 5\n",
            "(2, 0) 6\n",
            "(2, 1) 7\n",
            "(2, 2) 8\n",
            "(0, 0) 0\n",
            "(0, 1) 1\n",
            "(0, 2) 2\n",
            "(1, 0) 3\n",
            "(1, 1) 4\n",
            "(1, 2) 5\n",
            "(2, 0) 6\n",
            "(2, 1) 7\n",
            "(2, 2) 8\n"
          ]
        }
      ],
      "source": [
        "a = np.arange(9).reshape(3,3)\n",
        "for index, value in np.ndenumerate(a):\n",
        "    print(index, value)\n",
        "for index in np.ndindex(a.shape):\n",
        "    print(index, a[index])"
      ]
    },
    {
      "cell_type": "markdown",
      "metadata": {
        "id": "MVoJBA-v_SXX"
      },
      "source": [
        "#### 56. Generate a generic 2D Gaussian-like array (★★☆) \n",
        "(**hint**: np.meshgrid, np.exp)"
      ]
    },
    {
      "cell_type": "code",
      "execution_count": 33,
      "metadata": {
        "id": "mV4tp6jk_SXY",
        "colab": {
          "base_uri": "https://localhost:8080/"
        },
        "outputId": "2ed7e827-7050-44b3-f705-78fe976a7e0d"
      },
      "outputs": [
        {
          "output_type": "stream",
          "name": "stdout",
          "text": [
            "[[0.36787944 0.44822088 0.51979489 0.57375342 0.60279818 0.60279818\n",
            "  0.57375342 0.51979489 0.44822088 0.36787944]\n",
            " [0.44822088 0.54610814 0.63331324 0.69905581 0.73444367 0.73444367\n",
            "  0.69905581 0.63331324 0.54610814 0.44822088]\n",
            " [0.51979489 0.63331324 0.73444367 0.81068432 0.85172308 0.85172308\n",
            "  0.81068432 0.73444367 0.63331324 0.51979489]\n",
            " [0.57375342 0.69905581 0.81068432 0.89483932 0.9401382  0.9401382\n",
            "  0.89483932 0.81068432 0.69905581 0.57375342]\n",
            " [0.60279818 0.73444367 0.85172308 0.9401382  0.98773022 0.98773022\n",
            "  0.9401382  0.85172308 0.73444367 0.60279818]\n",
            " [0.60279818 0.73444367 0.85172308 0.9401382  0.98773022 0.98773022\n",
            "  0.9401382  0.85172308 0.73444367 0.60279818]\n",
            " [0.57375342 0.69905581 0.81068432 0.89483932 0.9401382  0.9401382\n",
            "  0.89483932 0.81068432 0.69905581 0.57375342]\n",
            " [0.51979489 0.63331324 0.73444367 0.81068432 0.85172308 0.85172308\n",
            "  0.81068432 0.73444367 0.63331324 0.51979489]\n",
            " [0.44822088 0.54610814 0.63331324 0.69905581 0.73444367 0.73444367\n",
            "  0.69905581 0.63331324 0.54610814 0.44822088]\n",
            " [0.36787944 0.44822088 0.51979489 0.57375342 0.60279818 0.60279818\n",
            "  0.57375342 0.51979489 0.44822088 0.36787944]]\n"
          ]
        }
      ],
      "source": [
        "X, Y = np.meshgrid(np.linspace(-1,1,10), np.linspace(-1,1,10))\n",
        "d = np.sqrt(X*X+Y*Y)\n",
        "b, c = 1.0, 0.0\n",
        "a = np.exp(-( (d-c)**2 / ( 2.0 * b**2 ) ) )\n",
        "print(a)"
      ]
    },
    {
      "cell_type": "markdown",
      "metadata": {
        "id": "1xbTYSfc_SXY"
      },
      "source": [
        "#### 57. How to randomly place p elements in a 2D array? (★★☆) \n",
        "(**hint**: np.put, np.random.choice)"
      ]
    },
    {
      "cell_type": "code",
      "execution_count": 36,
      "metadata": {
        "id": "QckI6myP_SXY",
        "colab": {
          "base_uri": "https://localhost:8080/"
        },
        "outputId": "9eb65d14-72e4-4c07-85d6-5f50c59f866c"
      },
      "outputs": [
        {
          "output_type": "stream",
          "name": "stdout",
          "text": [
            "[[0. 0. 0. 0. 0. 0. 0. 0. 0. 0.]\n",
            " [0. 0. 1. 0. 0. 0. 0. 1. 0. 0.]\n",
            " [1. 0. 0. 0. 0. 0. 0. 0. 0. 0.]\n",
            " [0. 0. 0. 0. 0. 0. 0. 0. 0. 0.]\n",
            " [0. 0. 0. 0. 0. 0. 0. 0. 0. 0.]\n",
            " [0. 0. 0. 0. 0. 0. 0. 0. 0. 0.]\n",
            " [0. 0. 0. 0. 0. 0. 0. 0. 0. 0.]\n",
            " [0. 0. 1. 0. 0. 0. 0. 0. 0. 0.]\n",
            " [0. 0. 0. 0. 0. 0. 0. 0. 0. 0.]\n",
            " [0. 0. 0. 0. 0. 1. 0. 0. 0. 0.]]\n"
          ]
        }
      ],
      "source": [
        "p = 5\n",
        "a = np.zeros((10,10))\n",
        "np.put(a, np.random.choice(range(10*10), p, replace=False),1)\n",
        "print(a)"
      ]
    },
    {
      "cell_type": "markdown",
      "metadata": {
        "id": "eGB3_K0f_SXY"
      },
      "source": [
        "#### 58. Subtract the mean of each row of a matrix (★★☆) \n",
        "(**hint**: mean(axis=,keepdims=))"
      ]
    },
    {
      "cell_type": "code",
      "execution_count": 37,
      "metadata": {
        "id": "RERM4gM7_SXY",
        "colab": {
          "base_uri": "https://localhost:8080/"
        },
        "outputId": "91149c76-4b90-4ec8-ceee-8da715dae413"
      },
      "outputs": [
        {
          "output_type": "stream",
          "name": "stdout",
          "text": [
            "[[-0.14850714  0.12041274  0.25580905  0.2817123  -0.51722843  0.37768327\n",
            "   0.08103929  0.30046541 -0.28606647 -0.46532002]\n",
            " [ 0.01606314  0.09154741 -0.18556747 -0.2410474  -0.16824454  0.26439418\n",
            "  -0.12930338  0.33711192 -0.2410348   0.25608094]\n",
            " [-0.50841623 -0.260695   -0.12108664  0.08855979  0.34974934  0.17678206\n",
            "  -0.09461401  0.13608368 -0.21095845  0.44459545]\n",
            " [ 0.28830294 -0.04052195 -0.08761175 -0.21381509 -0.1084435  -0.38058052\n",
            "   0.5135077   0.15948791 -0.18935451  0.05902878]\n",
            " [-0.13844383  0.25286566 -0.50947599  0.16281186 -0.00108294  0.10315591\n",
            "   0.26611422  0.33146867 -0.41543555 -0.05197802]]\n"
          ]
        }
      ],
      "source": [
        "X = np.random.rand(5, 10)\n",
        "\n",
        "Y = X - X.mean(axis=1, keepdims=True)\n",
        "print(Y)\n"
      ]
    },
    {
      "cell_type": "markdown",
      "metadata": {
        "id": "n0eT44qK_SXZ"
      },
      "source": [
        "#### 59. How to sort an array by the nth column? (★★☆) \n",
        "(**hint**: argsort)"
      ]
    },
    {
      "cell_type": "code",
      "execution_count": 38,
      "metadata": {
        "id": "mRLCznmo_SXZ",
        "colab": {
          "base_uri": "https://localhost:8080/"
        },
        "outputId": "1f4de81c-4446-487b-ba95-40ae11173cfe"
      },
      "outputs": [
        {
          "output_type": "stream",
          "name": "stdout",
          "text": [
            "[[6 9 1]\n",
            " [3 0 3]\n",
            " [5 0 2]]\n",
            "[[3 0 3]\n",
            " [5 0 2]\n",
            " [6 9 1]]\n"
          ]
        }
      ],
      "source": [
        "a = np.random.randint(0,10,(3,3))\n",
        "print(a)\n",
        "print(a[a[:,1].argsort()])"
      ]
    },
    {
      "cell_type": "markdown",
      "metadata": {
        "id": "r8jbYpzo_SXZ"
      },
      "source": [
        "#### 60. How to tell if a given 2D array has null columns? (★★☆) \n",
        "(**hint**: any, ~)"
      ]
    },
    {
      "cell_type": "code",
      "execution_count": 40,
      "metadata": {
        "id": "xAvh342n_SXZ",
        "colab": {
          "base_uri": "https://localhost:8080/"
        },
        "outputId": "640ddd67-4325-471d-c4d8-9b66b228a399"
      },
      "outputs": [
        {
          "output_type": "stream",
          "name": "stdout",
          "text": [
            "False\n"
          ]
        }
      ],
      "source": [
        "a = np.random.randint(0,5,(3,3))\n",
        "print((~a.any(axis=0)).any())"
      ]
    },
    {
      "cell_type": "markdown",
      "metadata": {
        "id": "m1mcJv6F_SXa"
      },
      "source": [
        "#### 61. Find the nearest value from a given value in an array (★★☆) \n",
        "(**hint**: np.abs, argmin, flat)"
      ]
    },
    {
      "cell_type": "code",
      "execution_count": 41,
      "metadata": {
        "id": "kdQrA2K3_SXa",
        "colab": {
          "base_uri": "https://localhost:8080/"
        },
        "outputId": "aa4abd28-063b-4b90-fffa-10341dd38c20"
      },
      "outputs": [
        {
          "output_type": "stream",
          "name": "stdout",
          "text": [
            "0.5083859331652912\n"
          ]
        }
      ],
      "source": [
        "a = np.random.uniform(0,1,10)\n",
        "b = 0.5\n",
        "C = a.flat[np.abs(a - b).argmin()]\n",
        "print(C)"
      ]
    },
    {
      "cell_type": "markdown",
      "metadata": {
        "id": "4zYtARo8_SXa"
      },
      "source": [
        "#### 62. Considering two arrays with shape (1,3) and (3,1), how to compute their sum using an iterator? (★★☆) \n",
        "(**hint**: np.nditer)"
      ]
    },
    {
      "cell_type": "code",
      "execution_count": 43,
      "metadata": {
        "id": "wjxg-JNV_SXa",
        "colab": {
          "base_uri": "https://localhost:8080/"
        },
        "outputId": "7813c890-e486-4de2-ee1b-96f05fca3ae7"
      },
      "outputs": [
        {
          "output_type": "stream",
          "name": "stdout",
          "text": [
            "[[0 1 2]\n",
            " [1 2 3]\n",
            " [2 3 4]]\n"
          ]
        }
      ],
      "source": [
        "A = np.arange(3).reshape(3,1)\n",
        "B = np.arange(3).reshape(1,3)\n",
        "c = np.nditer([A,B,None])\n",
        "for x,y,z in c: z[...] = x + y\n",
        "print(c.operands[2])"
      ]
    },
    {
      "cell_type": "markdown",
      "metadata": {
        "id": "I_AUm7O5_SXa"
      },
      "source": [
        "#### 63. Create an array class that has a name attribute (★★☆) \n",
        "(**hint**: class method)"
      ]
    },
    {
      "cell_type": "code",
      "execution_count": 44,
      "metadata": {
        "id": "T0Ri3AaL_SXb",
        "colab": {
          "base_uri": "https://localhost:8080/"
        },
        "outputId": "95d7f46f-d598-47f4-da8d-9fae1da385e3"
      },
      "outputs": [
        {
          "output_type": "stream",
          "name": "stdout",
          "text": [
            "range_10\n"
          ]
        }
      ],
      "source": [
        "class NamedArray(np.ndarray):\n",
        "    def __new__(cls, array, name=\"name1\"):\n",
        "        obj = np.asarray(array).view(cls)\n",
        "        obj.name = name\n",
        "        return obj\n",
        "    def __array_finalize__(self, obj):\n",
        "        if obj is None: return\n",
        "        self.info = getattr(obj, 'name', \"name1\")\n",
        "\n",
        "Z = NamedArray(np.arange(10), \"range_10\")\n",
        "print (Z.name)\n"
      ]
    },
    {
      "cell_type": "markdown",
      "metadata": {
        "id": "S0xiOuJF_SXb"
      },
      "source": [
        "#### 64. Consider a given vector, how to add 1 to each element indexed by a second vector (be careful with repeated indices)? (★★★) \n",
        "(**hint**: np.bincount | np.add.at)"
      ]
    },
    {
      "cell_type": "code",
      "execution_count": 45,
      "metadata": {
        "id": "4aNEN5vg_SXb",
        "colab": {
          "base_uri": "https://localhost:8080/"
        },
        "outputId": "e4f79303-138c-47d8-f087-8991ffd13959"
      },
      "outputs": [
        {
          "output_type": "stream",
          "name": "stdout",
          "text": [
            "[4. 5. 5. 2. 2. 2. 3. 2. 3. 2.]\n",
            "[7. 9. 9. 3. 3. 3. 5. 3. 5. 3.]\n"
          ]
        }
      ],
      "source": [
        "a = np.ones(10)\n",
        "b = np.random.randint(0,len(a),20)\n",
        "a += np.bincount(b, minlength=len(a))\n",
        "print(a)\n",
        "\n",
        "\n",
        "np.add.at(a, b, 1)\n",
        "print(a)"
      ]
    },
    {
      "cell_type": "markdown",
      "metadata": {
        "id": "UpPm8cKu_SXb"
      },
      "source": [
        "#### 65. How to accumulate elements of a vector (X) to an array (F) based on an index list (I)? (★★★) \n",
        "(**hint**: np.bincount)"
      ]
    },
    {
      "cell_type": "code",
      "execution_count": 46,
      "metadata": {
        "id": "O2qOd_pK_SXc",
        "colab": {
          "base_uri": "https://localhost:8080/"
        },
        "outputId": "25351a43-9268-4b21-8e17-a24c761b7fb6"
      },
      "outputs": [
        {
          "output_type": "stream",
          "name": "stdout",
          "text": [
            "[0. 7. 0. 6. 5. 0. 0. 0. 0. 3.]\n"
          ]
        }
      ],
      "source": [
        "X = [1,2,3,4,5,6]\n",
        "I = [1,3,9,3,4,1]\n",
        "F = np.bincount(I,X)\n",
        "print(F)"
      ]
    },
    {
      "cell_type": "markdown",
      "metadata": {
        "id": "1NanEL1F_SXc"
      },
      "source": [
        "#### 66. Considering a (w,h,3) image of (dtype=ubyte), compute the number of unique colors (★★★) \n",
        "(**hint**: np.unique)"
      ]
    },
    {
      "cell_type": "code",
      "execution_count": 47,
      "metadata": {
        "id": "xlwScK8c_SXc",
        "colab": {
          "base_uri": "https://localhost:8080/"
        },
        "outputId": "a99486e2-d24b-42d6-f4f0-71d1b43dd0a7"
      },
      "outputs": [
        {
          "output_type": "stream",
          "name": "stdout",
          "text": [
            "[0 1]\n"
          ]
        }
      ],
      "source": [
        "w,h = 16,16\n",
        "I = np.random.randint(0,2,(h,w,3)).astype(np.ubyte)\n",
        "F = I[...,0]*256*256 + I[...,1]*256 +I[...,2]\n",
        "n = len(np.unique(F))\n",
        "print(np.unique(I))"
      ]
    },
    {
      "cell_type": "markdown",
      "metadata": {
        "id": "XyGYKXXC_SXc"
      },
      "source": [
        "#### 67. Considering a four dimensions array, how to get sum over the last two axis at once? (★★★) \n",
        "(**hint**: sum(axis=(-2,-1)))"
      ]
    },
    {
      "cell_type": "code",
      "execution_count": 49,
      "metadata": {
        "id": "D_1YB5If_SXd",
        "colab": {
          "base_uri": "https://localhost:8080/"
        },
        "outputId": "507dfb00-7a96-494d-cfe2-89ebd45c2a5f"
      },
      "outputs": [
        {
          "output_type": "stream",
          "name": "stdout",
          "text": [
            "[[19 26 31 29]\n",
            " [31 24 27 23]\n",
            " [22 25 28 25]]\n"
          ]
        }
      ],
      "source": [
        "A = np.random.randint(0,5,(3,4,3,4))\n",
        "\n",
        "sum = A.sum(axis=(-2,-1))\n",
        "print(sum)"
      ]
    },
    {
      "cell_type": "markdown",
      "metadata": {
        "id": "B91PNcu2_SXd"
      },
      "source": [
        "#### 68. Considering a one-dimensional vector D, how to compute means of subsets of D using a vector S of same size describing subset  indices? (★★★) \n",
        "(**hint**: np.bincount)"
      ]
    },
    {
      "cell_type": "code",
      "execution_count": 50,
      "metadata": {
        "id": "P5QcW_tI_SXd",
        "colab": {
          "base_uri": "https://localhost:8080/"
        },
        "outputId": "7ddeb1bc-b5ae-40c5-b897-20eb8b05eb23"
      },
      "outputs": [
        {
          "output_type": "stream",
          "name": "stdout",
          "text": [
            "[0.54036425 0.46549498 0.41967594 0.64869315 0.40773075 0.58332214\n",
            " 0.47106483 0.51091928 0.45474113 0.33641941]\n"
          ]
        }
      ],
      "source": [
        "D = np.random.uniform(0,1,100)\n",
        "S = np.random.randint(0,10,100)\n",
        "D_sums = np.bincount(S, weights=D)\n",
        "D_counts = np.bincount(S)\n",
        "D_means = D_sums / D_counts\n",
        "print(D_means)"
      ]
    },
    {
      "cell_type": "markdown",
      "metadata": {
        "id": "45Se1Xkd_SXe"
      },
      "source": [
        "#### 69. How to get the diagonal of a dot product? (★★★) \n",
        "(**hint**: np.diag)"
      ]
    },
    {
      "cell_type": "code",
      "execution_count": 52,
      "metadata": {
        "id": "McSm1dKB_SXe",
        "colab": {
          "base_uri": "https://localhost:8080/"
        },
        "outputId": "49979f6b-cfe7-43d9-ee2c-b373e6abc918"
      },
      "outputs": [
        {
          "output_type": "execute_result",
          "data": {
            "text/plain": [
              "array([32.07886251, 35.63304053, 24.09796413, 54.54432863, 38.0335781 ])"
            ]
          },
          "metadata": {},
          "execution_count": 52
        }
      ],
      "source": [
        "A = np.random.uniform(0,5,(5,5))\n",
        "B = np.random.uniform(0,5,(5,5))\n",
        "\n",
        " \n",
        "np.diag(np.dot(A, B))"
      ]
    },
    {
      "cell_type": "markdown",
      "metadata": {
        "id": "3RbKC0X5_SXf"
      },
      "source": [
        "#### 70. Consider the vector \\[1, 2, 3, 4, 5\\], how to build a new vector with 3 consecutive zeros interleaved between each value? (★★★) \n",
        "(**hint**: array\\[::4\\])"
      ]
    },
    {
      "cell_type": "code",
      "execution_count": 53,
      "metadata": {
        "id": "ArPUNcD1_SXf",
        "colab": {
          "base_uri": "https://localhost:8080/"
        },
        "outputId": "feb9abc9-e38a-4504-b719-145ee4c2714f"
      },
      "outputs": [
        {
          "output_type": "stream",
          "name": "stdout",
          "text": [
            "[1. 0. 0. 0. 2. 0. 0. 0. 3. 0. 0. 0. 4. 0. 0. 0. 5.]\n"
          ]
        }
      ],
      "source": [
        "Z = np.array([1,2,3,4,5])\n",
        "nz = 3\n",
        "Z0 = np.zeros(len(Z) + (len(Z)-1)*(nz))\n",
        "Z0[::nz+1] = Z\n",
        "print(Z0)"
      ]
    },
    {
      "cell_type": "markdown",
      "metadata": {
        "id": "nAGi2RzQ_SXf"
      },
      "source": [
        "#### 71. Consider an array of dimension (5,5,3), how to mulitply it by an array with dimensions (5,5)? (★★★) \n",
        "(**hint**: array\\[:, :, None\\])"
      ]
    },
    {
      "cell_type": "code",
      "execution_count": 54,
      "metadata": {
        "collapsed": true,
        "id": "rDM52bly_SXf",
        "colab": {
          "base_uri": "https://localhost:8080/"
        },
        "outputId": "c8958f2c-013d-4ea5-9e3e-020ee599e093"
      },
      "outputs": [
        {
          "output_type": "stream",
          "name": "stdout",
          "text": [
            "[[[2. 2. 2.]\n",
            "  [2. 2. 2.]\n",
            "  [2. 2. 2.]\n",
            "  [2. 2. 2.]\n",
            "  [2. 2. 2.]]\n",
            "\n",
            " [[2. 2. 2.]\n",
            "  [2. 2. 2.]\n",
            "  [2. 2. 2.]\n",
            "  [2. 2. 2.]\n",
            "  [2. 2. 2.]]\n",
            "\n",
            " [[2. 2. 2.]\n",
            "  [2. 2. 2.]\n",
            "  [2. 2. 2.]\n",
            "  [2. 2. 2.]\n",
            "  [2. 2. 2.]]\n",
            "\n",
            " [[2. 2. 2.]\n",
            "  [2. 2. 2.]\n",
            "  [2. 2. 2.]\n",
            "  [2. 2. 2.]\n",
            "  [2. 2. 2.]]\n",
            "\n",
            " [[2. 2. 2.]\n",
            "  [2. 2. 2.]\n",
            "  [2. 2. 2.]\n",
            "  [2. 2. 2.]\n",
            "  [2. 2. 2.]]]\n"
          ]
        }
      ],
      "source": [
        "A = np.ones((5,5,3))\n",
        "B = 2*np.ones((5,5))\n",
        "print(A * B[:,:,None])"
      ]
    },
    {
      "cell_type": "markdown",
      "metadata": {
        "id": "A7587iFB_SXg"
      },
      "source": [
        "#### 72. How to swap two rows of an array? (★★★) \n",
        "(**hint**: array\\[\\[\\]\\] = array\\[\\[\\]\\])"
      ]
    },
    {
      "cell_type": "code",
      "execution_count": 60,
      "metadata": {
        "id": "bwYn0lqU_SXg",
        "colab": {
          "base_uri": "https://localhost:8080/"
        },
        "outputId": "424dac1a-92e1-499e-8729-dda1d8ed911c"
      },
      "outputs": [
        {
          "output_type": "stream",
          "name": "stdout",
          "text": [
            "[[ 4  5  6  7]\n",
            " [ 0  1  2  3]\n",
            " [ 8  9 10 11]\n",
            " [12 13 14 15]]\n"
          ]
        }
      ],
      "source": [
        "A = np.arange(16).reshape(4,4)\n",
        "A[[0,1]] = A[[1,0]]\n",
        "print(A)"
      ]
    },
    {
      "cell_type": "markdown",
      "metadata": {
        "id": "UrT2ltFQ_SXh"
      },
      "source": [
        "#### 73. Consider a set of 10 triplets describing 10 triangles (with shared vertices), find the set of unique line segments composing all the  triangles (★★★) \n",
        "(**hint**: repeat, np.roll, np.sort, view, np.unique)"
      ]
    },
    {
      "cell_type": "code",
      "execution_count": 64,
      "metadata": {
        "id": "zFpOcvWF_SXh",
        "colab": {
          "base_uri": "https://localhost:8080/"
        },
        "outputId": "377e39b3-5530-4534-858b-16994a44c1b1"
      },
      "outputs": [
        {
          "output_type": "stream",
          "name": "stdout",
          "text": [
            "[( 4, 10) ( 4, 29) ( 9, 21) ( 9, 27) ( 9, 39) ( 9, 45) (10, 29) (11, 23)\n",
            " (11, 44) (17, 29) (17, 42) (18, 26) (18, 27) (21, 39) (23, 26) (23, 40)\n",
            " (23, 44) (26, 27) (26, 40) (27, 45) (29, 32) (29, 34) (29, 35) (29, 37)\n",
            " (29, 42) (32, 37) (33, 36) (33, 42) (34, 35) (36, 42)]\n"
          ]
        }
      ],
      "source": [
        "A = np.random.randint(0,50,(10,3))\n",
        "F = np.roll(A.repeat(2,axis=1),-1,axis=1)\n",
        "F = F.reshape(len(F)*3,2)\n",
        "F = np.sort(F,axis=1)\n",
        "G = F.view( dtype=[('p0',F.dtype),('p1',F.dtype)] )\n",
        "G = np.unique(G)\n",
        "print(G)"
      ]
    },
    {
      "cell_type": "markdown",
      "metadata": {
        "id": "xKu5uqku_SXi"
      },
      "source": [
        "#### 74. Given an array C that is a bincount, how to produce an array A such that np.bincount(A) == C? (★★★) \n",
        "(**hint**: np.repeat)"
      ]
    },
    {
      "cell_type": "code",
      "execution_count": 67,
      "metadata": {
        "id": "fauTRKHj_SXi",
        "colab": {
          "base_uri": "https://localhost:8080/"
        },
        "outputId": "5b2a657d-1f37-487a-c3bd-3aec14257558"
      },
      "outputs": [
        {
          "output_type": "stream",
          "name": "stdout",
          "text": [
            "[1 1 2 3 4 4 6]\n"
          ]
        }
      ],
      "source": [
        "C = np.bincount([1,1,2,3,4,4,6])\n",
        "A = np.repeat(np.arange(len(C)), C)\n",
        "print(A)"
      ]
    },
    {
      "cell_type": "markdown",
      "metadata": {
        "id": "cSFRTTrS_SXi"
      },
      "source": [
        "#### 75. How to compute averages using a sliding window over an array? (★★★) \n",
        "(**hint**: np.cumsum)"
      ]
    },
    {
      "cell_type": "code",
      "execution_count": 68,
      "metadata": {
        "id": "JO_QPen9_SXj",
        "colab": {
          "base_uri": "https://localhost:8080/"
        },
        "outputId": "f2d2a896-e7d9-43e6-f420-c7b2a88af8f1"
      },
      "outputs": [
        {
          "output_type": "stream",
          "name": "stdout",
          "text": [
            "[ 1.  2.  3.  4.  5.  6.  7.  8.  9. 10. 11. 12. 13. 14. 15. 16. 17. 18.]\n"
          ]
        }
      ],
      "source": [
        "def moving_average(a, n=3) :\n",
        "    ret = np.cumsum(a, dtype=float)\n",
        "    ret[n:] = ret[n:] - ret[:-n]\n",
        "    return ret[n - 1:] / n\n",
        "Z = np.arange(20)\n",
        "print(moving_average(Z, n=3))"
      ]
    },
    {
      "cell_type": "markdown",
      "metadata": {
        "id": "LweyYfch_SXj"
      },
      "source": [
        "#### 76. Consider a one-dimensional array Z, build a two-dimensional array whose first row is (Z\\[0\\],Z\\[1\\],Z\\[2\\]) and each subsequent row is  shifted by 1 (last row should be (Z\\[-3\\],Z\\[-2\\],Z\\[-1\\]) (★★★) \n",
        "(**hint**: from numpy.lib import stride_tricks)"
      ]
    },
    {
      "cell_type": "code",
      "execution_count": 69,
      "metadata": {
        "id": "fComWQPG_SXj",
        "colab": {
          "base_uri": "https://localhost:8080/"
        },
        "outputId": "99926956-5d70-409b-c4f8-b953fb0e52ea"
      },
      "outputs": [
        {
          "output_type": "stream",
          "name": "stdout",
          "text": [
            "[[0 1 2]\n",
            " [1 2 3]\n",
            " [2 3 4]\n",
            " [3 4 5]\n",
            " [4 5 6]\n",
            " [5 6 7]\n",
            " [6 7 8]\n",
            " [7 8 9]]\n"
          ]
        }
      ],
      "source": [
        "from numpy.lib import stride_tricks\n",
        "\n",
        "def rolling(a, window):\n",
        "    shape = (a.size - window + 1, window)\n",
        "    strides = (a.itemsize, a.itemsize)\n",
        "    return stride_tricks.as_strided(a, shape=shape, strides=strides)\n",
        "Z = rolling(np.arange(10), 3)\n",
        "print(Z)"
      ]
    },
    {
      "cell_type": "markdown",
      "metadata": {
        "id": "OM9j6pKF_SXj"
      },
      "source": [
        "#### 77. How to negate a boolean, or to change the sign of a float inplace? (★★★) \n",
        "(**hint**: np.logical_not, np.negative)"
      ]
    },
    {
      "cell_type": "code",
      "execution_count": 70,
      "metadata": {
        "id": "Wu12eOIo_SXk",
        "colab": {
          "base_uri": "https://localhost:8080/"
        },
        "outputId": "a2d777a7-9f86-4725-c17f-227812b04b9b"
      },
      "outputs": [
        {
          "output_type": "execute_result",
          "data": {
            "text/plain": [
              "array([ 0.67494488,  0.20328767, -0.25113471, -0.23240895, -0.60626874,\n",
              "       -0.89045545,  0.42741136,  0.15778413,  0.81797132,  0.0530391 ,\n",
              "       -0.96413252, -0.69295846, -0.55679188, -0.95635285, -0.6879333 ,\n",
              "        0.29111643, -0.81841214, -0.25690055,  0.67634027,  0.80960788,\n",
              "       -0.7625202 ,  0.20442185, -0.4086693 , -0.3865257 ,  0.33735862,\n",
              "       -0.5218957 ,  0.62374967, -0.65875108, -0.60076853,  0.62682934,\n",
              "        0.80526483, -0.37336596, -0.3134872 , -0.05253972, -0.48709406,\n",
              "       -0.04876096,  0.91107951,  0.4354991 , -0.45218393,  0.82547735,\n",
              "        0.48035891, -0.83683726, -0.4176713 ,  0.78110881, -0.60969708,\n",
              "        0.15926609,  0.1904199 , -0.61530229, -0.11953203,  0.52047931,\n",
              "        0.92980532, -0.00304217,  0.59146246, -0.65383174,  0.63772761,\n",
              "        0.43141337, -0.83812273,  0.19005574, -0.74906673, -0.262419  ,\n",
              "        0.12803703, -0.50496778,  0.47688119,  0.72893159, -0.32740969,\n",
              "       -0.83533668, -0.8465875 , -0.0665336 , -0.28553303,  0.68689094,\n",
              "       -0.49544351,  0.67093334, -0.62278386,  0.33198408,  0.99407449,\n",
              "       -0.40479995, -0.86457735, -0.34081625,  0.35813067, -0.77924579,\n",
              "       -0.11891371,  0.40380994, -0.03689277,  0.35325531, -0.00488308,\n",
              "        0.68662367, -0.6837019 , -0.08199705,  0.44846005,  0.06962347,\n",
              "        0.39246454,  0.43674142, -0.80001167, -0.99108903, -0.73167152,\n",
              "        0.96252115,  0.12431358,  0.87743529,  0.33190514, -0.49559086])"
            ]
          },
          "metadata": {},
          "execution_count": 70
        }
      ],
      "source": [
        "Z = np.random.randint(0,2,100)\n",
        "np.logical_not(Z, out=Z)\n",
        "\n",
        "Z = np.random.uniform(-1.0,1.0,100)\n",
        "np.negative(Z, out=Z)"
      ]
    },
    {
      "cell_type": "markdown",
      "metadata": {
        "id": "a3RVncpQ_SXk"
      },
      "source": [
        "#### 78. Consider 2 sets of points P0,P1 describing lines (2d) and a point p, how to compute distance from p to each line i  (P0\\[i\\],P1\\[i\\])? (★★★)"
      ]
    },
    {
      "cell_type": "code",
      "execution_count": 71,
      "metadata": {
        "id": "i-VqLd68_SXk",
        "colab": {
          "base_uri": "https://localhost:8080/"
        },
        "outputId": "64917815-5ae6-4add-9332-bf61a718d49d"
      },
      "outputs": [
        {
          "output_type": "stream",
          "name": "stdout",
          "text": [
            "[10.20947063  1.16433084  4.79407405  7.81633025  9.95621138  0.2332293\n",
            "  0.11352828 14.81780612  8.77505725  5.23437322]\n"
          ]
        }
      ],
      "source": [
        "def distance(P0, P1, p):\n",
        "    T = P1 - P0\n",
        "    L = (T**2).sum(axis=1)\n",
        "    U = -((P0[:,0]-p[...,0])*T[:,0] + (P0[:,1]-p[...,1])*T[:,1]) / L\n",
        "    U = U.reshape(len(U),1)\n",
        "    D = P0 + U*T - p\n",
        "    return np.sqrt((D**2).sum(axis=1))\n",
        "\n",
        "P0 = np.random.uniform(-10,10,(10,2))\n",
        "P1 = np.random.uniform(-10,10,(10,2))\n",
        "p  = np.random.uniform(-10,10,( 1,2))\n",
        "print(distance(P0, P1, p))"
      ]
    },
    {
      "cell_type": "markdown",
      "metadata": {
        "id": "qqjkhnHE_SXl"
      },
      "source": [
        "#### 79. Consider 2 sets of points P0,P1 describing lines (2d) and a set of points P, how to compute distance from each point j (P\\[j\\]) to each line i (P0\\[i\\],P1\\[i\\])? (★★★)"
      ]
    },
    {
      "cell_type": "code",
      "execution_count": 72,
      "metadata": {
        "id": "dRTh3Wb__SXl",
        "colab": {
          "base_uri": "https://localhost:8080/"
        },
        "outputId": "7f088e01-ddf8-4160-89c0-72e7fd0bae86"
      },
      "outputs": [
        {
          "output_type": "stream",
          "name": "stdout",
          "text": [
            "[[8.13616089e+00 6.55789364e-01 2.70520090e+00 3.63532112e+00\n",
            "  3.00595486e+00 1.95764684e+00 8.30302737e+00 1.79461934e+00\n",
            "  4.64141191e+00 5.89898181e+00]\n",
            " [7.10422741e+00 9.99657528e+00 7.38960102e+00 9.72318775e+00\n",
            "  1.40367892e+01 8.57296187e+00 1.88593201e+01 1.04585076e+01\n",
            "  1.17479230e+00 1.05730603e+01]\n",
            " [7.65168368e+00 4.20482150e+00 3.48984209e-01 1.61499854e+00\n",
            "  2.03642773e+00 6.55214573e+00 3.10531654e+00 2.83443726e+00\n",
            "  8.16813191e+00 2.84917234e+00]\n",
            " [1.86003532e+01 1.38172899e+01 1.64999768e+01 1.17651144e+00\n",
            "  1.04084970e+01 2.55135596e+00 1.97304644e+01 1.54104121e+01\n",
            "  9.38979818e+00 1.96908278e+01]\n",
            " [7.04006506e+00 9.50254536e+00 7.07016878e+00 9.53460590e+00\n",
            "  1.35344749e+01 8.11891024e+00 1.83353425e+01 9.98625002e+00\n",
            "  8.09032327e-01 1.02540583e+01]\n",
            " [7.29241070e+00 6.74882628e-01 2.20673002e+00 4.59332958e+00\n",
            "  3.60335402e+00 1.20670835e+00 8.56800817e+00 1.71289427e+00\n",
            "  5.04164762e+00 5.39966970e+00]\n",
            " [1.59996279e+01 2.79819357e+00 8.66917250e+00 4.06870127e+00\n",
            "  3.48323607e-03 6.56238998e+00 8.38165266e+00 4.73875344e+00\n",
            "  6.58977406e-01 1.18684792e+01]\n",
            " [1.32845061e+00 7.77365521e+00 2.64008985e+00 1.50392547e+01\n",
            "  1.55243338e+01 1.12853327e+01 1.80885129e+01 7.68528930e+00\n",
            "  3.15781251e+00 5.82013801e+00]\n",
            " [3.90393842e+00 2.82401695e+00 1.38243079e+00 9.53415691e+00\n",
            "  8.29353886e+00 3.94705286e+00 1.19080907e+01 3.33401095e+00\n",
            "  5.24641655e+00 4.56992515e+00]\n",
            " [1.82381166e-01 3.66438208e+00 3.86556860e-01 1.41586470e+01\n",
            "  1.17644126e+01 8.03931270e+00 1.39072384e+01 3.68476677e+00\n",
            "  6.50001452e+00 2.79647291e+00]]\n"
          ]
        }
      ],
      "source": [
        "P0 = np.random.uniform(-10, 10, (10,2))\n",
        "P1 = np.random.uniform(-10,10,(10,2))\n",
        "p = np.random.uniform(-10, 10, (10,2))\n",
        "print(np.array([distance(P0,P1,p_i) for p_i in p]))"
      ]
    },
    {
      "cell_type": "markdown",
      "metadata": {
        "id": "r4YhOk-N_SXl"
      },
      "source": [
        "#### 80. Consider an arbitrary array, write a function that extract a subpart with a fixed shape and centered on a given element (pad with a `fill` value when necessary) (★★★) \n",
        "(**hint**: minimum, maximum)"
      ]
    },
    {
      "cell_type": "code",
      "execution_count": 73,
      "metadata": {
        "id": "YsLiBerg_SXm",
        "colab": {
          "base_uri": "https://localhost:8080/"
        },
        "outputId": "ba34faee-0fd0-4f1f-a5bb-f65e214af123"
      },
      "outputs": [
        {
          "output_type": "stream",
          "name": "stdout",
          "text": [
            "[[9 1 1 3 0 8 7 1 1 9]\n",
            " [0 7 8 3 9 3 8 4 1 0]\n",
            " [2 6 2 6 1 1 4 2 1 4]\n",
            " [3 0 3 1 9 1 0 2 4 6]\n",
            " [2 5 6 3 3 6 2 9 1 3]\n",
            " [0 9 2 8 4 2 5 8 8 1]\n",
            " [9 8 5 7 2 7 1 7 6 6]\n",
            " [8 4 0 8 6 7 8 6 0 4]\n",
            " [4 3 9 6 7 8 0 4 7 4]\n",
            " [1 8 9 5 3 1 3 1 0 2]]\n",
            "[[0 0 0 0 0]\n",
            " [0 9 1 1 3]\n",
            " [0 0 7 8 3]\n",
            " [0 2 6 2 6]\n",
            " [0 3 0 3 1]]\n"
          ]
        },
        {
          "output_type": "stream",
          "name": "stderr",
          "text": [
            "/usr/local/lib/python3.7/dist-packages/ipykernel_launcher.py:23: FutureWarning: Using a non-tuple sequence for multidimensional indexing is deprecated; use `arr[tuple(seq)]` instead of `arr[seq]`. In the future this will be interpreted as an array index, `arr[np.array(seq)]`, which will result either in an error or a different result.\n"
          ]
        }
      ],
      "source": [
        "Z = np.random.randint(0,10,(10,10))\n",
        "shape = (5,5)\n",
        "fill  = 0\n",
        "position = (1,1)\n",
        "\n",
        "R = np.ones(shape, dtype=Z.dtype)*fill\n",
        "P  = np.array(list(position)).astype(int)\n",
        "Rs = np.array(list(R.shape)).astype(int)\n",
        "Zs = np.array(list(Z.shape)).astype(int)\n",
        "\n",
        "R_start = np.zeros((len(shape),)).astype(int)\n",
        "R_stop  = np.array(list(shape)).astype(int)\n",
        "Z_start = (P-Rs//2)\n",
        "Z_stop  = (P+Rs//2)+Rs%2\n",
        "\n",
        "R_start = (R_start - np.minimum(Z_start,0)).tolist()\n",
        "Z_start = (np.maximum(Z_start,0)).tolist()\n",
        "R_stop = np.maximum(R_start, (R_stop - np.maximum(Z_stop-Zs,0))).tolist()\n",
        "Z_stop = (np.minimum(Z_stop,Zs)).tolist()\n",
        "\n",
        "r = [slice(start,stop) for start,stop in zip(R_start,R_stop)]\n",
        "z = [slice(start,stop) for start,stop in zip(Z_start,Z_stop)]\n",
        "R[r] = Z[z]\n",
        "print(Z)\n",
        "print(R)"
      ]
    },
    {
      "cell_type": "markdown",
      "metadata": {
        "id": "zUtDp_OW_SXm"
      },
      "source": [
        "#### 81. Consider an array Z = \\[1,2,3,4,5,6,7,8,9,10,11,12,13,14\\], how to generate an array R = \\[\\[1,2,3,4\\], \\[2,3,4,5\\], \\[3,4,5,6\\], ..., \\[11,12,13,14\\]\\]? (★★★) \n",
        "(**hint**: stride\\_tricks.as\\_strided)"
      ]
    },
    {
      "cell_type": "code",
      "execution_count": 74,
      "metadata": {
        "id": "BpEDqdGH_SXn",
        "colab": {
          "base_uri": "https://localhost:8080/"
        },
        "outputId": "e28952ea-ae3c-411c-c2dc-b93ee1ce5e42"
      },
      "outputs": [
        {
          "output_type": "stream",
          "name": "stdout",
          "text": [
            "[[ 1  2  3  4]\n",
            " [ 2  3  4  5]\n",
            " [ 3  4  5  6]\n",
            " [ 4  5  6  7]\n",
            " [ 5  6  7  8]\n",
            " [ 6  7  8  9]\n",
            " [ 7  8  9 10]\n",
            " [ 8  9 10 11]\n",
            " [ 9 10 11 12]\n",
            " [10 11 12 13]\n",
            " [11 12 13 14]]\n"
          ]
        }
      ],
      "source": [
        "Z = np.arange(1,15,dtype=np.uint32)\n",
        "R = stride_tricks.as_strided(Z,(11,4),(4,4))\n",
        "print(R)"
      ]
    },
    {
      "cell_type": "markdown",
      "metadata": {
        "id": "-v5JJbiV_SXn"
      },
      "source": [
        "#### 82. Compute a matrix rank (★★★) \n",
        "(**hint**: np.linalg.svd) (suggestion: np.linalg.svd)"
      ]
    },
    {
      "cell_type": "code",
      "execution_count": 75,
      "metadata": {
        "id": "Tahohp-P_SXo",
        "colab": {
          "base_uri": "https://localhost:8080/"
        },
        "outputId": "ef7b3faa-b42f-47b6-d51b-f2ee60116077"
      },
      "outputs": [
        {
          "output_type": "stream",
          "name": "stdout",
          "text": [
            "10\n"
          ]
        }
      ],
      "source": [
        "Z = np.random.uniform(0,1,(10,10))\n",
        "U, S, V = np.linalg.svd(Z) # svd = Singular Value Decomposition\n",
        "rank = np.sum(S > 1e-10)\n",
        "print(rank)"
      ]
    },
    {
      "cell_type": "markdown",
      "metadata": {
        "id": "RYpDa-6v_SXo"
      },
      "source": [
        "#### 83. How to find the most frequent value in an array? \n",
        "(**hint**: np.bincount, argmax)"
      ]
    },
    {
      "cell_type": "code",
      "execution_count": 78,
      "metadata": {
        "id": "2z-WxG9s_SXo",
        "colab": {
          "base_uri": "https://localhost:8080/"
        },
        "outputId": "b9f9125b-51d1-4057-f93e-3948f90b81e5"
      },
      "outputs": [
        {
          "output_type": "stream",
          "name": "stdout",
          "text": [
            "1\n"
          ]
        }
      ],
      "source": [
        "Z = np.random.randint(0,10,30)\n",
        "print(np.bincount(Z).argmax())"
      ]
    },
    {
      "cell_type": "markdown",
      "metadata": {
        "id": "lCZRpKox_SXp"
      },
      "source": [
        "#### 84. Extract all the contiguous 3x3 blocks from a random 10x10 matrix (★★★) \n",
        "(**hint**: stride\\_tricks.as\\_strided)"
      ]
    },
    {
      "cell_type": "code",
      "execution_count": 79,
      "metadata": {
        "id": "Dt46_suG_SXp",
        "colab": {
          "base_uri": "https://localhost:8080/"
        },
        "outputId": "4296c9de-2069-4423-cbcd-9efe176e695a"
      },
      "outputs": [
        {
          "output_type": "stream",
          "name": "stdout",
          "text": [
            "[[[[3 4 3]\n",
            "   [4 0 4]\n",
            "   [4 0 2]]\n",
            "\n",
            "  [[4 3 3]\n",
            "   [0 4 2]\n",
            "   [0 2 3]]\n",
            "\n",
            "  [[3 3 4]\n",
            "   [4 2 0]\n",
            "   [2 3 2]]\n",
            "\n",
            "  [[3 4 0]\n",
            "   [2 0 1]\n",
            "   [3 2 3]]\n",
            "\n",
            "  [[4 0 0]\n",
            "   [0 1 2]\n",
            "   [2 3 4]]\n",
            "\n",
            "  [[0 0 2]\n",
            "   [1 2 2]\n",
            "   [3 4 0]]\n",
            "\n",
            "  [[0 2 2]\n",
            "   [2 2 0]\n",
            "   [4 0 4]]\n",
            "\n",
            "  [[2 2 2]\n",
            "   [2 0 1]\n",
            "   [0 4 3]]]\n",
            "\n",
            "\n",
            " [[[4 0 4]\n",
            "   [4 0 2]\n",
            "   [3 0 4]]\n",
            "\n",
            "  [[0 4 2]\n",
            "   [0 2 3]\n",
            "   [0 4 1]]\n",
            "\n",
            "  [[4 2 0]\n",
            "   [2 3 2]\n",
            "   [4 1 3]]\n",
            "\n",
            "  [[2 0 1]\n",
            "   [3 2 3]\n",
            "   [1 3 0]]\n",
            "\n",
            "  [[0 1 2]\n",
            "   [2 3 4]\n",
            "   [3 0 3]]\n",
            "\n",
            "  [[1 2 2]\n",
            "   [3 4 0]\n",
            "   [0 3 2]]\n",
            "\n",
            "  [[2 2 0]\n",
            "   [4 0 4]\n",
            "   [3 2 2]]\n",
            "\n",
            "  [[2 0 1]\n",
            "   [0 4 3]\n",
            "   [2 2 4]]]\n",
            "\n",
            "\n",
            " [[[4 0 2]\n",
            "   [3 0 4]\n",
            "   [1 1 2]]\n",
            "\n",
            "  [[0 2 3]\n",
            "   [0 4 1]\n",
            "   [1 2 0]]\n",
            "\n",
            "  [[2 3 2]\n",
            "   [4 1 3]\n",
            "   [2 0 0]]\n",
            "\n",
            "  [[3 2 3]\n",
            "   [1 3 0]\n",
            "   [0 0 4]]\n",
            "\n",
            "  [[2 3 4]\n",
            "   [3 0 3]\n",
            "   [0 4 1]]\n",
            "\n",
            "  [[3 4 0]\n",
            "   [0 3 2]\n",
            "   [4 1 4]]\n",
            "\n",
            "  [[4 0 4]\n",
            "   [3 2 2]\n",
            "   [1 4 3]]\n",
            "\n",
            "  [[0 4 3]\n",
            "   [2 2 4]\n",
            "   [4 3 1]]]\n",
            "\n",
            "\n",
            " [[[3 0 4]\n",
            "   [1 1 2]\n",
            "   [1 4 2]]\n",
            "\n",
            "  [[0 4 1]\n",
            "   [1 2 0]\n",
            "   [4 2 1]]\n",
            "\n",
            "  [[4 1 3]\n",
            "   [2 0 0]\n",
            "   [2 1 3]]\n",
            "\n",
            "  [[1 3 0]\n",
            "   [0 0 4]\n",
            "   [1 3 2]]\n",
            "\n",
            "  [[3 0 3]\n",
            "   [0 4 1]\n",
            "   [3 2 4]]\n",
            "\n",
            "  [[0 3 2]\n",
            "   [4 1 4]\n",
            "   [2 4 1]]\n",
            "\n",
            "  [[3 2 2]\n",
            "   [1 4 3]\n",
            "   [4 1 1]]\n",
            "\n",
            "  [[2 2 4]\n",
            "   [4 3 1]\n",
            "   [1 1 3]]]\n",
            "\n",
            "\n",
            " [[[1 1 2]\n",
            "   [1 4 2]\n",
            "   [2 4 4]]\n",
            "\n",
            "  [[1 2 0]\n",
            "   [4 2 1]\n",
            "   [4 4 1]]\n",
            "\n",
            "  [[2 0 0]\n",
            "   [2 1 3]\n",
            "   [4 1 0]]\n",
            "\n",
            "  [[0 0 4]\n",
            "   [1 3 2]\n",
            "   [1 0 0]]\n",
            "\n",
            "  [[0 4 1]\n",
            "   [3 2 4]\n",
            "   [0 0 4]]\n",
            "\n",
            "  [[4 1 4]\n",
            "   [2 4 1]\n",
            "   [0 4 1]]\n",
            "\n",
            "  [[1 4 3]\n",
            "   [4 1 1]\n",
            "   [4 1 1]]\n",
            "\n",
            "  [[4 3 1]\n",
            "   [1 1 3]\n",
            "   [1 1 3]]]\n",
            "\n",
            "\n",
            " [[[1 4 2]\n",
            "   [2 4 4]\n",
            "   [3 1 0]]\n",
            "\n",
            "  [[4 2 1]\n",
            "   [4 4 1]\n",
            "   [1 0 2]]\n",
            "\n",
            "  [[2 1 3]\n",
            "   [4 1 0]\n",
            "   [0 2 4]]\n",
            "\n",
            "  [[1 3 2]\n",
            "   [1 0 0]\n",
            "   [2 4 0]]\n",
            "\n",
            "  [[3 2 4]\n",
            "   [0 0 4]\n",
            "   [4 0 4]]\n",
            "\n",
            "  [[2 4 1]\n",
            "   [0 4 1]\n",
            "   [0 4 3]]\n",
            "\n",
            "  [[4 1 1]\n",
            "   [4 1 1]\n",
            "   [4 3 4]]\n",
            "\n",
            "  [[1 1 3]\n",
            "   [1 1 3]\n",
            "   [3 4 1]]]\n",
            "\n",
            "\n",
            " [[[2 4 4]\n",
            "   [3 1 0]\n",
            "   [2 2 0]]\n",
            "\n",
            "  [[4 4 1]\n",
            "   [1 0 2]\n",
            "   [2 0 3]]\n",
            "\n",
            "  [[4 1 0]\n",
            "   [0 2 4]\n",
            "   [0 3 1]]\n",
            "\n",
            "  [[1 0 0]\n",
            "   [2 4 0]\n",
            "   [3 1 4]]\n",
            "\n",
            "  [[0 0 4]\n",
            "   [4 0 4]\n",
            "   [1 4 2]]\n",
            "\n",
            "  [[0 4 1]\n",
            "   [0 4 3]\n",
            "   [4 2 4]]\n",
            "\n",
            "  [[4 1 1]\n",
            "   [4 3 4]\n",
            "   [2 4 3]]\n",
            "\n",
            "  [[1 1 3]\n",
            "   [3 4 1]\n",
            "   [4 3 3]]]\n",
            "\n",
            "\n",
            " [[[3 1 0]\n",
            "   [2 2 0]\n",
            "   [4 2 2]]\n",
            "\n",
            "  [[1 0 2]\n",
            "   [2 0 3]\n",
            "   [2 2 2]]\n",
            "\n",
            "  [[0 2 4]\n",
            "   [0 3 1]\n",
            "   [2 2 4]]\n",
            "\n",
            "  [[2 4 0]\n",
            "   [3 1 4]\n",
            "   [2 4 0]]\n",
            "\n",
            "  [[4 0 4]\n",
            "   [1 4 2]\n",
            "   [4 0 3]]\n",
            "\n",
            "  [[0 4 3]\n",
            "   [4 2 4]\n",
            "   [0 3 0]]\n",
            "\n",
            "  [[4 3 4]\n",
            "   [2 4 3]\n",
            "   [3 0 1]]\n",
            "\n",
            "  [[3 4 1]\n",
            "   [4 3 3]\n",
            "   [0 1 3]]]]\n"
          ]
        }
      ],
      "source": [
        "Z = np.random.randint(0,5,(10,10))\n",
        "n = 3\n",
        "i = 1 + (Z.shape[0]-3)\n",
        "j = 1 + (Z.shape[1]-3)\n",
        "C = stride_tricks.as_strided(Z, shape=(i, j, n, n), strides=Z.strides + Z.strides)\n",
        "print(C)"
      ]
    },
    {
      "cell_type": "markdown",
      "metadata": {
        "id": "C13eYCl4_SXw"
      },
      "source": [
        "#### 85. Create a 2D array subclass such that Z\\[i,j\\] == Z\\[j,i\\] (★★★) \n",
        "(**hint**: class method)"
      ]
    },
    {
      "cell_type": "code",
      "execution_count": 80,
      "metadata": {
        "id": "aQEx3jAP_SXw",
        "colab": {
          "base_uri": "https://localhost:8080/"
        },
        "outputId": "92f14b78-ea85-4680-8027-54b3d70604be"
      },
      "outputs": [
        {
          "output_type": "stream",
          "name": "stdout",
          "text": [
            "[[ 3 15  3  5  9]\n",
            " [15  1  2 13  3]\n",
            " [ 3  2  7 42  3]\n",
            " [ 5 13 42  8 13]\n",
            " [ 9  3  3 13  9]]\n"
          ]
        }
      ],
      "source": [
        "class Symetric(np.ndarray):\n",
        "    def __setitem__(self, index, value):\n",
        "        i,j = index\n",
        "        super(Symetric, self).__setitem__((i,j), value)\n",
        "        super(Symetric, self).__setitem__((j,i), value)\n",
        "\n",
        "def symetric(Z):\n",
        "    return np.asarray(Z + Z.T - np.diag(Z.diagonal())).view(Symetric)\n",
        "\n",
        "S = symetric(np.random.randint(0,10,(5,5)))\n",
        "S[2,3] = 42\n",
        "print(S)"
      ]
    },
    {
      "cell_type": "markdown",
      "metadata": {
        "id": "HNJ4KAzF_SXw"
      },
      "source": [
        "#### 86. Consider a set of p matrices wich shape (n,n) and a set of p vectors with shape (n,1). How to compute the sum of of the p matrix products at once? (result has shape (n,1)) (★★★) \n",
        "(**hint**: np.tensordot)"
      ]
    },
    {
      "cell_type": "code",
      "execution_count": 81,
      "metadata": {
        "id": "8h3oCfWz_SXx",
        "colab": {
          "base_uri": "https://localhost:8080/"
        },
        "outputId": "7dafc116-7003-4b92-b30b-3694a9eddafb"
      },
      "outputs": [
        {
          "output_type": "stream",
          "name": "stdout",
          "text": [
            "[[200.]\n",
            " [200.]\n",
            " [200.]\n",
            " [200.]\n",
            " [200.]\n",
            " [200.]\n",
            " [200.]\n",
            " [200.]\n",
            " [200.]\n",
            " [200.]\n",
            " [200.]\n",
            " [200.]\n",
            " [200.]\n",
            " [200.]\n",
            " [200.]\n",
            " [200.]\n",
            " [200.]\n",
            " [200.]\n",
            " [200.]\n",
            " [200.]]\n"
          ]
        }
      ],
      "source": [
        "p, n = 10, 20\n",
        "M = np.ones((p,n,n))\n",
        "V = np.ones((p,n,1))\n",
        "S = np.tensordot(M, V, axes=[[0, 2], [0, 1]])\n",
        "print(S)"
      ]
    },
    {
      "cell_type": "markdown",
      "metadata": {
        "id": "kYZF9Nz5_SXx"
      },
      "source": [
        "#### 87. Consider a 16x16 array, how to get the block-sum (block size is 4x4)? (★★★) \n",
        "(**hint**: np.add.reduceat)"
      ]
    },
    {
      "cell_type": "code",
      "execution_count": 83,
      "metadata": {
        "id": "rlt_2RS1_SXx",
        "colab": {
          "base_uri": "https://localhost:8080/"
        },
        "outputId": "7809e540-3268-4f36-ceaf-a5ed789a8b5c"
      },
      "outputs": [
        {
          "output_type": "stream",
          "name": "stdout",
          "text": [
            "[[16. 16. 16. 16.]\n",
            " [16. 16. 16. 16.]\n",
            " [16. 16. 16. 16.]\n",
            " [16. 16. 16. 16.]]\n"
          ]
        }
      ],
      "source": [
        "Z = np.ones((16,16))\n",
        "k = 4\n",
        "S = np.add.reduceat(np.add.reduceat(Z, np.arange(0, Z.shape[0], k), axis=0),\n",
        "                                       np.arange(0, Z.shape[1], k), axis=1)\n",
        "print(S)"
      ]
    },
    {
      "cell_type": "markdown",
      "metadata": {
        "id": "-WpYtLUY_SXy"
      },
      "source": [
        "#### 88. How to implement the Game of Life using numpy arrays? (★★★)"
      ]
    },
    {
      "cell_type": "code",
      "execution_count": null,
      "metadata": {
        "id": "bnX4bA_s_SXy"
      },
      "outputs": [],
      "source": [
        ""
      ]
    },
    {
      "cell_type": "markdown",
      "metadata": {
        "id": "IsJ3wrhC_SXy"
      },
      "source": [
        "#### 89. How to get the n largest values of an array (★★★) \n",
        "(**hint**: np.argsort | np.argpartition)"
      ]
    },
    {
      "cell_type": "code",
      "execution_count": null,
      "metadata": {
        "id": "rYz822Fw_SXz"
      },
      "outputs": [],
      "source": [
        ""
      ]
    },
    {
      "cell_type": "markdown",
      "metadata": {
        "id": "73VlAv0r_SXz"
      },
      "source": [
        "#### 90. Given an arbitrary number of vectors, build the cartesian product (every combinations of every item) (★★★) \n",
        "(**hint**: np.indices)"
      ]
    },
    {
      "cell_type": "code",
      "execution_count": null,
      "metadata": {
        "scrolled": true,
        "id": "AWkxTArd_SX0"
      },
      "outputs": [],
      "source": [
        ""
      ]
    },
    {
      "cell_type": "markdown",
      "metadata": {
        "id": "FihfiG4W_SX0"
      },
      "source": [
        "#### 91. How to create a record array from a regular array? (★★★) \n",
        "(**hint**: np.core.records.fromarrays)"
      ]
    },
    {
      "cell_type": "code",
      "execution_count": null,
      "metadata": {
        "id": "do4nj5qZ_SX0"
      },
      "outputs": [],
      "source": [
        ""
      ]
    },
    {
      "cell_type": "markdown",
      "metadata": {
        "id": "igFGTfcV_SX1"
      },
      "source": [
        "#### 92. Consider a large vector Z, compute Z to the power of 3 using 3 different methods (★★★) \n",
        "(**hint**: np.power, \\*, np.einsum)"
      ]
    },
    {
      "cell_type": "code",
      "execution_count": null,
      "metadata": {
        "id": "4U4bUFf9_SX1"
      },
      "outputs": [],
      "source": [
        ""
      ]
    },
    {
      "cell_type": "markdown",
      "metadata": {
        "id": "UAHWbs1c_SX1"
      },
      "source": [
        "#### 93. Consider two arrays A and B of shape (8,3) and (2,2). How to find rows of A that contain elements of each row of B regardless of the order of the elements in B? (★★★) \n",
        "(**hint**: np.where)"
      ]
    },
    {
      "cell_type": "code",
      "execution_count": null,
      "metadata": {
        "id": "RI-4Cpte_SX2"
      },
      "outputs": [],
      "source": [
        ""
      ]
    },
    {
      "cell_type": "markdown",
      "metadata": {
        "id": "4v1iHlt3_SX2"
      },
      "source": [
        "#### 94. Considering a 10x3 matrix, extract rows with unequal values (e.g. \\[2,2,3\\]) (★★★)"
      ]
    },
    {
      "cell_type": "code",
      "execution_count": null,
      "metadata": {
        "id": "flny8Ze6_SX2"
      },
      "outputs": [],
      "source": [
        ""
      ]
    },
    {
      "cell_type": "markdown",
      "metadata": {
        "id": "WBJa3rC-_SX2"
      },
      "source": [
        "#### 95. Convert a vector of ints into a matrix binary representation (★★★) \n",
        "(**hint**: np.unpackbits)"
      ]
    },
    {
      "cell_type": "code",
      "execution_count": null,
      "metadata": {
        "id": "OD6OQDZw_SX3"
      },
      "outputs": [],
      "source": [
        ""
      ]
    },
    {
      "cell_type": "markdown",
      "metadata": {
        "id": "WxBRbK4s_SX3"
      },
      "source": [
        "#### 96. Given a two dimensional array, how to extract unique rows? (★★★) \n",
        "(**hint**: np.ascontiguousarray)"
      ]
    },
    {
      "cell_type": "code",
      "execution_count": null,
      "metadata": {
        "id": "Tt8tL7ly_SX3"
      },
      "outputs": [],
      "source": [
        ""
      ]
    },
    {
      "cell_type": "markdown",
      "metadata": {
        "id": "-xbNpHuB_SX4"
      },
      "source": [
        "#### 97. Considering 2 vectors A & B, write the einsum equivalent of inner, outer, sum, and mul function (★★★) \n",
        "(**hint**: np.einsum)"
      ]
    },
    {
      "cell_type": "code",
      "execution_count": null,
      "metadata": {
        "id": "yqgkihX7_SX4"
      },
      "outputs": [],
      "source": [
        ""
      ]
    },
    {
      "cell_type": "markdown",
      "metadata": {
        "id": "HKdu8buB_SX4"
      },
      "source": [
        "#### 98. Considering a path described by two vectors (X,Y), how to sample it using equidistant samples (★★★)? \n",
        "(**hint**: np.cumsum, np.interp)"
      ]
    },
    {
      "cell_type": "code",
      "execution_count": null,
      "metadata": {
        "collapsed": true,
        "id": "koALz5P5_SX4"
      },
      "outputs": [],
      "source": [
        ""
      ]
    },
    {
      "cell_type": "markdown",
      "metadata": {
        "id": "frx28W1Q_SX4"
      },
      "source": [
        "#### 99. Given an integer n and a 2D array X, select from X the rows which can be interpreted as draws from a multinomial distribution with n degrees, i.e., the rows which only contain integers and which sum to n. (★★★) \n",
        "(**hint**: np.logical\\_and.reduce, np.mod)"
      ]
    },
    {
      "cell_type": "code",
      "execution_count": null,
      "metadata": {
        "id": "euelfHX2_SX5"
      },
      "outputs": [],
      "source": [
        ""
      ]
    },
    {
      "cell_type": "markdown",
      "metadata": {
        "id": "fc7FDW_W_SX5"
      },
      "source": [
        "#### 100. Compute bootstrapped 95% confidence intervals for the mean of a 1D array X (i.e., resample the elements of an array with replacement N times, compute the mean of each sample, and then compute percentiles over the means). (★★★) \n",
        "(**hint**: np.percentile)"
      ]
    },
    {
      "cell_type": "code",
      "execution_count": null,
      "metadata": {
        "id": "loBsBDTG_SX5"
      },
      "outputs": [],
      "source": [
        ""
      ]
    }
  ],
  "metadata": {
    "kernelspec": {
      "display_name": "Python 3",
      "language": "python",
      "name": "python3"
    },
    "language_info": {
      "codemirror_mode": {
        "name": "ipython",
        "version": 3
      },
      "file_extension": ".py",
      "mimetype": "text/x-python",
      "name": "python",
      "nbconvert_exporter": "python",
      "pygments_lexer": "ipython3",
      "version": "3.8.3"
    },
    "colab": {
      "name": "3Numpy_tasks.ipynb",
      "provenance": []
    }
  },
  "nbformat": 4,
  "nbformat_minor": 0
}