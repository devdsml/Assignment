{
  "nbformat": 4,
  "nbformat_minor": 0,
  "metadata": {
    "colab": {
      "name": "1LoginRegistration.ipynb",
      "provenance": []
    },
    "kernelspec": {
      "name": "python3",
      "display_name": "Python 3"
    },
    "language_info": {
      "name": "python"
    }
  },
  "cells": [
    {
      "cell_type": "code",
      "execution_count": 27,
      "metadata": {
        "colab": {
          "base_uri": "https://localhost:8080/"
        },
        "id": "C9-GNVjSA_Cs",
        "outputId": "00b2a9d4-8f9c-4ad3-d062-02e752ceea96"
      },
      "outputs": [
        {
          "output_type": "stream",
          "name": "stdout",
          "text": [
            "Existing user Enter 1 to Login \n",
            " New User Enter 2 to Register 2\n",
            "Enter Mail Id:user2@gmail.com\n",
            "Enter Password: /n Make sure it has 1 specialchar,1digit,1uppercase,1lowercase,6 t0 16 charPassword2&\n",
            "User created\n"
          ]
        }
      ],
      "source": [
        "import re\n",
        "#Login\n",
        "def exuser():\n",
        "  uname=input(\"Enter Username\")\n",
        "  paswd=input(\"Enter Password\")\n",
        "  efl = open('user_db.txt', 'r')\n",
        "  for line in efl.readlines():\n",
        "     unme, pword = line.split(\",\")\n",
        "     if (uname == unme and paswd == pword):\n",
        "       print(\"Login Successfull\")\n",
        "       \n",
        "       \n",
        "       break\n",
        "     else:\n",
        "       print('Wrong Username or Password')\n",
        "       ck=input(\"Enter 1 to try again \\n2 if forgot pass\\n3 to register\") \n",
        "       if ck=='1':\n",
        "         exuser()\n",
        "       elif ck=='2':\n",
        "           a=input(\"Enter Username\")\n",
        "           efl = open('user_db.txt', 'r')\n",
        "           for line in efl.readlines():\n",
        "             # This expects each line of a file to be (name, pass) seperated by whitespace\n",
        "             uname, pword = line.split(\",\")\n",
        "             if (uname == a): \n",
        "                  print('Your password is: ', pword)\n",
        "                  break\n",
        "               \n",
        "       elif ck=='3':\n",
        "         nuser()\n",
        "\n",
        "\n",
        "\n",
        "#Register\n",
        "def nuser():\n",
        " umail=input(\"Enter Mail Id:\")\n",
        " \n",
        " if umail.endswith(\"@gmail.com\") == True and umail[:-10].isalnum() == True:\n",
        "   upaswd=input(\"Enter Password: /n Make sure it has 1 specialchar,1digit,1uppercase,1lowercase,6 t0 16 char\")\n",
        "   pchk = re.compile(\"^(?=.*[a-z])(?=.*[A-Z])(?=.*\\d)(?=.*[@$!%*#?&])[A-Za-z\\d@$!#%*?&]{6,20}$\")\n",
        "   if re.search(pchk, upaswd):\n",
        "     fl=open(\"user_db.txt\",\"a\")\n",
        "     fl.write(umail+\",\"+upaswd+\"\\n\")\n",
        "     fl.close()\n",
        "     print(\"User created\")\n",
        "   else:\n",
        "     print(\"Invalid Password try again\")\n",
        "     nuser()  \n",
        " else:\n",
        "   print(\"Invalid Mail Id try again\")\n",
        "   nuser()\n",
        "  \n",
        " \n",
        "\n",
        "#Login/Register\n",
        "def ivaldt():\n",
        " a=input(\"Existing user Enter 1 to Login \\n New User Enter 2 to Register \")\n",
        " if a=='1':\n",
        "  exuser()\n",
        " elif a=='2':\n",
        "  nuser() \n",
        " else:\n",
        "  print(\"Invalid Input\") \n",
        "  ivaldt()  \n",
        "\n",
        "ivaldt()\n",
        "\n",
        "\n"
      ]
    },
    {
      "cell_type": "code",
      "source": [
        ""
      ],
      "metadata": {
        "id": "ybhD1ddNH0vV"
      },
      "execution_count": null,
      "outputs": []
    },
    {
      "cell_type": "code",
      "source": [
        ""
      ],
      "metadata": {
        "id": "PDMQEDoFHxPU"
      },
      "execution_count": null,
      "outputs": []
    }
  ]
}